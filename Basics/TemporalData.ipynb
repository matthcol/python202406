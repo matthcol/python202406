{
 "cells": [
  {
   "cell_type": "markdown",
   "id": "e9b23bec-f0a5-42fa-85af-0a9bc2c35ed1",
   "metadata": {},
   "source": [
    "# Temporal data types\n",
    "- python: ISO 8061\n",
    "    - module datetime: classes datetime, date, time, tzinfo, timedelta\n",
    "- pytz: dictionary of tzinfo 'Europe/Paris'\n",
    "- numpy/pandas: datetime64, ... (more precise: ns, fs, ...)\n",
    "\n",
    "![\"Timezone Map\"](https://upload.wikimedia.org/wikipedia/commons/8/88/World_Time_Zones_Map.png)\n",
    "Source: https://fr.wikipedia.org/wiki/Liste_des_fuseaux_horaires"
   ]
  },
  {
   "cell_type": "code",
   "execution_count": 1,
   "id": "5ad5ab96-5c14-4c09-9618-b036f9c2889b",
   "metadata": {},
   "outputs": [],
   "source": [
    "from datetime import datetime, date, time, timedelta\n",
    "import pytz\n",
    "import locale"
   ]
  },
  {
   "cell_type": "markdown",
   "id": "85e2edd3-4ad0-4a51-a033-486de13088ba",
   "metadata": {},
   "source": [
    "## Datetime objects"
   ]
  },
  {
   "cell_type": "markdown",
   "id": "37e220a7-d29a-4bc0-95b2-a5427bd41f99",
   "metadata": {},
   "source": [
    "### Creation"
   ]
  },
  {
   "cell_type": "code",
   "execution_count": 2,
   "id": "b037a3b3-1de7-42e4-adc6-266aaa78cea7",
   "metadata": {},
   "outputs": [
    {
     "data": {
      "text/plain": [
       "datetime.datetime(2024, 6, 13, 12, 42, 46, 537916)"
      ]
     },
     "execution_count": 2,
     "metadata": {},
     "output_type": "execute_result"
    }
   ],
   "source": [
    "# system datetime by calling class method now\n",
    "dt = datetime.now()\n",
    "dt"
   ]
  },
  {
   "cell_type": "code",
   "execution_count": 3,
   "id": "9f6f5772-79c9-4244-9ac0-f2652283029e",
   "metadata": {},
   "outputs": [
    {
     "data": {
      "text/plain": [
       "datetime.datetime(2024, 2, 29, 13, 45)"
      ]
     },
     "execution_count": 3,
     "metadata": {},
     "output_type": "execute_result"
    }
   ],
   "source": [
    "# create dt with constructor\n",
    "dt1 = datetime(2024, 2, 29, 13, 45)\n",
    "dt1"
   ]
  },
  {
   "cell_type": "code",
   "execution_count": 4,
   "id": "f492de86-fc66-4090-8856-dc89325e8644",
   "metadata": {},
   "outputs": [
    {
     "name": "stdout",
     "output_type": "stream",
     "text": [
      "2024-06-13 12:42:46.537916 ; 2024-02-29 13:45:00\n"
     ]
    }
   ],
   "source": [
    "# str of temporal data: ISO format\n",
    "print(dt, dt1, sep=' ; ')"
   ]
  },
  {
   "cell_type": "code",
   "execution_count": 5,
   "id": "ed7a2518-a935-4965-a70f-1ddad80c75d6",
   "metadata": {},
   "outputs": [
    {
     "data": {
      "text/plain": [
       "datetime.datetime"
      ]
     },
     "execution_count": 5,
     "metadata": {},
     "output_type": "execute_result"
    }
   ],
   "source": [
    "type(dt)"
   ]
  },
  {
   "cell_type": "markdown",
   "id": "7613258e-4349-4624-9fc6-f0b3e0fdd712",
   "metadata": {},
   "source": [
    "### attributes, operators, display"
   ]
  },
  {
   "cell_type": "code",
   "execution_count": 6,
   "id": "bf5308bf-beec-4316-a93a-f7eaf8c8646d",
   "metadata": {},
   "outputs": [
    {
     "name": "stdout",
     "output_type": "stream",
     "text": [
      "2024, 6, 13, 12, 42, 46, 537916, None\n"
     ]
    }
   ],
   "source": [
    "print(dt.year, dt.month, dt.day, dt.hour, dt.minute, dt.second, dt.microsecond, dt.tzinfo, sep=', ')"
   ]
  },
  {
   "cell_type": "code",
   "execution_count": 7,
   "id": "be1070b5-f279-48b0-884e-bd921deedc35",
   "metadata": {},
   "outputs": [
    {
     "data": {
      "text/plain": [
       "(datetime.datetime(1, 1, 1, 0, 0),\n",
       " datetime.datetime(9999, 12, 31, 23, 59, 59, 999999))"
      ]
     },
     "execution_count": 7,
     "metadata": {},
     "output_type": "execute_result"
    }
   ],
   "source": [
    "# class attribute (unique)\n",
    "datetime.min, datetime.max"
   ]
  },
  {
   "cell_type": "code",
   "execution_count": 8,
   "id": "7302092f-1b57-4adc-a148-88bf85b99030",
   "metadata": {},
   "outputs": [
    {
     "data": {
      "text/plain": [
       "True"
      ]
     },
     "execution_count": 8,
     "metadata": {},
     "output_type": "execute_result"
    }
   ],
   "source": [
    "dt1 < dt"
   ]
  },
  {
   "cell_type": "code",
   "execution_count": 9,
   "id": "09238c94-97fc-4ac1-9451-d93ff0a3a341",
   "metadata": {},
   "outputs": [
    {
     "data": {
      "text/plain": [
       "datetime.datetime(2024, 6, 13, 13, 27, 46, 537916)"
      ]
     },
     "execution_count": 9,
     "metadata": {},
     "output_type": "execute_result"
    }
   ],
   "source": [
    "dt + timedelta(minutes=45)"
   ]
  },
  {
   "cell_type": "code",
   "execution_count": 10,
   "id": "2f3f36d3-7bfc-4900-a6ab-814d0a60b673",
   "metadata": {},
   "outputs": [
    {
     "data": {
      "text/plain": [
       "datetime.timedelta(days=104, seconds=82666, microseconds=537916)"
      ]
     },
     "execution_count": 10,
     "metadata": {},
     "output_type": "execute_result"
    }
   ],
   "source": [
    "dt - dt1"
   ]
  },
  {
   "cell_type": "code",
   "execution_count": 11,
   "id": "7c9b8136-3886-459c-afe8-10cac05b66bf",
   "metadata": {},
   "outputs": [
    {
     "data": {
      "text/plain": [
       "[datetime.datetime(2024, 1, 1, 18, 30),\n",
       " datetime.datetime(2024, 2, 29, 13, 45),\n",
       " datetime.datetime(2024, 6, 13, 12, 42, 46, 537916),\n",
       " datetime.datetime(2024, 6, 13, 17, 0),\n",
       " datetime.datetime(2024, 7, 14, 12, 0)]"
      ]
     },
     "execution_count": 11,
     "metadata": {},
     "output_type": "execute_result"
    }
   ],
   "source": [
    "dt3 = datetime(2024, 7, 14, 12)\n",
    "dt4 = datetime(2024, 1, 1, 18, 30)\n",
    "dt5 = datetime(dt.year, dt.month, dt.day, 17)\n",
    "liste_dt = [dt, dt1, dt3, dt4, dt5]\n",
    "liste_dt.sort()\n",
    "liste_dt"
   ]
  },
  {
   "cell_type": "markdown",
   "id": "a3b44104-c549-4658-aa01-90d838e5f6c5",
   "metadata": {},
   "source": [
    "### Format and parse"
   ]
  },
  {
   "cell_type": "code",
   "execution_count": 12,
   "id": "2c9a6db3-4c12-4588-aba9-b0b19950370a",
   "metadata": {},
   "outputs": [
    {
     "data": {
      "text/plain": [
       "'12:42 le 13/06/2024'"
      ]
     },
     "execution_count": 12,
     "metadata": {},
     "output_type": "execute_result"
    }
   ],
   "source": [
    "dt.strftime('%H:%M le %d/%m/%Y')"
   ]
  },
  {
   "cell_type": "code",
   "execution_count": 13,
   "id": "bad76e4c-979e-42ea-8119-4df36bf40445",
   "metadata": {},
   "outputs": [
    {
     "data": {
      "text/plain": [
       "'12h42 le Thursday 13 June 2024'"
      ]
     },
     "execution_count": 13,
     "metadata": {},
     "output_type": "execute_result"
    }
   ],
   "source": [
    "# other format: 11h46 jeudi 13 juin 2024\n",
    "dt.strftime('%Hh%M le %A %d %B %Y')"
   ]
  },
  {
   "cell_type": "code",
   "execution_count": 14,
   "id": "c5b0ae6c-a51a-40e9-a45d-73fbbad3c86d",
   "metadata": {},
   "outputs": [
    {
     "data": {
      "text/plain": [
       "('fr_FR', 'cp1252')"
      ]
     },
     "execution_count": 14,
     "metadata": {},
     "output_type": "execute_result"
    }
   ],
   "source": [
    "locale.getlocale()"
   ]
  },
  {
   "cell_type": "code",
   "execution_count": 15,
   "id": "bcf85fdf-0273-4eaf-b372-56c4ad83f121",
   "metadata": {},
   "outputs": [
    {
     "name": "stdout",
     "output_type": "stream",
     "text": [
      "5 -> (None, None)\n",
      "3 -> (None, None)\n",
      "1 -> (None, None)\n",
      "4 -> (None, None)\n"
     ]
    }
   ],
   "source": [
    "for cat in locale.LC_TIME, locale.LC_MONETARY, locale.LC_COLLATE, locale.LC_NUMERIC:\n",
    "    print(cat, locale.getlocale(cat), sep=' -> ')"
   ]
  },
  {
   "cell_type": "code",
   "execution_count": 16,
   "id": "d4007e9e-cda1-4209-bb43-c06c5f904646",
   "metadata": {},
   "outputs": [
    {
     "data": {
      "text/plain": [
       "'fr_FR'"
      ]
     },
     "execution_count": 16,
     "metadata": {},
     "output_type": "execute_result"
    }
   ],
   "source": [
    "locale.setlocale(locale.LC_ALL, 'fr_FR')"
   ]
  },
  {
   "cell_type": "code",
   "execution_count": 17,
   "id": "a05384f2-5dc6-457a-9a8c-546726f1f118",
   "metadata": {},
   "outputs": [
    {
     "name": "stdout",
     "output_type": "stream",
     "text": [
      "5 -> ('fr_FR', 'ISO8859-1')\n",
      "3 -> ('fr_FR', 'ISO8859-1')\n",
      "1 -> ('fr_FR', 'ISO8859-1')\n",
      "4 -> ('fr_FR', 'ISO8859-1')\n"
     ]
    }
   ],
   "source": [
    "for cat in locale.LC_TIME, locale.LC_MONETARY, locale.LC_COLLATE, locale.LC_NUMERIC:\n",
    "    print(cat, locale.getlocale(cat), sep=' -> ')"
   ]
  },
  {
   "cell_type": "code",
   "execution_count": 18,
   "id": "610e6dbc-1dd8-4461-aa3f-056178f0bc29",
   "metadata": {},
   "outputs": [
    {
     "data": {
      "text/plain": [
       "'12h42 le jeudi 13 juin 2024'"
      ]
     },
     "execution_count": 18,
     "metadata": {},
     "output_type": "execute_result"
    }
   ],
   "source": [
    "# other format: 11h46 jeudi 13 juin 2024\n",
    "dt.strftime('%Hh%M le %A %d %B %Y')"
   ]
  },
  {
   "cell_type": "code",
   "execution_count": 19,
   "id": "cd87cef3-2c39-4b48-9d77-f784ce0cf86a",
   "metadata": {},
   "outputs": [],
   "source": [
    "# convert into datetime these str datas\n",
    "dt_str1 = '2024-12-31 23:59:57'\n",
    "dt_str2 = '23:59 31/12/2024'"
   ]
  },
  {
   "cell_type": "code",
   "execution_count": 20,
   "id": "967d7276-0e77-494a-aad4-3c45b815d4ba",
   "metadata": {},
   "outputs": [
    {
     "data": {
      "text/plain": [
       "datetime.datetime(2024, 12, 31, 23, 59, 57)"
      ]
     },
     "execution_count": 20,
     "metadata": {},
     "output_type": "execute_result"
    }
   ],
   "source": [
    "datetime.strptime(dt_str1, '%Y-%m-%d %H:%M:%S')"
   ]
  },
  {
   "cell_type": "code",
   "execution_count": 21,
   "id": "7a077c37-8967-4755-a263-c63ecbb63edf",
   "metadata": {},
   "outputs": [
    {
     "data": {
      "text/plain": [
       "datetime.datetime(2024, 12, 31, 23, 59, 57)"
      ]
     },
     "execution_count": 21,
     "metadata": {},
     "output_type": "execute_result"
    }
   ],
   "source": [
    "datetime.fromisoformat(dt_str1)"
   ]
  },
  {
   "cell_type": "code",
   "execution_count": 22,
   "id": "79cc38e3-f5e6-4731-b1b8-3c1d129132ec",
   "metadata": {},
   "outputs": [
    {
     "data": {
      "text/plain": [
       "datetime.datetime(2024, 12, 31, 23, 59)"
      ]
     },
     "execution_count": 22,
     "metadata": {},
     "output_type": "execute_result"
    }
   ],
   "source": [
    "datetime.strptime(dt_str2, '%H:%M %d/%m/%Y')"
   ]
  },
  {
   "cell_type": "markdown",
   "id": "0bfa34c3-19c3-47c2-b49c-e63c5b4e1749",
   "metadata": {},
   "source": [
    "### Timezones"
   ]
  },
  {
   "cell_type": "code",
   "execution_count": 23,
   "id": "5ac7ccff-97ad-4e0f-b2f0-6d6e282d1c0c",
   "metadata": {},
   "outputs": [
    {
     "data": {
      "text/plain": [
       "<DstTzInfo 'Australia/Sydney' LMT+10:05:00 STD>"
      ]
     },
     "execution_count": 23,
     "metadata": {},
     "output_type": "execute_result"
    }
   ],
   "source": [
    "tz_sydney = pytz.timezone('Australia/Sydney')\n",
    "tz_sydney"
   ]
  },
  {
   "cell_type": "code",
   "execution_count": 24,
   "id": "6a4fcb5c-8660-4505-8fd8-55305e284528",
   "metadata": {},
   "outputs": [
    {
     "data": {
      "text/plain": [
       "datetime.datetime(2024, 6, 13, 20, 42, 46, 922993, tzinfo=<DstTzInfo 'Australia/Sydney' AEST+10:00:00 STD>)"
      ]
     },
     "execution_count": 24,
     "metadata": {},
     "output_type": "execute_result"
    }
   ],
   "source": [
    "dt_sydney = datetime.now(tz=tz_sydney)\n",
    "dt_sydney"
   ]
  },
  {
   "cell_type": "code",
   "execution_count": 25,
   "id": "a56d363c-817a-478d-a54c-02c1ca2c53da",
   "metadata": {},
   "outputs": [],
   "source": [
    "tz_fr = pytz.timezone('Europe/Paris')\n",
    "tz_la = pytz.timezone('America/Los_Angeles')"
   ]
  },
  {
   "cell_type": "code",
   "execution_count": 26,
   "id": "fb3e84e9-9caf-4b23-abcf-a3bb12503cb3",
   "metadata": {},
   "outputs": [
    {
     "name": "stdout",
     "output_type": "stream",
     "text": [
      "Australia/Sydney:  2024-06-13 20:42:46.937028+10:00\n",
      "Europe/Paris:  2024-06-13 12:42:46.937028+02:00\n",
      "America/Los_Angeles:  2024-06-13 03:42:46.937028-07:00\n"
     ]
    }
   ],
   "source": [
    "for tz in tz_sydney, tz_fr, tz_la:\n",
    "    dt_somewhere = datetime.now(tz=tz)\n",
    "    print(tz, dt_somewhere, sep=':  ')"
   ]
  },
  {
   "cell_type": "markdown",
   "id": "4a94e371-5b9e-4eb3-b285-5184bea9b495",
   "metadata": {},
   "source": [
    "## Date objects"
   ]
  },
  {
   "cell_type": "code",
   "execution_count": 27,
   "id": "94e61d26-593d-4393-b4b5-ceab507dfeaa",
   "metadata": {},
   "outputs": [
    {
     "data": {
      "text/plain": [
       "datetime.date(2024, 6, 13)"
      ]
     },
     "execution_count": 27,
     "metadata": {},
     "output_type": "execute_result"
    }
   ],
   "source": [
    "d1 = date.today()\n",
    "d1"
   ]
  },
  {
   "cell_type": "code",
   "execution_count": 28,
   "id": "56ccbfc6-6041-4435-9072-a846a8f4625f",
   "metadata": {},
   "outputs": [
    {
     "data": {
      "text/plain": [
       "datetime.date(2024, 2, 29)"
      ]
     },
     "execution_count": 28,
     "metadata": {},
     "output_type": "execute_result"
    }
   ],
   "source": [
    "d2 = date(2024, 2, 29)\n",
    "d2"
   ]
  },
  {
   "cell_type": "code",
   "execution_count": 29,
   "id": "bcc1887f-3574-4757-9676-7a0475c97955",
   "metadata": {},
   "outputs": [
    {
     "data": {
      "text/plain": [
       "datetime.date(2024, 1, 1)"
      ]
     },
     "execution_count": 29,
     "metadata": {},
     "output_type": "execute_result"
    }
   ],
   "source": [
    "d3 = dt4.date()\n",
    "d3"
   ]
  },
  {
   "cell_type": "code",
   "execution_count": null,
   "id": "42381833-30cc-45dc-9b06-6bf57d1c42ab",
   "metadata": {},
   "outputs": [],
   "source": []
  }
 ],
 "metadata": {
  "kernelspec": {
   "display_name": "Python 3 (ipykernel)",
   "language": "python",
   "name": "python3"
  },
  "language_info": {
   "codemirror_mode": {
    "name": "ipython",
    "version": 3
   },
   "file_extension": ".py",
   "mimetype": "text/x-python",
   "name": "python",
   "nbconvert_exporter": "python",
   "pygments_lexer": "ipython3",
   "version": "3.11.7"
  }
 },
 "nbformat": 4,
 "nbformat_minor": 5
}
