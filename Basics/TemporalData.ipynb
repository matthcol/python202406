{
 "cells": [
  {
   "cell_type": "markdown",
   "id": "e9b23bec-f0a5-42fa-85af-0a9bc2c35ed1",
   "metadata": {},
   "source": [
    "# Temporal data types\n",
    "- python: ISO 8061\n",
    "    - module datetime: classes datetime, date, time, tzinfo, timedelta\n",
    "- pytz: dictionary of tzinfo 'Europe/Paris'\n",
    "- numpy/pandas: datetime64, ... (more precise: ns, fs, ...)\n",
    "\n",
    "![\"Timezone Map\"](https://upload.wikimedia.org/wikipedia/commons/8/88/World_Time_Zones_Map.png)\n",
    "Source: https://fr.wikipedia.org/wiki/Liste_des_fuseaux_horaires"
   ]
  },
  {
   "cell_type": "code",
   "execution_count": 1,
   "id": "5ad5ab96-5c14-4c09-9618-b036f9c2889b",
   "metadata": {},
   "outputs": [],
   "source": [
    "from datetime import datetime, date, time, timedelta\n",
    "import pytz\n",
    "import locale"
   ]
  },
  {
   "cell_type": "markdown",
   "id": "85e2edd3-4ad0-4a51-a033-486de13088ba",
   "metadata": {},
   "source": [
    "## Datetime objects"
   ]
  },
  {
   "cell_type": "markdown",
   "id": "37e220a7-d29a-4bc0-95b2-a5427bd41f99",
   "metadata": {},
   "source": [
    "### Creation"
   ]
  },
  {
   "cell_type": "code",
   "execution_count": 2,
   "id": "b037a3b3-1de7-42e4-adc6-266aaa78cea7",
   "metadata": {},
   "outputs": [
    {
     "data": {
      "text/plain": [
       "datetime.datetime(2024, 6, 13, 12, 42, 46, 537916)"
      ]
     },
     "execution_count": 2,
     "metadata": {},
     "output_type": "execute_result"
    }
   ],
   "source": [
    "# system datetime by calling class method now\n",
    "dt = datetime.now()\n",
    "dt"
   ]
  },
  {
   "cell_type": "code",
   "execution_count": 3,
   "id": "9f6f5772-79c9-4244-9ac0-f2652283029e",
   "metadata": {},
   "outputs": [
    {
     "data": {
      "text/plain": [
       "datetime.datetime(2024, 2, 29, 13, 45)"
      ]
     },
     "execution_count": 3,
     "metadata": {},
     "output_type": "execute_result"
    }
   ],
   "source": [
    "# create dt with constructor\n",
    "dt1 = datetime(2024, 2, 29, 13, 45)\n",
    "dt1"
   ]
  },
  {
   "cell_type": "code",
   "execution_count": 4,
   "id": "f492de86-fc66-4090-8856-dc89325e8644",
   "metadata": {},
   "outputs": [
    {
     "name": "stdout",
     "output_type": "stream",
     "text": [
      "2024-06-13 12:42:46.537916 ; 2024-02-29 13:45:00\n"
     ]
    }
   ],
   "source": [
    "# str of temporal data: ISO format\n",
    "print(dt, dt1, sep=' ; ')"
   ]
  },
  {
   "cell_type": "code",
   "execution_count": 5,
   "id": "ed7a2518-a935-4965-a70f-1ddad80c75d6",
   "metadata": {},
   "outputs": [
    {
     "data": {
      "text/plain": [
       "datetime.datetime"
      ]
     },
     "execution_count": 5,
     "metadata": {},
     "output_type": "execute_result"
    }
   ],
   "source": [
    "type(dt)"
   ]
  },
  {
   "cell_type": "markdown",
   "id": "7613258e-4349-4624-9fc6-f0b3e0fdd712",
   "metadata": {},
   "source": [
    "### attributes, operators, display"
   ]
  },
  {
   "cell_type": "code",
   "execution_count": 6,
   "id": "bf5308bf-beec-4316-a93a-f7eaf8c8646d",
   "metadata": {},
   "outputs": [
    {
     "name": "stdout",
     "output_type": "stream",
     "text": [
      "2024, 6, 13, 12, 42, 46, 537916, None\n"
     ]
    }
   ],
   "source": [
    "print(dt.year, dt.month, dt.day, dt.hour, dt.minute, dt.second, dt.microsecond, dt.tzinfo, sep=', ')"
   ]
  },
  {
   "cell_type": "code",
   "execution_count": 7,
   "id": "be1070b5-f279-48b0-884e-bd921deedc35",
   "metadata": {},
   "outputs": [
    {
     "data": {
      "text/plain": [
       "(datetime.datetime(1, 1, 1, 0, 0),\n",
       " datetime.datetime(9999, 12, 31, 23, 59, 59, 999999))"
      ]
     },
     "execution_count": 7,
     "metadata": {},
     "output_type": "execute_result"
    }
   ],
   "source": [
    "# class attribute (unique)\n",
    "datetime.min, datetime.max"
   ]
  },
  {
   "cell_type": "code",
   "execution_count": 8,
   "id": "7302092f-1b57-4adc-a148-88bf85b99030",
   "metadata": {},
   "outputs": [
    {
     "data": {
      "text/plain": [
       "True"
      ]
     },
     "execution_count": 8,
     "metadata": {},
     "output_type": "execute_result"
    }
   ],
   "source": [
    "dt1 < dt"
   ]
  },
  {
   "cell_type": "code",
   "execution_count": 9,
   "id": "09238c94-97fc-4ac1-9451-d93ff0a3a341",
   "metadata": {},
   "outputs": [
    {
     "data": {
      "text/plain": [
       "datetime.datetime(2024, 6, 13, 13, 27, 46, 537916)"
      ]
     },
     "execution_count": 9,
     "metadata": {},
     "output_type": "execute_result"
    }
   ],
   "source": [
    "dt + timedelta(minutes=45)"
   ]
  },
  {
   "cell_type": "code",
   "execution_count": 10,
   "id": "2f3f36d3-7bfc-4900-a6ab-814d0a60b673",
   "metadata": {},
   "outputs": [
    {
     "data": {
      "text/plain": [
       "datetime.timedelta(days=104, seconds=82666, microseconds=537916)"
      ]
     },
     "execution_count": 10,
     "metadata": {},
     "output_type": "execute_result"
    }
   ],
   "source": [
    "dt - dt1"
   ]
  },
  {
   "cell_type": "code",
   "execution_count": 11,
   "id": "7c9b8136-3886-459c-afe8-10cac05b66bf",
   "metadata": {},
   "outputs": [
    {
     "data": {
      "text/plain": [
       "[datetime.datetime(2024, 1, 1, 18, 30),\n",
       " datetime.datetime(2024, 2, 29, 13, 45),\n",
       " datetime.datetime(2024, 6, 13, 12, 42, 46, 537916),\n",
       " datetime.datetime(2024, 6, 13, 17, 0),\n",
       " datetime.datetime(2024, 7, 14, 12, 0)]"
      ]
     },
     "execution_count": 11,
     "metadata": {},
     "output_type": "execute_result"
    }
   ],
   "source": [
    "dt3 = datetime(2024, 7, 14, 12)\n",
    "dt4 = datetime(2024, 1, 1, 18, 30)\n",
    "dt5 = datetime(dt.year, dt.month, dt.day, 17)\n",
    "liste_dt = [dt, dt1, dt3, dt4, dt5]\n",
    "liste_dt.sort()\n",
    "liste_dt"
   ]
  },
  {
   "cell_type": "markdown",
   "id": "a3b44104-c549-4658-aa01-90d838e5f6c5",
   "metadata": {},
   "source": [
    "### Format and parse"
   ]
  },
  {
   "cell_type": "code",
   "execution_count": 12,
   "id": "2c9a6db3-4c12-4588-aba9-b0b19950370a",
   "metadata": {},
   "outputs": [
    {
     "data": {
      "text/plain": [
       "'12:42 le 13/06/2024'"
      ]
     },
     "execution_count": 12,
     "metadata": {},
     "output_type": "execute_result"
    }
   ],
   "source": [
    "dt.strftime('%H:%M le %d/%m/%Y')"
   ]
  },
  {
   "cell_type": "code",
   "execution_count": 13,
   "id": "bad76e4c-979e-42ea-8119-4df36bf40445",
   "metadata": {},
   "outputs": [
    {
     "data": {
      "text/plain": [
       "'12h42 le Thursday 13 June 2024'"
      ]
     },
     "execution_count": 13,
     "metadata": {},
     "output_type": "execute_result"
    }
   ],
   "source": [
    "# other format: 11h46 jeudi 13 juin 2024\n",
    "dt.strftime('%Hh%M le %A %d %B %Y')"
   ]
  },
  {
   "cell_type": "code",
   "execution_count": 14,
   "id": "c5b0ae6c-a51a-40e9-a45d-73fbbad3c86d",
   "metadata": {},
   "outputs": [
    {
     "data": {
      "text/plain": [
       "('fr_FR', 'cp1252')"
      ]
     },
     "execution_count": 14,
     "metadata": {},
     "output_type": "execute_result"
    }
   ],
   "source": [
    "locale.getlocale()"
   ]
  },
  {
   "cell_type": "code",
   "execution_count": 15,
   "id": "bcf85fdf-0273-4eaf-b372-56c4ad83f121",
   "metadata": {},
   "outputs": [
    {
     "name": "stdout",
     "output_type": "stream",
     "text": [
      "5 -> (None, None)\n",
      "3 -> (None, None)\n",
      "1 -> (None, None)\n",
      "4 -> (None, None)\n"
     ]
    }
   ],
   "source": [
    "for cat in locale.LC_TIME, locale.LC_MONETARY, locale.LC_COLLATE, locale.LC_NUMERIC:\n",
    "    print(cat, locale.getlocale(cat), sep=' -> ')"
   ]
  },
  {
   "cell_type": "code",
   "execution_count": 16,
   "id": "d4007e9e-cda1-4209-bb43-c06c5f904646",
   "metadata": {},
   "outputs": [
    {
     "data": {
      "text/plain": [
       "'fr_FR'"
      ]
     },
     "execution_count": 16,
     "metadata": {},
     "output_type": "execute_result"
    }
   ],
   "source": [
    "locale.setlocale(locale.LC_ALL, 'fr_FR')"
   ]
  },
  {
   "cell_type": "code",
   "execution_count": 17,
   "id": "a05384f2-5dc6-457a-9a8c-546726f1f118",
   "metadata": {},
   "outputs": [
    {
     "name": "stdout",
     "output_type": "stream",
     "text": [
      "5 -> ('fr_FR', 'ISO8859-1')\n",
      "3 -> ('fr_FR', 'ISO8859-1')\n",
      "1 -> ('fr_FR', 'ISO8859-1')\n",
      "4 -> ('fr_FR', 'ISO8859-1')\n"
     ]
    }
   ],
   "source": [
    "for cat in locale.LC_TIME, locale.LC_MONETARY, locale.LC_COLLATE, locale.LC_NUMERIC:\n",
    "    print(cat, locale.getlocale(cat), sep=' -> ')"
   ]
  },
  {
   "cell_type": "code",
   "execution_count": 18,
   "id": "610e6dbc-1dd8-4461-aa3f-056178f0bc29",
   "metadata": {},
   "outputs": [
    {
     "data": {
      "text/plain": [
       "'12h42 le jeudi 13 juin 2024'"
      ]
     },
     "execution_count": 18,
     "metadata": {},
     "output_type": "execute_result"
    }
   ],
   "source": [
    "# other format: 11h46 jeudi 13 juin 2024\n",
    "dt.strftime('%Hh%M le %A %d %B %Y')"
   ]
  },
  {
   "cell_type": "code",
   "execution_count": 19,
   "id": "cd87cef3-2c39-4b48-9d77-f784ce0cf86a",
   "metadata": {},
   "outputs": [],
   "source": [
    "# convert into datetime these str datas\n",
    "dt_str1 = '2024-12-31 23:59:57'\n",
    "dt_str2 = '23:59 31/12/2024'"
   ]
  },
  {
   "cell_type": "code",
   "execution_count": 20,
   "id": "967d7276-0e77-494a-aad4-3c45b815d4ba",
   "metadata": {},
   "outputs": [
    {
     "data": {
      "text/plain": [
       "datetime.datetime(2024, 12, 31, 23, 59, 57)"
      ]
     },
     "execution_count": 20,
     "metadata": {},
     "output_type": "execute_result"
    }
   ],
   "source": [
    "datetime.strptime(dt_str1, '%Y-%m-%d %H:%M:%S')"
   ]
  },
  {
   "cell_type": "code",
   "execution_count": 21,
   "id": "7a077c37-8967-4755-a263-c63ecbb63edf",
   "metadata": {},
   "outputs": [
    {
     "data": {
      "text/plain": [
       "datetime.datetime(2024, 12, 31, 23, 59, 57)"
      ]
     },
     "execution_count": 21,
     "metadata": {},
     "output_type": "execute_result"
    }
   ],
   "source": [
    "datetime.fromisoformat(dt_str1)"
   ]
  },
  {
   "cell_type": "code",
   "execution_count": 22,
   "id": "79cc38e3-f5e6-4731-b1b8-3c1d129132ec",
   "metadata": {},
   "outputs": [
    {
     "data": {
      "text/plain": [
       "datetime.datetime(2024, 12, 31, 23, 59)"
      ]
     },
     "execution_count": 22,
     "metadata": {},
     "output_type": "execute_result"
    }
   ],
   "source": [
    "datetime.strptime(dt_str2, '%H:%M %d/%m/%Y')"
   ]
  },
  {
   "cell_type": "markdown",
   "id": "0bfa34c3-19c3-47c2-b49c-e63c5b4e1749",
   "metadata": {},
   "source": [
    "### Timezones"
   ]
  },
  {
   "cell_type": "code",
   "execution_count": 23,
   "id": "5ac7ccff-97ad-4e0f-b2f0-6d6e282d1c0c",
   "metadata": {},
   "outputs": [
    {
     "data": {
      "text/plain": [
       "<DstTzInfo 'Australia/Sydney' LMT+10:05:00 STD>"
      ]
     },
     "execution_count": 23,
     "metadata": {},
     "output_type": "execute_result"
    }
   ],
   "source": [
    "tz_sydney = pytz.timezone('Australia/Sydney')\n",
    "tz_sydney"
   ]
  },
  {
   "cell_type": "code",
   "execution_count": 24,
   "id": "6a4fcb5c-8660-4505-8fd8-55305e284528",
   "metadata": {},
   "outputs": [
    {
     "data": {
      "text/plain": [
       "datetime.datetime(2024, 6, 13, 20, 42, 46, 922993, tzinfo=<DstTzInfo 'Australia/Sydney' AEST+10:00:00 STD>)"
      ]
     },
     "execution_count": 24,
     "metadata": {},
     "output_type": "execute_result"
    }
   ],
   "source": [
    "dt_sydney = datetime.now(tz=tz_sydney)\n",
    "dt_sydney"
   ]
  },
  {
   "cell_type": "code",
   "execution_count": 25,
   "id": "a56d363c-817a-478d-a54c-02c1ca2c53da",
   "metadata": {},
   "outputs": [],
   "source": [
    "tz_fr = pytz.timezone('Europe/Paris')\n",
    "tz_la = pytz.timezone('America/Los_Angeles')"
   ]
  },
  {
   "cell_type": "code",
   "execution_count": 26,
   "id": "fb3e84e9-9caf-4b23-abcf-a3bb12503cb3",
   "metadata": {},
   "outputs": [
    {
     "name": "stdout",
     "output_type": "stream",
     "text": [
      "Australia/Sydney:  2024-06-13 20:42:46.937028+10:00\n",
      "Europe/Paris:  2024-06-13 12:42:46.937028+02:00\n",
      "America/Los_Angeles:  2024-06-13 03:42:46.937028-07:00\n"
     ]
    }
   ],
   "source": [
    "for tz in tz_sydney, tz_fr, tz_la:\n",
    "    dt_somewhere = datetime.now(tz=tz)\n",
    "    print(tz, dt_somewhere, sep=':  ')"
   ]
  },
  {
   "cell_type": "markdown",
   "id": "4a94e371-5b9e-4eb3-b285-5184bea9b495",
   "metadata": {},
   "source": [
    "## Date objects"
   ]
  },
  {
   "cell_type": "code",
   "execution_count": 27,
   "id": "94e61d26-593d-4393-b4b5-ceab507dfeaa",
   "metadata": {},
   "outputs": [
    {
     "data": {
      "text/plain": [
       "datetime.date(2024, 6, 13)"
      ]
     },
     "execution_count": 27,
     "metadata": {},
     "output_type": "execute_result"
    }
   ],
   "source": [
    "d1 = date.today()\n",
    "d1"
   ]
  },
  {
   "cell_type": "code",
   "execution_count": 28,
   "id": "56ccbfc6-6041-4435-9072-a846a8f4625f",
   "metadata": {},
   "outputs": [
    {
     "data": {
      "text/plain": [
       "datetime.date(2024, 2, 29)"
      ]
     },
     "execution_count": 28,
     "metadata": {},
     "output_type": "execute_result"
    }
   ],
   "source": [
    "d2 = date(2024, 2, 29)\n",
    "d2"
   ]
  },
  {
   "cell_type": "code",
   "execution_count": 29,
   "id": "bcc1887f-3574-4757-9676-7a0475c97955",
   "metadata": {},
   "outputs": [
    {
     "data": {
      "text/plain": [
       "datetime.date(2024, 1, 1)"
      ]
     },
     "execution_count": 29,
     "metadata": {},
     "output_type": "execute_result"
    }
   ],
   "source": [
    "d3 = dt4.date()\n",
    "d3"
   ]
  },
  {
   "cell_type": "code",
   "execution_count": 30,
   "id": "42381833-30cc-45dc-9b06-6bf57d1c42ab",
   "metadata": {},
   "outputs": [
    {
     "data": {
      "text/plain": [
       "datetime.time(18, 30)"
      ]
     },
     "execution_count": 30,
     "metadata": {},
     "output_type": "execute_result"
    }
   ],
   "source": [
    "dt4.time()"
   ]
  },
  {
   "cell_type": "markdown",
   "id": "1003bf13-de36-4462-aa3d-0ffb9bb80d67",
   "metadata": {},
   "source": [
    "## February 29"
   ]
  },
  {
   "cell_type": "code",
   "execution_count": 31,
   "id": "b0e480c8-ce85-4a90-898a-89eb4bbbc6f0",
   "metadata": {},
   "outputs": [
    {
     "data": {
      "text/plain": [
       "datetime.date(2024, 2, 29)"
      ]
     },
     "execution_count": 31,
     "metadata": {},
     "output_type": "execute_result"
    }
   ],
   "source": [
    "date(2024, 2, 29)"
   ]
  },
  {
   "cell_type": "code",
   "execution_count": 34,
   "id": "661159c9-0053-4683-b2d7-958947ae81ce",
   "metadata": {},
   "outputs": [
    {
     "name": "stdout",
     "output_type": "stream",
     "text": [
      "no february 29 this year\n"
     ]
    }
   ],
   "source": [
    "try:\n",
    "    dt = date(2025, 2, 29)\n",
    "    print(dt)\n",
    "except:\n",
    "    print('no february 29 this year')"
   ]
  },
  {
   "cell_type": "code",
   "execution_count": 38,
   "id": "558a881d-8e31-4c18-8286-61b92bb7d056",
   "metadata": {},
   "outputs": [
    {
     "name": "stdout",
     "output_type": "stream",
     "text": [
      "no february 29 this year\n"
     ]
    }
   ],
   "source": [
    "try:\n",
    "    dt = date(2025, 2, 29)\n",
    "    print(dt)\n",
    "except ValueError:\n",
    "    print('no february 29 this year')"
   ]
  },
  {
   "cell_type": "code",
   "execution_count": 39,
   "id": "9b556762-1d5a-4fb9-9a0d-8a888b11b768",
   "metadata": {},
   "outputs": [
    {
     "name": "stdout",
     "output_type": "stream",
     "text": [
      "no february 29 this year: day is out of range for month\n"
     ]
    }
   ],
   "source": [
    "try:\n",
    "    dt = date(2025, 2, 29)\n",
    "    print(dt)\n",
    "except ValueError as ex:\n",
    "    print('no february 29 this year:', ex)"
   ]
  },
  {
   "cell_type": "code",
   "execution_count": null,
   "id": "737a6327-f2f8-4773-96c1-2d3087d971fb",
   "metadata": {},
   "outputs": [],
   "source": [
    "# display all debruary 29th in year span [2000-2400]\n",
    "# (use strategy try-error)"
   ]
  },
  {
   "cell_type": "code",
   "execution_count": 40,
   "id": "a2e50dfe-0310-427e-999c-a0671cc3efa8",
   "metadata": {},
   "outputs": [
    {
     "name": "stdout",
     "output_type": "stream",
     "text": [
      "100\n",
      "[2000, 2004, 2008, 2012, 2016, 2020, 2024, 2028, 2032, 2036, 2040, 2044, 2048, 2052, 2056, 2060, 2064, 2068, 2072, 2076, 2080, 2084, 2088, 2092, 2096, 2100, 2104, 2108, 2112, 2116, 2120, 2124, 2128, 2132, 2136, 2140, 2144, 2148, 2152, 2156, 2160, 2164, 2168, 2172, 2176, 2180, 2184, 2188, 2192, 2196, 2200, 2204, 2208, 2212, 2216, 2220, 2224, 2228, 2232, 2236, 2240, 2244, 2248, 2252, 2256, 2260, 2264, 2268, 2272, 2276, 2280, 2284, 2288, 2292, 2296, 2300, 2304, 2308, 2312, 2316, 2320, 2324, 2328, 2332, 2336, 2340, 2344, 2348, 2352, 2356, 2360, 2364, 2368, 2372, 2376, 2380, 2384, 2388, 2392, 2396]\n"
     ]
    }
   ],
   "source": [
    "j=0\n",
    "annees = []\n",
    "for i in range(2000, 2400):\n",
    "    if i%4 == 0:\n",
    "        j = j+1\n",
    "        annees.append(i)\n",
    "print(j)\n",
    "print(annees)"
   ]
  },
  {
   "cell_type": "code",
   "execution_count": 42,
   "id": "4e6d8aba-83e5-4df7-a33a-85beb573b18e",
   "metadata": {},
   "outputs": [
    {
     "name": "stdout",
     "output_type": "stream",
     "text": [
      "[2000, 2004, 2008, 2012, 2016, 2020, 2024, 2028, 2032, 2036, 2040, 2044, 2048, 2052, 2056, 2060, 2064, 2068, 2072, 2076, 2080, 2084, 2088, 2092, 2096, 2104, 2108, 2112, 2116, 2120, 2124, 2128, 2132, 2136, 2140, 2144, 2148, 2152, 2156, 2160, 2164, 2168, 2172, 2176, 2180, 2184, 2188, 2192, 2196, 2204, 2208, 2212, 2216, 2220, 2224, 2228, 2232, 2236, 2240, 2244, 2248, 2252, 2256, 2260, 2264, 2268, 2272, 2276, 2280, 2284, 2288, 2292, 2296, 2304, 2308, 2312, 2316, 2320, 2324, 2328, 2332, 2336, 2340, 2344, 2348, 2352, 2356, 2360, 2364, 2368, 2372, 2376, 2380, 2384, 2388, 2392, 2396, 2400]\n"
     ]
    }
   ],
   "source": [
    "fev29 = []\n",
    "for annee in range(2000, 2401):\n",
    "    try:\n",
    "        dt = date(annee, 2, 29)\n",
    "        fev29.append(annee)\n",
    "    except:\n",
    "        pass\n",
    "print(fev29)"
   ]
  },
  {
   "cell_type": "code",
   "execution_count": 43,
   "id": "69d8b0a0-7a90-4b0f-9dc3-b35e4a6c6d81",
   "metadata": {},
   "outputs": [
    {
     "name": "stdout",
     "output_type": "stream",
     "text": [
      "2000-02-29, 2004-02-29, 2008-02-29, 2012-02-29, 2016-02-29, 2020-02-29, 2024-02-29, 2028-02-29, 2032-02-29, 2036-02-29, 2040-02-29, 2044-02-29, 2048-02-29, 2052-02-29, 2056-02-29, 2060-02-29, 2064-02-29, 2068-02-29, 2072-02-29, 2076-02-29, 2080-02-29, 2084-02-29, 2088-02-29, 2092-02-29, 2096-02-29, 2104-02-29, 2108-02-29, 2112-02-29, 2116-02-29, 2120-02-29, 2124-02-29, 2128-02-29, 2132-02-29, 2136-02-29, 2140-02-29, 2144-02-29, 2148-02-29, 2152-02-29, 2156-02-29, 2160-02-29, 2164-02-29, 2168-02-29, 2172-02-29, 2176-02-29, 2180-02-29, 2184-02-29, 2188-02-29, 2192-02-29, 2196-02-29, 2204-02-29, 2208-02-29, 2212-02-29, 2216-02-29, 2220-02-29, 2224-02-29, 2228-02-29, 2232-02-29, 2236-02-29, 2240-02-29, 2244-02-29, 2248-02-29, 2252-02-29, 2256-02-29, 2260-02-29, 2264-02-29, 2268-02-29, 2272-02-29, 2276-02-29, 2280-02-29, 2284-02-29, 2288-02-29, 2292-02-29, 2296-02-29, 2304-02-29, 2308-02-29, 2312-02-29, 2316-02-29, 2320-02-29, 2324-02-29, 2328-02-29, 2332-02-29, 2336-02-29, 2340-02-29, 2344-02-29, 2348-02-29, 2352-02-29, 2356-02-29, 2360-02-29, 2364-02-29, 2368-02-29, 2372-02-29, 2376-02-29, 2380-02-29, 2384-02-29, 2388-02-29, 2392-02-29, 2396-02-29, 2400-02-29\n",
      "not a leap year: 2001, 2002, 2003, 2005, 2006, 2007, 2009, 2010, 2011, 2013, 2014, 2015, 2017, 2018, 2019, 2021, 2022, 2023, 2025, 2026, 2027, 2029, 2030, 2031, 2033, 2034, 2035, 2037, 2038, 2039, 2041, 2042, 2043, 2045, 2046, 2047, 2049, 2050, 2051, 2053, 2054, 2055, 2057, 2058, 2059, 2061, 2062, 2063, 2065, 2066, 2067, 2069, 2070, 2071, 2073, 2074, 2075, 2077, 2078, 2079, 2081, 2082, 2083, 2085, 2086, 2087, 2089, 2090, 2091, 2093, 2094, 2095, 2097, 2098, 2099, 2100, 2101, 2102, 2103, 2105, 2106, 2107, 2109, 2110, 2111, 2113, 2114, 2115, 2117, 2118, 2119, 2121, 2122, 2123, 2125, 2126, 2127, 2129, 2130, 2131, 2133, 2134, 2135, 2137, 2138, 2139, 2141, 2142, 2143, 2145, 2146, 2147, 2149, 2150, 2151, 2153, 2154, 2155, 2157, 2158, 2159, 2161, 2162, 2163, 2165, 2166, 2167, 2169, 2170, 2171, 2173, 2174, 2175, 2177, 2178, 2179, 2181, 2182, 2183, 2185, 2186, 2187, 2189, 2190, 2191, 2193, 2194, 2195, 2197, 2198, 2199, 2200, 2201, 2202, 2203, 2205, 2206, 2207, 2209, 2210, 2211, 2213, 2214, 2215, 2217, 2218, 2219, 2221, 2222, 2223, 2225, 2226, 2227, 2229, 2230, 2231, 2233, 2234, 2235, 2237, 2238, 2239, 2241, 2242, 2243, 2245, 2246, 2247, 2249, 2250, 2251, 2253, 2254, 2255, 2257, 2258, 2259, 2261, 2262, 2263, 2265, 2266, 2267, 2269, 2270, 2271, 2273, 2274, 2275, 2277, 2278, 2279, 2281, 2282, 2283, 2285, 2286, 2287, 2289, 2290, 2291, 2293, 2294, 2295, 2297, 2298, 2299, 2300, 2301, 2302, 2303, 2305, 2306, 2307, 2309, 2310, 2311, 2313, 2314, 2315, 2317, 2318, 2319, 2321, 2322, 2323, 2325, 2326, 2327, 2329, 2330, 2331, 2333, 2334, 2335, 2337, 2338, 2339, 2341, 2342, 2343, 2345, 2346, 2347, 2349, 2350, 2351, 2353, 2354, 2355, 2357, 2358, 2359, 2361, 2362, 2363, 2365, 2366, 2367, 2369, 2370, 2371, 2373, 2374, 2375, 2377, 2378, 2379, 2381, 2382, 2383, 2385, 2386, 2387, 2389, 2390, 2391, 2393, 2394, 2395, 2397, 2398, 2399\n"
     ]
    }
   ],
   "source": [
    "february_29ths = []\n",
    "not_leap_years = []\n",
    "for year in range(2000, 2401):\n",
    "\ttry:\n",
    "\t\td = date(year, 2, 29)\n",
    "\t\tfebruary_29ths.append(d)\n",
    "\texcept ValueError:\n",
    "\t\tnot_leap_years.append(year)\n",
    "\t\t\n",
    "print(\", \".join(str(d) for d in february_29ths))\n",
    "print(\"not a leap year:\",\n",
    "\t\", \".join(str(y) for y in not_leap_years))"
   ]
  },
  {
   "cell_type": "code",
   "execution_count": null,
   "id": "c3b4811a-d26c-4a20-89bb-f423424bb950",
   "metadata": {},
   "outputs": [],
   "source": []
  }
 ],
 "metadata": {
  "kernelspec": {
   "display_name": "Python 3 (ipykernel)",
   "language": "python",
   "name": "python3"
  },
  "language_info": {
   "codemirror_mode": {
    "name": "ipython",
    "version": 3
   },
   "file_extension": ".py",
   "mimetype": "text/x-python",
   "name": "python",
   "nbconvert_exporter": "python",
   "pygments_lexer": "ipython3",
   "version": "3.11.7"
  }
 },
 "nbformat": 4,
 "nbformat_minor": 5
}
