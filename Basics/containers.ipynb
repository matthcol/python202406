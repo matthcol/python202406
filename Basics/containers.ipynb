{
 "cells": [
  {
   "cell_type": "markdown",
   "id": "70a601a5-255d-4ae1-8a3f-a48a28780ed7",
   "metadata": {},
   "source": [
    "# Containers"
   ]
  },
  {
   "cell_type": "markdown",
   "id": "f0a52f5c-2d1f-4add-830b-d3c326ad82cb",
   "metadata": {},
   "source": [
    "## Lists\n",
    "- type list\n",
    "- iterable\n",
    "- length: builtin function len\n",
    "- modifiable: append/extend/remove/sort/...\n",
    "- getitem/setitem with operator [] (index or slice)"
   ]
  },
  {
   "cell_type": "code",
   "execution_count": 1,
   "id": "c2d66061-060f-4b95-850d-a8d563f7d87f",
   "metadata": {},
   "outputs": [],
   "source": [
    "cities = [\n",
    "    \"Toulouse\",\n",
    "    \"Montpellier\",\n",
    "    \"Marseille\",\n",
    "    \"Lyon\",\n",
    "    \"Valence\",\n",
    "    \"Saint Etienne\",\n",
    "    \"Paris\",\n",
    "    \"Pau\",\n",
    "]"
   ]
  },
  {
   "cell_type": "code",
   "execution_count": 2,
   "id": "53c07248-210f-4a03-90b9-c85d799ae9f5",
   "metadata": {},
   "outputs": [
    {
     "data": {
      "text/plain": [
       "['Toulouse',\n",
       " 'Montpellier',\n",
       " 'Marseille',\n",
       " 'Lyon',\n",
       " 'Valence',\n",
       " 'Saint Etienne',\n",
       " 'Paris']"
      ]
     },
     "execution_count": 2,
     "metadata": {},
     "output_type": "execute_result"
    }
   ],
   "source": [
    "del cities[-1]\n",
    "cities"
   ]
  },
  {
   "cell_type": "code",
   "execution_count": 3,
   "id": "e3833c8d-43b4-4a0a-a816-d1c29bc231a7",
   "metadata": {},
   "outputs": [
    {
     "name": "stdout",
     "output_type": "stream",
     "text": [
      "City count: 7\n",
      "  - Toulouse\n",
      "  - Montpellier\n",
      "  - Marseille\n",
      "  - Lyon\n",
      "  - Valence\n",
      "  - Saint Etienne\n",
      "  - Paris\n"
     ]
    }
   ],
   "source": [
    "print(\"City count:\", len(cities))\n",
    "for city in cities:\n",
    "    print(\"  -\", city)"
   ]
  },
  {
   "cell_type": "markdown",
   "id": "ac590b3f-f242-4cd5-b953-72fd92c103b3",
   "metadata": {},
   "source": [
    "## Tuples\n",
    "- type: tuple\n",
    "- iterable\n",
    "- length: builtin function len\n",
    "- getitem: operator[] with index, slice\n",
    "- not modifiable: NO methods or operators setitem, del, append ..."
   ]
  },
  {
   "cell_type": "code",
   "execution_count": 4,
   "id": "17663575-ca8b-4970-a51c-6d363f55685d",
   "metadata": {},
   "outputs": [
    {
     "data": {
      "text/plain": [
       "('Toulouse', 477000, '31000')"
      ]
     },
     "execution_count": 4,
     "metadata": {},
     "output_type": "execute_result"
    }
   ],
   "source": [
    "# tuple[str,int,str]\n",
    "city = \"Toulouse\", 477_000, \"31000\"\n",
    "city"
   ]
  },
  {
   "cell_type": "code",
   "execution_count": 5,
   "id": "ac2ec3b3-4a7c-4df0-a399-98df6f520e9a",
   "metadata": {},
   "outputs": [
    {
     "data": {
      "text/plain": [
       "tuple"
      ]
     },
     "execution_count": 5,
     "metadata": {},
     "output_type": "execute_result"
    }
   ],
   "source": [
    "type(city)"
   ]
  },
  {
   "cell_type": "code",
   "execution_count": 6,
   "id": "ed246e1f-f7bd-407f-b0fa-bd428c39b997",
   "metadata": {},
   "outputs": [
    {
     "data": {
      "text/plain": [
       "'Toulouse'"
      ]
     },
     "execution_count": 6,
     "metadata": {},
     "output_type": "execute_result"
    }
   ],
   "source": [
    "nom = city[0]\n",
    "nom"
   ]
  },
  {
   "cell_type": "code",
   "execution_count": 7,
   "id": "d0001396-ba24-4d5b-a45a-8fb66e2c304f",
   "metadata": {},
   "outputs": [],
   "source": [
    "# TypeError: 'tuple' object does not support item assignment\n",
    "# city[0] = \"Pau\""
   ]
  },
  {
   "cell_type": "code",
   "execution_count": 8,
   "id": "519f7c4e-8422-4ec3-8be9-931cb30c55c4",
   "metadata": {},
   "outputs": [],
   "source": [
    "# avoid that\n",
    "nom = city[0]\n",
    "population = city[1]"
   ]
  },
  {
   "cell_type": "code",
   "execution_count": 9,
   "id": "24718408-80b1-4423-9fbc-87589f2e0d8d",
   "metadata": {},
   "outputs": [
    {
     "name": "stdout",
     "output_type": "stream",
     "text": [
      "Toulouse, 477000, 31000\n"
     ]
    }
   ],
   "source": [
    "# unpack tuple into n variables\n",
    "nom, population, cp = city\n",
    "print(nom, population, cp, sep=\", \")"
   ]
  },
  {
   "cell_type": "code",
   "execution_count": 10,
   "id": "295fabc6-50a0-4af8-a1af-66b5edf0211e",
   "metadata": {},
   "outputs": [],
   "source": [
    "# ValueError: too many values to unpack (expected 2)\n",
    "# nom, population = city\n",
    "\n",
    "# ValueError: not enough values to unpack (expected 4, got 3)\n",
    "# nom, population, cp, mayor = city"
   ]
  },
  {
   "cell_type": "code",
   "execution_count": 11,
   "id": "3ae28509-d917-4a88-a723-4aac04dc03c3",
   "metadata": {},
   "outputs": [
    {
     "name": "stdout",
     "output_type": "stream",
     "text": [
      "Toulouse, 31000\n"
     ]
    }
   ],
   "source": [
    "nom, _, cp = city\n",
    "print(nom, cp, sep=\", \")"
   ]
  },
  {
   "cell_type": "code",
   "execution_count": 12,
   "id": "4fe45ed7-5c76-42de-9a6e-2de9d1563a89",
   "metadata": {},
   "outputs": [
    {
     "data": {
      "text/plain": [
       "3"
      ]
     },
     "execution_count": 12,
     "metadata": {},
     "output_type": "execute_result"
    }
   ],
   "source": [
    "len(city)"
   ]
  },
  {
   "cell_type": "code",
   "execution_count": 13,
   "id": "2763fc92-c182-412f-8e5c-18fe1ba78cf0",
   "metadata": {},
   "outputs": [
    {
     "name": "stdout",
     "output_type": "stream",
     "text": [
      "Toulouse\n",
      "477000\n",
      "31000\n"
     ]
    }
   ],
   "source": [
    "for info in city:\n",
    "    print(info)"
   ]
  },
  {
   "cell_type": "code",
   "execution_count": 14,
   "id": "66d6f024-cefe-4624-a354-efb1f2fd7f87",
   "metadata": {},
   "outputs": [
    {
     "data": {
      "text/plain": [
       "3"
      ]
     },
     "execution_count": 14,
     "metadata": {},
     "output_type": "execute_result"
    }
   ],
   "source": [
    "# len(12, 34, 56) # you must putparenthesis around tuple\n",
    "len((12, 34, 56))"
   ]
  },
  {
   "cell_type": "markdown",
   "id": "9852271f-b342-416e-8523-89ae5242dec2",
   "metadata": {},
   "source": [
    "## Tuple vs List"
   ]
  },
  {
   "cell_type": "markdown",
   "id": "57e659a1-c28f-4ee3-b05a-84dab32a77a6",
   "metadata": {},
   "source": [
    "### Reading and computing"
   ]
  },
  {
   "cell_type": "code",
   "execution_count": 15,
   "id": "2b139517-d696-4314-9959-9f81072803a5",
   "metadata": {},
   "outputs": [],
   "source": [
    "data1 = (12, 34, 56)\n",
    "data2 = [12, 34, 56]"
   ]
  },
  {
   "cell_type": "code",
   "execution_count": 19,
   "id": "26841992-3152-4633-9d35-ced50edc0077",
   "metadata": {},
   "outputs": [
    {
     "name": "stdout",
     "output_type": "stream",
     "text": [
      "102 192\n"
     ]
    }
   ],
   "source": [
    "s1 = sum(data1)\n",
    "s2 = sum(data2)\n",
    "print(s1, s2)"
   ]
  },
  {
   "cell_type": "markdown",
   "id": "20630273-7082-4ab0-bace-cb57ff5e1d74",
   "metadata": {},
   "source": [
    "### Modification: KO OK"
   ]
  },
  {
   "cell_type": "code",
   "execution_count": 20,
   "id": "d6b4b820-cdec-4eec-80b6-7c37e3666030",
   "metadata": {},
   "outputs": [
    {
     "data": {
      "text/plain": [
       "[12, 34, 56, 90, 90]"
      ]
     },
     "execution_count": 20,
     "metadata": {},
     "output_type": "execute_result"
    }
   ],
   "source": [
    "# AttributeError: 'tuple' object has no attribute 'append'\n",
    "# data1.append(90)\n",
    "data2.append(90)\n",
    "data2"
   ]
  },
  {
   "cell_type": "markdown",
   "id": "fab9e5a4-8933-40ed-96ce-0a59b332b6f3",
   "metadata": {},
   "source": [
    "### Exercise\n",
    "- Define a list of cities represented by a tuple (name, population, code postal)\n",
    "- Display cities line by line: name = Toulouse, population = 477000, code postal = 31000\n",
    "- Compute total population of all cities"
   ]
  },
  {
   "cell_type": "code",
   "execution_count": 22,
   "id": "7621d141-5464-4858-8cd1-a132002cc8dd",
   "metadata": {},
   "outputs": [
    {
     "data": {
      "text/plain": [
       "[('Toulouse', 500000, '31000'),\n",
       " ('Agen', 200000, '47000'),\n",
       " ('Montauban', 100000, '82000'),\n",
       " ('Lyon', 700000, '69000'),\n",
       " ('Saint Etienne', 300000, '42000')]"
      ]
     },
     "execution_count": 22,
     "metadata": {},
     "output_type": "execute_result"
    }
   ],
   "source": [
    "# type: list[tuple[str,int,str]]\n",
    "liste_villes = [\n",
    "    ('Toulouse', 500_000, '31000'), \n",
    "    ('Agen', 200_000, '47000'), \n",
    "    ('Montauban', 100_000, '82000'), \n",
    "    ('Lyon', 700_000, '69000'), \n",
    "    ('Saint Etienne', 300_000, '42000'),\n",
    "]\n",
    "liste_villes"
   ]
  },
  {
   "cell_type": "code",
   "execution_count": 23,
   "id": "8f552550-6984-4e63-b7a5-b289c47bd543",
   "metadata": {},
   "outputs": [
    {
     "data": {
      "text/plain": [
       "('Toulouse', 500000, '31000')"
      ]
     },
     "execution_count": 23,
     "metadata": {},
     "output_type": "execute_result"
    }
   ],
   "source": [
    "liste_villes[0]"
   ]
  },
  {
   "cell_type": "code",
   "execution_count": 24,
   "id": "ab10c447-e81e-4997-986e-2364dea07089",
   "metadata": {},
   "outputs": [
    {
     "data": {
      "text/plain": [
       "'Toulouse'"
      ]
     },
     "execution_count": 24,
     "metadata": {},
     "output_type": "execute_result"
    }
   ],
   "source": [
    "liste_villes[0][0]"
   ]
  },
  {
   "cell_type": "code",
   "execution_count": 31,
   "id": "53f1a664-1bbb-476f-b141-9fec36ef10fd",
   "metadata": {},
   "outputs": [
    {
     "name": "stdout",
     "output_type": "stream",
     "text": [
      "Nom : Toulouse ; Habitants : 500000 ; Code Postal : 31000\n",
      "Nom : Agen ; Habitants : 200000 ; Code Postal : 47000\n",
      "Nom : Montauban ; Habitants : 100000 ; Code Postal : 82000\n",
      "Nom : Lyon ; Habitants : 700000 ; Code Postal : 69000\n",
      "Nom : Saint Etienne ; Habitants : 300000 ; Code Postal : 42000\n"
     ]
    }
   ],
   "source": [
    "for i in range(len(liste_villes)):\n",
    "    print(\n",
    "        'Nom : ',\n",
    "        liste_villes[i][0], \n",
    "        ' ; Habitants : ', \n",
    "        liste_villes[i][1],\n",
    "        ' ; Code Postal : ',\n",
    "        liste_villes[i][2],\n",
    "        sep=''\n",
    "    )"
   ]
  },
  {
   "cell_type": "code",
   "execution_count": 33,
   "id": "8aee4cf2-7305-4196-ab18-45860985253b",
   "metadata": {},
   "outputs": [
    {
     "name": "stdout",
     "output_type": "stream",
     "text": [
      "Nom : Toulouse ; Habitants : 500000 ; Code Postal : 31000\n",
      "Nom : Agen ; Habitants : 200000 ; Code Postal : 47000\n",
      "Nom : Montauban ; Habitants : 100000 ; Code Postal : 82000\n",
      "Nom : Lyon ; Habitants : 700000 ; Code Postal : 69000\n",
      "Nom : Saint Etienne ; Habitants : 300000 ; Code Postal : 42000\n"
     ]
    }
   ],
   "source": [
    "for ville in liste_villes:\n",
    "     print(\n",
    "        'Nom : ',\n",
    "        ville[0], \n",
    "        ' ; Habitants : ', \n",
    "        ville[1],\n",
    "        ' ; Code Postal : ',\n",
    "        ville[2],\n",
    "        sep=''\n",
    "    )"
   ]
  },
  {
   "cell_type": "code",
   "execution_count": 34,
   "id": "704e332b-176f-438a-a6a8-3dfd7f6fa086",
   "metadata": {},
   "outputs": [
    {
     "name": "stdout",
     "output_type": "stream",
     "text": [
      "Nom : Toulouse ; Habitants : 500000 ; Code Postal : 31000\n",
      "Nom : Agen ; Habitants : 200000 ; Code Postal : 47000\n",
      "Nom : Montauban ; Habitants : 100000 ; Code Postal : 82000\n",
      "Nom : Lyon ; Habitants : 700000 ; Code Postal : 69000\n",
      "Nom : Saint Etienne ; Habitants : 300000 ; Code Postal : 42000\n"
     ]
    }
   ],
   "source": [
    "# foreach with unpack current element into n varaiables\n",
    "for nom, population, cp in liste_villes:\n",
    "     print(\n",
    "        'Nom : ',\n",
    "        nom, \n",
    "        ' ; Habitants : ', \n",
    "        population,\n",
    "        ' ; Code Postal : ',\n",
    "        cp,\n",
    "        sep=''\n",
    "    )"
   ]
  },
  {
   "cell_type": "code",
   "execution_count": 35,
   "id": "78daa2ff-9289-4798-8d8b-a61d86cbfcfa",
   "metadata": {},
   "outputs": [
    {
     "name": "stdout",
     "output_type": "stream",
     "text": [
      "Nom : Toulouse ; Habitants : 500000 ; Code Postal : 31000\n",
      "Nom : Agen ; Habitants : 200000 ; Code Postal : 47000\n",
      "Nom : Montauban ; Habitants : 100000 ; Code Postal : 82000\n",
      "Nom : Lyon ; Habitants : 700000 ; Code Postal : 69000\n",
      "Nom : Saint Etienne ; Habitants : 300000 ; Code Postal : 42000\n"
     ]
    }
   ],
   "source": [
    "# with f-string (formatted string)\n",
    "for nom, population, cp in liste_villes:\n",
    "     print(f'Nom : {nom} ; Habitants : {population} ; Code Postal : {cp}')"
   ]
  },
  {
   "cell_type": "markdown",
   "id": "dba4bcac-7d62-4b45-8ae2-cf191000019c",
   "metadata": {},
   "source": [
    "## Dictionaries"
   ]
  }
 ],
 "metadata": {
  "kernelspec": {
   "display_name": "Python 3 (ipykernel)",
   "language": "python",
   "name": "python3"
  },
  "language_info": {
   "codemirror_mode": {
    "name": "ipython",
    "version": 3
   },
   "file_extension": ".py",
   "mimetype": "text/x-python",
   "name": "python",
   "nbconvert_exporter": "python",
   "pygments_lexer": "ipython3",
   "version": "3.11.7"
  }
 },
 "nbformat": 4,
 "nbformat_minor": 5
}
