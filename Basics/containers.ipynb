{
 "cells": [
  {
   "cell_type": "markdown",
   "id": "70a601a5-255d-4ae1-8a3f-a48a28780ed7",
   "metadata": {},
   "source": [
    "# Containers"
   ]
  },
  {
   "cell_type": "markdown",
   "id": "f0a52f5c-2d1f-4add-830b-d3c326ad82cb",
   "metadata": {},
   "source": [
    "## Lists\n",
    "- type list\n",
    "- iterable\n",
    "- length: builtin function len\n",
    "- modifiable: append/extend/remove/sort/...\n",
    "- getitem/setitem with operator [] (index or slice)"
   ]
  },
  {
   "cell_type": "code",
   "execution_count": 1,
   "id": "c2d66061-060f-4b95-850d-a8d563f7d87f",
   "metadata": {},
   "outputs": [],
   "source": [
    "cities = [\n",
    "    \"Toulouse\",\n",
    "    \"Montpellier\",\n",
    "    \"Marseille\",\n",
    "    \"Lyon\",\n",
    "    \"Valence\",\n",
    "    \"Saint Etienne\",\n",
    "    \"Paris\",\n",
    "    \"Pau\",\n",
    "]"
   ]
  },
  {
   "cell_type": "code",
   "execution_count": 2,
   "id": "53c07248-210f-4a03-90b9-c85d799ae9f5",
   "metadata": {},
   "outputs": [
    {
     "data": {
      "text/plain": [
       "['Toulouse',\n",
       " 'Montpellier',\n",
       " 'Marseille',\n",
       " 'Lyon',\n",
       " 'Valence',\n",
       " 'Saint Etienne',\n",
       " 'Paris']"
      ]
     },
     "execution_count": 2,
     "metadata": {},
     "output_type": "execute_result"
    }
   ],
   "source": [
    "del cities[-1]\n",
    "cities"
   ]
  },
  {
   "cell_type": "code",
   "execution_count": 3,
   "id": "e3833c8d-43b4-4a0a-a816-d1c29bc231a7",
   "metadata": {},
   "outputs": [
    {
     "name": "stdout",
     "output_type": "stream",
     "text": [
      "City count: 7\n",
      "  - Toulouse\n",
      "  - Montpellier\n",
      "  - Marseille\n",
      "  - Lyon\n",
      "  - Valence\n",
      "  - Saint Etienne\n",
      "  - Paris\n"
     ]
    }
   ],
   "source": [
    "print(\"City count:\", len(cities))\n",
    "for city in cities:\n",
    "    print(\"  -\", city)"
   ]
  },
  {
   "cell_type": "markdown",
   "id": "ac590b3f-f242-4cd5-b953-72fd92c103b3",
   "metadata": {},
   "source": [
    "## Tuples\n",
    "- type: tuple\n",
    "- iterable\n",
    "- length: builtin function len\n",
    "- getitem: operator[] with index, slice\n",
    "- not modifiable: NO methods or operators setitem, del, append ..."
   ]
  },
  {
   "cell_type": "code",
   "execution_count": 4,
   "id": "17663575-ca8b-4970-a51c-6d363f55685d",
   "metadata": {},
   "outputs": [
    {
     "data": {
      "text/plain": [
       "('Toulouse', 477000, '31000')"
      ]
     },
     "execution_count": 4,
     "metadata": {},
     "output_type": "execute_result"
    }
   ],
   "source": [
    "# tuple[str,int,str]\n",
    "city = \"Toulouse\", 477_000, \"31000\"\n",
    "city"
   ]
  },
  {
   "cell_type": "code",
   "execution_count": 5,
   "id": "ac2ec3b3-4a7c-4df0-a399-98df6f520e9a",
   "metadata": {},
   "outputs": [
    {
     "data": {
      "text/plain": [
       "tuple"
      ]
     },
     "execution_count": 5,
     "metadata": {},
     "output_type": "execute_result"
    }
   ],
   "source": [
    "type(city)"
   ]
  },
  {
   "cell_type": "code",
   "execution_count": 6,
   "id": "ed246e1f-f7bd-407f-b0fa-bd428c39b997",
   "metadata": {},
   "outputs": [
    {
     "data": {
      "text/plain": [
       "'Toulouse'"
      ]
     },
     "execution_count": 6,
     "metadata": {},
     "output_type": "execute_result"
    }
   ],
   "source": [
    "nom = city[0]\n",
    "nom"
   ]
  },
  {
   "cell_type": "code",
   "execution_count": 7,
   "id": "d0001396-ba24-4d5b-a45a-8fb66e2c304f",
   "metadata": {},
   "outputs": [],
   "source": [
    "# TypeError: 'tuple' object does not support item assignment\n",
    "# city[0] = \"Pau\""
   ]
  },
  {
   "cell_type": "code",
   "execution_count": 8,
   "id": "519f7c4e-8422-4ec3-8be9-931cb30c55c4",
   "metadata": {},
   "outputs": [],
   "source": [
    "# avoid that\n",
    "nom = city[0]\n",
    "population = city[1]"
   ]
  },
  {
   "cell_type": "code",
   "execution_count": 9,
   "id": "24718408-80b1-4423-9fbc-87589f2e0d8d",
   "metadata": {},
   "outputs": [
    {
     "name": "stdout",
     "output_type": "stream",
     "text": [
      "Toulouse, 477000, 31000\n"
     ]
    }
   ],
   "source": [
    "# unpack tuple into n variables\n",
    "nom, population, cp = city\n",
    "print(nom, population, cp, sep=\", \")"
   ]
  },
  {
   "cell_type": "code",
   "execution_count": 10,
   "id": "295fabc6-50a0-4af8-a1af-66b5edf0211e",
   "metadata": {},
   "outputs": [],
   "source": [
    "# ValueError: too many values to unpack (expected 2)\n",
    "# nom, population = city\n",
    "\n",
    "# ValueError: not enough values to unpack (expected 4, got 3)\n",
    "# nom, population, cp, mayor = city"
   ]
  },
  {
   "cell_type": "code",
   "execution_count": 11,
   "id": "3ae28509-d917-4a88-a723-4aac04dc03c3",
   "metadata": {},
   "outputs": [
    {
     "name": "stdout",
     "output_type": "stream",
     "text": [
      "Toulouse, 31000\n"
     ]
    }
   ],
   "source": [
    "nom, _, cp = city\n",
    "print(nom, cp, sep=\", \")"
   ]
  },
  {
   "cell_type": "code",
   "execution_count": 12,
   "id": "4fe45ed7-5c76-42de-9a6e-2de9d1563a89",
   "metadata": {},
   "outputs": [
    {
     "data": {
      "text/plain": [
       "3"
      ]
     },
     "execution_count": 12,
     "metadata": {},
     "output_type": "execute_result"
    }
   ],
   "source": [
    "len(city)"
   ]
  },
  {
   "cell_type": "code",
   "execution_count": 13,
   "id": "2763fc92-c182-412f-8e5c-18fe1ba78cf0",
   "metadata": {},
   "outputs": [
    {
     "name": "stdout",
     "output_type": "stream",
     "text": [
      "Toulouse\n",
      "477000\n",
      "31000\n"
     ]
    }
   ],
   "source": [
    "for info in city:\n",
    "    print(info)"
   ]
  },
  {
   "cell_type": "code",
   "execution_count": 14,
   "id": "66d6f024-cefe-4624-a354-efb1f2fd7f87",
   "metadata": {},
   "outputs": [
    {
     "data": {
      "text/plain": [
       "3"
      ]
     },
     "execution_count": 14,
     "metadata": {},
     "output_type": "execute_result"
    }
   ],
   "source": [
    "# len(12, 34, 56) # you must putparenthesis around tuple\n",
    "len((12, 34, 56))"
   ]
  },
  {
   "cell_type": "markdown",
   "id": "9852271f-b342-416e-8523-89ae5242dec2",
   "metadata": {},
   "source": [
    "## Tuple vs List"
   ]
  },
  {
   "cell_type": "markdown",
   "id": "57e659a1-c28f-4ee3-b05a-84dab32a77a6",
   "metadata": {},
   "source": [
    "### Reading and computing"
   ]
  },
  {
   "cell_type": "code",
   "execution_count": 15,
   "id": "2b139517-d696-4314-9959-9f81072803a5",
   "metadata": {},
   "outputs": [],
   "source": [
    "data1 = (12, 34, 56)\n",
    "data2 = [12, 34, 56]"
   ]
  },
  {
   "cell_type": "code",
   "execution_count": 19,
   "id": "26841992-3152-4633-9d35-ced50edc0077",
   "metadata": {},
   "outputs": [
    {
     "name": "stdout",
     "output_type": "stream",
     "text": [
      "102 192\n"
     ]
    }
   ],
   "source": [
    "s1 = sum(data1)\n",
    "s2 = sum(data2)\n",
    "print(s1, s2)"
   ]
  },
  {
   "cell_type": "markdown",
   "id": "20630273-7082-4ab0-bace-cb57ff5e1d74",
   "metadata": {},
   "source": [
    "### Modification: KO OK"
   ]
  },
  {
   "cell_type": "code",
   "execution_count": 20,
   "id": "d6b4b820-cdec-4eec-80b6-7c37e3666030",
   "metadata": {},
   "outputs": [
    {
     "data": {
      "text/plain": [
       "[12, 34, 56, 90, 90]"
      ]
     },
     "execution_count": 20,
     "metadata": {},
     "output_type": "execute_result"
    }
   ],
   "source": [
    "# AttributeError: 'tuple' object has no attribute 'append'\n",
    "# data1.append(90)\n",
    "data2.append(90)\n",
    "data2"
   ]
  },
  {
   "cell_type": "markdown",
   "id": "fab9e5a4-8933-40ed-96ce-0a59b332b6f3",
   "metadata": {},
   "source": [
    "### Exercise\n",
    "- Define a list of cities represented by a tuple (name, population, code postal)\n",
    "- Display cities line by line: name = Toulouse, population = 477000, code postal = 31000\n",
    "- Compute total population of all cities\n",
    "- Compute min population\n",
    "- Compute max population\n",
    "- list of population only (sorted with ascending order: numeric)\n",
    "- list of name only (sorted with ascending order: alphabetic)"
   ]
  },
  {
   "cell_type": "code",
   "execution_count": 22,
   "id": "7621d141-5464-4858-8cd1-a132002cc8dd",
   "metadata": {},
   "outputs": [
    {
     "data": {
      "text/plain": [
       "[('Toulouse', 500000, '31000'),\n",
       " ('Agen', 200000, '47000'),\n",
       " ('Montauban', 100000, '82000'),\n",
       " ('Lyon', 700000, '69000'),\n",
       " ('Saint Etienne', 300000, '42000')]"
      ]
     },
     "execution_count": 22,
     "metadata": {},
     "output_type": "execute_result"
    }
   ],
   "source": [
    "# type: list[tuple[str,int,str]]\n",
    "liste_villes = [\n",
    "    ('Toulouse', 500_000, '31000'), \n",
    "    ('Agen', 200_000, '47000'), \n",
    "    ('Montauban', 100_000, '82000'), \n",
    "    ('Lyon', 700_000, '69000'), \n",
    "    ('Saint Etienne', 300_000, '42000'),\n",
    "]\n",
    "liste_villes"
   ]
  },
  {
   "cell_type": "code",
   "execution_count": 23,
   "id": "8f552550-6984-4e63-b7a5-b289c47bd543",
   "metadata": {},
   "outputs": [
    {
     "data": {
      "text/plain": [
       "('Toulouse', 500000, '31000')"
      ]
     },
     "execution_count": 23,
     "metadata": {},
     "output_type": "execute_result"
    }
   ],
   "source": [
    "liste_villes[0]"
   ]
  },
  {
   "cell_type": "code",
   "execution_count": 24,
   "id": "ab10c447-e81e-4997-986e-2364dea07089",
   "metadata": {},
   "outputs": [
    {
     "data": {
      "text/plain": [
       "'Toulouse'"
      ]
     },
     "execution_count": 24,
     "metadata": {},
     "output_type": "execute_result"
    }
   ],
   "source": [
    "liste_villes[0][0]"
   ]
  },
  {
   "cell_type": "code",
   "execution_count": 31,
   "id": "53f1a664-1bbb-476f-b141-9fec36ef10fd",
   "metadata": {},
   "outputs": [
    {
     "name": "stdout",
     "output_type": "stream",
     "text": [
      "Nom : Toulouse ; Habitants : 500000 ; Code Postal : 31000\n",
      "Nom : Agen ; Habitants : 200000 ; Code Postal : 47000\n",
      "Nom : Montauban ; Habitants : 100000 ; Code Postal : 82000\n",
      "Nom : Lyon ; Habitants : 700000 ; Code Postal : 69000\n",
      "Nom : Saint Etienne ; Habitants : 300000 ; Code Postal : 42000\n"
     ]
    }
   ],
   "source": [
    "for i in range(len(liste_villes)):\n",
    "    print(\n",
    "        'Nom : ',\n",
    "        liste_villes[i][0], \n",
    "        ' ; Habitants : ', \n",
    "        liste_villes[i][1],\n",
    "        ' ; Code Postal : ',\n",
    "        liste_villes[i][2],\n",
    "        sep=''\n",
    "    )"
   ]
  },
  {
   "cell_type": "code",
   "execution_count": 33,
   "id": "8aee4cf2-7305-4196-ab18-45860985253b",
   "metadata": {},
   "outputs": [
    {
     "name": "stdout",
     "output_type": "stream",
     "text": [
      "Nom : Toulouse ; Habitants : 500000 ; Code Postal : 31000\n",
      "Nom : Agen ; Habitants : 200000 ; Code Postal : 47000\n",
      "Nom : Montauban ; Habitants : 100000 ; Code Postal : 82000\n",
      "Nom : Lyon ; Habitants : 700000 ; Code Postal : 69000\n",
      "Nom : Saint Etienne ; Habitants : 300000 ; Code Postal : 42000\n"
     ]
    }
   ],
   "source": [
    "for ville in liste_villes:\n",
    "     print(\n",
    "        'Nom : ',\n",
    "        ville[0], \n",
    "        ' ; Habitants : ', \n",
    "        ville[1],\n",
    "        ' ; Code Postal : ',\n",
    "        ville[2],\n",
    "        sep=''\n",
    "    )"
   ]
  },
  {
   "cell_type": "code",
   "execution_count": 34,
   "id": "704e332b-176f-438a-a6a8-3dfd7f6fa086",
   "metadata": {},
   "outputs": [
    {
     "name": "stdout",
     "output_type": "stream",
     "text": [
      "Nom : Toulouse ; Habitants : 500000 ; Code Postal : 31000\n",
      "Nom : Agen ; Habitants : 200000 ; Code Postal : 47000\n",
      "Nom : Montauban ; Habitants : 100000 ; Code Postal : 82000\n",
      "Nom : Lyon ; Habitants : 700000 ; Code Postal : 69000\n",
      "Nom : Saint Etienne ; Habitants : 300000 ; Code Postal : 42000\n"
     ]
    }
   ],
   "source": [
    "# foreach with unpack current element into n varaiables\n",
    "for nom, population, cp in liste_villes:\n",
    "     print(\n",
    "        'Nom : ',\n",
    "        nom, \n",
    "        ' ; Habitants : ', \n",
    "        population,\n",
    "        ' ; Code Postal : ',\n",
    "        cp,\n",
    "        sep=''\n",
    "    )"
   ]
  },
  {
   "cell_type": "code",
   "execution_count": 35,
   "id": "78daa2ff-9289-4798-8d8b-a61d86cbfcfa",
   "metadata": {},
   "outputs": [
    {
     "name": "stdout",
     "output_type": "stream",
     "text": [
      "Nom : Toulouse ; Habitants : 500000 ; Code Postal : 31000\n",
      "Nom : Agen ; Habitants : 200000 ; Code Postal : 47000\n",
      "Nom : Montauban ; Habitants : 100000 ; Code Postal : 82000\n",
      "Nom : Lyon ; Habitants : 700000 ; Code Postal : 69000\n",
      "Nom : Saint Etienne ; Habitants : 300000 ; Code Postal : 42000\n"
     ]
    }
   ],
   "source": [
    "# with f-string (formatted string)\n",
    "for nom, population, cp in liste_villes:\n",
    "     print(f'Nom : {nom} ; Habitants : {population} ; Code Postal : {cp}')"
   ]
  },
  {
   "cell_type": "code",
   "execution_count": 37,
   "id": "a39956c6-e360-4984-ac6f-9c7b5f21c704",
   "metadata": {},
   "outputs": [
    {
     "name": "stdout",
     "output_type": "stream",
     "text": [
      "1800000\n"
     ]
    }
   ],
   "source": [
    "sommePopulation = 0\n",
    "for ville in liste_villes: \n",
    "    sommePopulation = sommePopulation + ville[1]\n",
    "print(sommePopulation)"
   ]
  },
  {
   "cell_type": "code",
   "execution_count": 38,
   "id": "36629b8d-6fad-4528-afd5-3d6f5a4ed283",
   "metadata": {},
   "outputs": [
    {
     "name": "stdout",
     "output_type": "stream",
     "text": [
      "1800000\n"
     ]
    }
   ],
   "source": [
    "sommePopulation = 0\n",
    "for _, population, _ in liste_villes: \n",
    "    sommePopulation = sommePopulation +population\n",
    "print(sommePopulation)"
   ]
  },
  {
   "cell_type": "code",
   "execution_count": 44,
   "id": "937275fc-9f5c-4249-a56c-b3274334d110",
   "metadata": {},
   "outputs": [
    {
     "data": {
      "text/plain": [
       "1800000"
      ]
     },
     "execution_count": 44,
     "metadata": {},
     "output_type": "execute_result"
    }
   ],
   "source": [
    "# expression for = generator\n",
    "total_population = sum(population for _, population, _ in liste_villes)\n",
    "total_population"
   ]
  },
  {
   "cell_type": "code",
   "execution_count": 78,
   "id": "a9e31f6e-3749-4939-aec3-1174837b914c",
   "metadata": {},
   "outputs": [
    {
     "data": {
      "text/plain": [
       "100000"
      ]
     },
     "execution_count": 78,
     "metadata": {},
     "output_type": "execute_result"
    }
   ],
   "source": [
    "population_min = min(population for _,population,_ in liste_villes)\n",
    "population_min"
   ]
  },
  {
   "cell_type": "code",
   "execution_count": 79,
   "id": "eb663d8e-7273-4039-ba20-a386025de68f",
   "metadata": {},
   "outputs": [
    {
     "data": {
      "text/plain": [
       "700000"
      ]
     },
     "execution_count": 79,
     "metadata": {},
     "output_type": "execute_result"
    }
   ],
   "source": [
    "population_max = max(population for _,population,_ in liste_villes)\n",
    "population_max"
   ]
  },
  {
   "cell_type": "code",
   "execution_count": 81,
   "id": "5320dcf9-39bc-42e5-8398-cceeee1bc775",
   "metadata": {},
   "outputs": [
    {
     "data": {
      "text/plain": [
       "['Agen', 'Lyon', 'Montauban', 'Saint Etienne', 'Toulouse']"
      ]
     },
     "execution_count": 81,
     "metadata": {},
     "output_type": "execute_result"
    }
   ],
   "source": [
    "sorted(nom for nom,_,_ in liste_villes)"
   ]
  },
  {
   "cell_type": "code",
   "execution_count": 83,
   "id": "f13468ca-859a-49ca-b2f5-9d743720f433",
   "metadata": {},
   "outputs": [
    {
     "data": {
      "text/plain": [
       "True"
      ]
     },
     "execution_count": 83,
     "metadata": {},
     "output_type": "execute_result"
    }
   ],
   "source": [
    "# NB: sorted uses operator < on str objects\n",
    "'Agen' < 'Lyon'"
   ]
  },
  {
   "cell_type": "code",
   "execution_count": 82,
   "id": "51b5ad46-7994-42d0-9e99-07cb70bc5d0b",
   "metadata": {},
   "outputs": [
    {
     "data": {
      "text/plain": [
       "[100000, 200000, 300000, 500000, 700000]"
      ]
     },
     "execution_count": 82,
     "metadata": {},
     "output_type": "execute_result"
    }
   ],
   "source": [
    "population_sort = sorted(population for _,population,_ in liste_villes)\n",
    "population_sort"
   ]
  },
  {
   "cell_type": "code",
   "execution_count": 84,
   "id": "fc914c0f-3cf7-4ffa-a8e7-4d035e01547e",
   "metadata": {},
   "outputs": [
    {
     "data": {
      "text/plain": [
       "[('Agen', 200000, '47000'),\n",
       " ('Lyon', 700000, '69000'),\n",
       " ('Montauban', 100000, '82000'),\n",
       " ('Saint Etienne', 300000, '42000'),\n",
       " ('Toulouse', 500000, '31000')]"
      ]
     },
     "execution_count": 84,
     "metadata": {},
     "output_type": "execute_result"
    }
   ],
   "source": [
    "sorted(liste_villes)"
   ]
  },
  {
   "cell_type": "code",
   "execution_count": 86,
   "id": "c95dfe9b-9239-4bc9-b0f7-dacdb98d33b8",
   "metadata": {},
   "outputs": [
    {
     "data": {
      "text/plain": [
       "True"
      ]
     },
     "execution_count": 86,
     "metadata": {},
     "output_type": "execute_result"
    }
   ],
   "source": [
    "# NB: sorted uses operator < on tuple object (first component, then second, then third\n",
    "# Here: decision on first component name (str)\n",
    "('Agen', 200000, '47000') < ('Lyon', 700000, '69000')"
   ]
  },
  {
   "cell_type": "code",
   "execution_count": 87,
   "id": "52767eb8-729d-458c-bbbd-5f833e32bf34",
   "metadata": {},
   "outputs": [
    {
     "data": {
      "text/plain": [
       "True"
      ]
     },
     "execution_count": 87,
     "metadata": {},
     "output_type": "execute_result"
    }
   ],
   "source": [
    "# Here: decision on second component population (int)\n",
    "('Saint Sauveur', 505, '05200') < ('Saint Sauveur', 1321, '33250')"
   ]
  },
  {
   "cell_type": "code",
   "execution_count": 88,
   "id": "5272aabc-e08e-46b1-950f-75776ffcf252",
   "metadata": {},
   "outputs": [
    {
     "data": {
      "text/plain": [
       "[('Agen', 200000, '47000'),\n",
       " ('Lyon', 700000, '69000'),\n",
       " ('Montauban', 100000, '82000'),\n",
       " ('Saint Etienne', 300000, '42000'),\n",
       " ('Saint Sauveur', 505, '05200'),\n",
       " ('Saint Sauveur', 1321, '33250'),\n",
       " ('Toulouse', 500000, '31000')]"
      ]
     },
     "execution_count": 88,
     "metadata": {},
     "output_type": "execute_result"
    }
   ],
   "source": [
    "liste_villes.append(('Saint Sauveur', 505, '05200'))\n",
    "liste_villes.append(('Saint Sauveur',1321, '33250'))\n",
    "liste_villes.sort() # NB: in place sort\n",
    "liste_villes"
   ]
  },
  {
   "cell_type": "code",
   "execution_count": 90,
   "id": "7ffa8333-9f04-4d72-9d86-9ec35288779e",
   "metadata": {},
   "outputs": [
    {
     "data": {
      "text/plain": [
       "[('Toulouse', 500000, '31000'),\n",
       " ('Saint Sauveur', 1321, '33250'),\n",
       " ('Saint Sauveur', 505, '05200'),\n",
       " ('Saint Etienne', 300000, '42000'),\n",
       " ('Montauban', 100000, '82000'),\n",
       " ('Lyon', 700000, '69000'),\n",
       " ('Agen', 200000, '47000')]"
      ]
     },
     "execution_count": 90,
     "metadata": {},
     "output_type": "execute_result"
    }
   ],
   "source": [
    "liste_villes.sort(reverse=True)\n",
    "liste_villes"
   ]
  },
  {
   "cell_type": "code",
   "execution_count": 97,
   "id": "a6e57a73-376c-4808-8fc6-0e37532f768c",
   "metadata": {},
   "outputs": [],
   "source": [
    "def population_from_city(city):\n",
    "    \"\"\"get population from a city represented as a tuple\n",
    "    \n",
    "    population must be at index 1\n",
    "\n",
    "    Example:\n",
    "        city = ('Saint Sauveur', 505, '05200')\n",
    "        population_from_city(city) -> 505\n",
    "    \"\"\"\n",
    "    return city[1]"
   ]
  },
  {
   "cell_type": "code",
   "execution_count": 98,
   "id": "14fbc1a1-ea8c-4fcd-ad76-dd9e5b135d2b",
   "metadata": {},
   "outputs": [
    {
     "data": {
      "text/plain": [
       "505"
      ]
     },
     "execution_count": 98,
     "metadata": {},
     "output_type": "execute_result"
    }
   ],
   "source": [
    "city = ('Saint Sauveur', 505, '05200')\n",
    "pop = population_from_city(city)\n",
    "pop"
   ]
  },
  {
   "cell_type": "code",
   "execution_count": 99,
   "id": "e314fe27-6a16-4031-a111-b648ced6e690",
   "metadata": {},
   "outputs": [
    {
     "data": {
      "text/plain": [
       "\u001b[1;31mSignature:\u001b[0m \u001b[0mpopulation_from_city\u001b[0m\u001b[1;33m(\u001b[0m\u001b[0mcity\u001b[0m\u001b[1;33m)\u001b[0m\u001b[1;33m\u001b[0m\u001b[1;33m\u001b[0m\u001b[0m\n",
       "\u001b[1;31mDocstring:\u001b[0m\n",
       "get population from a city represented as a tuple\n",
       "\n",
       "population must be at index 1\n",
       "\n",
       "Example:\n",
       "    city = ('Saint Sauveur', 505, '05200')\n",
       "    population_from_city(city) -> 505\n",
       "\u001b[1;31mFile:\u001b[0m      c:\\users\\aelion\\appdata\\local\\temp\\ipykernel_10972\\1608077148.py\n",
       "\u001b[1;31mType:\u001b[0m      function"
      ]
     },
     "metadata": {},
     "output_type": "display_data"
    }
   ],
   "source": [
    "# access doctring of my function population_from_city\n",
    "population_from_city?"
   ]
  },
  {
   "cell_type": "code",
   "execution_count": 100,
   "id": "99bfd348-1af7-462d-a0e9-3fedcf23e6e3",
   "metadata": {},
   "outputs": [
    {
     "data": {
      "text/plain": [
       "[('Saint Sauveur', 505, '05200'),\n",
       " ('Saint Sauveur', 1321, '33250'),\n",
       " ('Montauban', 100000, '82000'),\n",
       " ('Agen', 200000, '47000'),\n",
       " ('Saint Etienne', 300000, '42000'),\n",
       " ('Toulouse', 500000, '31000'),\n",
       " ('Lyon', 700000, '69000')]"
      ]
     },
     "execution_count": 100,
     "metadata": {},
     "output_type": "execute_result"
    }
   ],
   "source": [
    "liste_villes.sort(key=population_from_city)\n",
    "liste_villes"
   ]
  },
  {
   "cell_type": "code",
   "execution_count": 107,
   "id": "6b0b2bd2-6a19-4e52-bd05-6909d467f710",
   "metadata": {},
   "outputs": [],
   "source": [
    "# TypeError: 'int' object is not subscriptable\n",
    "# 12 is not a duck \"city\"\n",
    "#population_from_city(12)"
   ]
  },
  {
   "cell_type": "code",
   "execution_count": null,
   "id": "aab2a71c-90a0-4c48-8c41-6a5facf1651d",
   "metadata": {},
   "outputs": [],
   "source": []
  },
  {
   "cell_type": "markdown",
   "id": "50758cdb-d22d-4d73-b800-e292ea762c48",
   "metadata": {},
   "source": [
    "## Generator, for expression"
   ]
  },
  {
   "cell_type": "code",
   "execution_count": 45,
   "id": "68a951ea-5b72-498c-b6f8-1d651e4771b9",
   "metadata": {},
   "outputs": [
    {
     "data": {
      "text/plain": [
       "[1, 2, 5, 10, 17, 26, 37, 50, 65, 82]"
      ]
     },
     "execution_count": 45,
     "metadata": {},
     "output_type": "execute_result"
    }
   ],
   "source": [
    "[x**2 + 1 for x in range(10)]"
   ]
  },
  {
   "cell_type": "code",
   "execution_count": 64,
   "id": "b5fb76e0-1e66-4876-83aa-39e161efd8a1",
   "metadata": {},
   "outputs": [
    {
     "data": {
      "text/plain": [
       "<generator object <genexpr> at 0x000002678C5FDE50>"
      ]
     },
     "execution_count": 64,
     "metadata": {},
     "output_type": "execute_result"
    }
   ],
   "source": [
    "g = (x**2 + 1 for x in range(10))\n",
    "g"
   ]
  },
  {
   "cell_type": "code",
   "execution_count": 71,
   "id": "3438931a-294b-4c4d-a56d-256cea6c483b",
   "metadata": {},
   "outputs": [
    {
     "data": {
      "text/plain": [
       "37"
      ]
     },
     "execution_count": 71,
     "metadata": {},
     "output_type": "execute_result"
    }
   ],
   "source": [
    "# evaluate this cell until exception StopIteration\n",
    "next(g)"
   ]
  },
  {
   "cell_type": "code",
   "execution_count": 74,
   "id": "2f814707-ce06-4067-96a3-d0c344589790",
   "metadata": {},
   "outputs": [
    {
     "data": {
      "text/plain": [
       "295"
      ]
     },
     "execution_count": 74,
     "metadata": {},
     "output_type": "execute_result"
    }
   ],
   "source": [
    "sum(x**2 + 1 for x in range(10))"
   ]
  },
  {
   "cell_type": "code",
   "execution_count": 75,
   "id": "f5fcb2e3-1620-41cb-8057-90fac110a64d",
   "metadata": {},
   "outputs": [
    {
     "data": {
      "text/plain": [
       "\u001b[1;31mSignature:\u001b[0m \u001b[0msum\u001b[0m\u001b[1;33m(\u001b[0m\u001b[0miterable\u001b[0m\u001b[1;33m,\u001b[0m \u001b[1;33m/\u001b[0m\u001b[1;33m,\u001b[0m \u001b[0mstart\u001b[0m\u001b[1;33m=\u001b[0m\u001b[1;36m0\u001b[0m\u001b[1;33m)\u001b[0m\u001b[1;33m\u001b[0m\u001b[1;33m\u001b[0m\u001b[0m\n",
       "\u001b[1;31mDocstring:\u001b[0m\n",
       "Return the sum of a 'start' value (default: 0) plus an iterable of numbers\n",
       "\n",
       "When the iterable is empty, return the start value.\n",
       "This function is intended specifically for use with numeric values and may\n",
       "reject non-numeric types.\n",
       "\u001b[1;31mType:\u001b[0m      builtin_function_or_method"
      ]
     },
     "metadata": {},
     "output_type": "display_data"
    }
   ],
   "source": [
    "sum?"
   ]
  },
  {
   "cell_type": "markdown",
   "id": "dba4bcac-7d62-4b45-8ae2-cf191000019c",
   "metadata": {},
   "source": [
    "## Dictionaries"
   ]
  }
 ],
 "metadata": {
  "kernelspec": {
   "display_name": "Python 3 (ipykernel)",
   "language": "python",
   "name": "python3"
  },
  "language_info": {
   "codemirror_mode": {
    "name": "ipython",
    "version": 3
   },
   "file_extension": ".py",
   "mimetype": "text/x-python",
   "name": "python",
   "nbconvert_exporter": "python",
   "pygments_lexer": "ipython3",
   "version": "3.11.7"
  }
 },
 "nbformat": 4,
 "nbformat_minor": 5
}
