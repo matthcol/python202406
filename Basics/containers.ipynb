{
 "cells": [
  {
   "cell_type": "markdown",
   "id": "70a601a5-255d-4ae1-8a3f-a48a28780ed7",
   "metadata": {
    "editable": true,
    "slideshow": {
     "slide_type": ""
    },
    "tags": []
   },
   "source": [
    "# Containers\n",
    "- builtin container types:\n",
    "    - list\n",
    "    - tuple\n",
    "    - dict\n",
    "    - set"
   ]
  },
  {
   "cell_type": "markdown",
   "id": "f0a52f5c-2d1f-4add-830b-d3c326ad82cb",
   "metadata": {},
   "source": [
    "## Lists\n",
    "- type list\n",
    "- iterable\n",
    "- length: builtin function len\n",
    "- modifiable: append/extend/remove/sort/...\n",
    "- getitem/setitem with operator [] (index or slice)"
   ]
  },
  {
   "cell_type": "code",
   "execution_count": 1,
   "id": "c2d66061-060f-4b95-850d-a8d563f7d87f",
   "metadata": {},
   "outputs": [],
   "source": [
    "cities = [\n",
    "    \"Toulouse\",\n",
    "    \"Montpellier\",\n",
    "    \"Marseille\",\n",
    "    \"Lyon\",\n",
    "    \"Valence\",\n",
    "    \"Saint Etienne\",\n",
    "    \"Paris\",\n",
    "    \"Pau\",\n",
    "]"
   ]
  },
  {
   "cell_type": "code",
   "execution_count": 2,
   "id": "53c07248-210f-4a03-90b9-c85d799ae9f5",
   "metadata": {},
   "outputs": [
    {
     "data": {
      "text/plain": [
       "['Toulouse',\n",
       " 'Montpellier',\n",
       " 'Marseille',\n",
       " 'Lyon',\n",
       " 'Valence',\n",
       " 'Saint Etienne',\n",
       " 'Paris']"
      ]
     },
     "execution_count": 2,
     "metadata": {},
     "output_type": "execute_result"
    }
   ],
   "source": [
    "del cities[-1]\n",
    "cities"
   ]
  },
  {
   "cell_type": "code",
   "execution_count": 3,
   "id": "e3833c8d-43b4-4a0a-a816-d1c29bc231a7",
   "metadata": {},
   "outputs": [
    {
     "name": "stdout",
     "output_type": "stream",
     "text": [
      "City count: 7\n",
      "  - Toulouse\n",
      "  - Montpellier\n",
      "  - Marseille\n",
      "  - Lyon\n",
      "  - Valence\n",
      "  - Saint Etienne\n",
      "  - Paris\n"
     ]
    }
   ],
   "source": [
    "print(\"City count:\", len(cities))\n",
    "for city in cities:\n",
    "    print(\"  -\", city)"
   ]
  },
  {
   "cell_type": "markdown",
   "id": "ac590b3f-f242-4cd5-b953-72fd92c103b3",
   "metadata": {},
   "source": [
    "## Tuples\n",
    "- type: tuple\n",
    "- iterable\n",
    "- length: builtin function len\n",
    "- getitem: operator[] with index, slice\n",
    "- not modifiable: NO methods or operators setitem, del, append ..."
   ]
  },
  {
   "cell_type": "code",
   "execution_count": 4,
   "id": "17663575-ca8b-4970-a51c-6d363f55685d",
   "metadata": {},
   "outputs": [
    {
     "data": {
      "text/plain": [
       "('Toulouse', 477000, '31000')"
      ]
     },
     "execution_count": 4,
     "metadata": {},
     "output_type": "execute_result"
    }
   ],
   "source": [
    "# tuple[str,int,str]\n",
    "city = \"Toulouse\", 477_000, \"31000\"\n",
    "city"
   ]
  },
  {
   "cell_type": "code",
   "execution_count": 5,
   "id": "ac2ec3b3-4a7c-4df0-a399-98df6f520e9a",
   "metadata": {},
   "outputs": [
    {
     "data": {
      "text/plain": [
       "tuple"
      ]
     },
     "execution_count": 5,
     "metadata": {},
     "output_type": "execute_result"
    }
   ],
   "source": [
    "type(city)"
   ]
  },
  {
   "cell_type": "code",
   "execution_count": 6,
   "id": "ed246e1f-f7bd-407f-b0fa-bd428c39b997",
   "metadata": {},
   "outputs": [
    {
     "data": {
      "text/plain": [
       "'Toulouse'"
      ]
     },
     "execution_count": 6,
     "metadata": {},
     "output_type": "execute_result"
    }
   ],
   "source": [
    "nom = city[0]\n",
    "nom"
   ]
  },
  {
   "cell_type": "code",
   "execution_count": 7,
   "id": "d0001396-ba24-4d5b-a45a-8fb66e2c304f",
   "metadata": {},
   "outputs": [],
   "source": [
    "# TypeError: 'tuple' object does not support item assignment\n",
    "# city[0] = \"Pau\""
   ]
  },
  {
   "cell_type": "code",
   "execution_count": 8,
   "id": "519f7c4e-8422-4ec3-8be9-931cb30c55c4",
   "metadata": {},
   "outputs": [],
   "source": [
    "# avoid that\n",
    "nom = city[0]\n",
    "population = city[1]"
   ]
  },
  {
   "cell_type": "code",
   "execution_count": 9,
   "id": "24718408-80b1-4423-9fbc-87589f2e0d8d",
   "metadata": {},
   "outputs": [
    {
     "name": "stdout",
     "output_type": "stream",
     "text": [
      "Toulouse, 477000, 31000\n"
     ]
    }
   ],
   "source": [
    "# unpack tuple into n variables\n",
    "nom, population, cp = city\n",
    "print(nom, population, cp, sep=\", \")"
   ]
  },
  {
   "cell_type": "code",
   "execution_count": 10,
   "id": "295fabc6-50a0-4af8-a1af-66b5edf0211e",
   "metadata": {},
   "outputs": [],
   "source": [
    "# ValueError: too many values to unpack (expected 2)\n",
    "# nom, population = city\n",
    "\n",
    "# ValueError: not enough values to unpack (expected 4, got 3)\n",
    "# nom, population, cp, mayor = city"
   ]
  },
  {
   "cell_type": "code",
   "execution_count": 11,
   "id": "3ae28509-d917-4a88-a723-4aac04dc03c3",
   "metadata": {},
   "outputs": [
    {
     "name": "stdout",
     "output_type": "stream",
     "text": [
      "Toulouse, 31000\n"
     ]
    }
   ],
   "source": [
    "nom, _, cp = city\n",
    "print(nom, cp, sep=\", \")"
   ]
  },
  {
   "cell_type": "code",
   "execution_count": 12,
   "id": "4fe45ed7-5c76-42de-9a6e-2de9d1563a89",
   "metadata": {},
   "outputs": [
    {
     "data": {
      "text/plain": [
       "3"
      ]
     },
     "execution_count": 12,
     "metadata": {},
     "output_type": "execute_result"
    }
   ],
   "source": [
    "len(city)"
   ]
  },
  {
   "cell_type": "code",
   "execution_count": 13,
   "id": "2763fc92-c182-412f-8e5c-18fe1ba78cf0",
   "metadata": {},
   "outputs": [
    {
     "name": "stdout",
     "output_type": "stream",
     "text": [
      "Toulouse\n",
      "477000\n",
      "31000\n"
     ]
    }
   ],
   "source": [
    "for info in city:\n",
    "    print(info)"
   ]
  },
  {
   "cell_type": "code",
   "execution_count": 14,
   "id": "66d6f024-cefe-4624-a354-efb1f2fd7f87",
   "metadata": {},
   "outputs": [
    {
     "data": {
      "text/plain": [
       "3"
      ]
     },
     "execution_count": 14,
     "metadata": {},
     "output_type": "execute_result"
    }
   ],
   "source": [
    "# len(12, 34, 56) # you must putparenthesis around tuple\n",
    "len((12, 34, 56))"
   ]
  },
  {
   "cell_type": "markdown",
   "id": "9852271f-b342-416e-8523-89ae5242dec2",
   "metadata": {
    "editable": true,
    "slideshow": {
     "slide_type": ""
    },
    "tags": []
   },
   "source": [
    "## Tuple vs List"
   ]
  },
  {
   "cell_type": "markdown",
   "id": "89119e6e-78f5-4cad-bc2e-4cca842caed9",
   "metadata": {},
   "source": [
    "### Reading and computing"
   ]
  },
  {
   "cell_type": "code",
   "execution_count": 15,
   "id": "2ea0f755-cfa5-4cb1-ad21-a0bcb25b3b06",
   "metadata": {},
   "outputs": [],
   "source": [
    "data1 = (12, 34, 56)\n",
    "data2 = [12, 34, 56]"
   ]
  },
  {
   "cell_type": "code",
   "execution_count": 16,
   "id": "326151a8-8290-4160-94f7-5945d8521279",
   "metadata": {},
   "outputs": [
    {
     "name": "stdout",
     "output_type": "stream",
     "text": [
      "102 102\n"
     ]
    }
   ],
   "source": [
    "s1 = sum(data1)\n",
    "s2 = sum(data2)\n",
    "print(s1, s2)"
   ]
  },
  {
   "cell_type": "markdown",
   "id": "0795c9fc-54c8-439c-b7b5-8cec080750f6",
   "metadata": {},
   "source": [
    "### Modification: KO OK"
   ]
  },
  {
   "cell_type": "code",
   "execution_count": 17,
   "id": "5b93911e-1073-43b0-89b5-5eb290ad35c3",
   "metadata": {},
   "outputs": [
    {
     "data": {
      "text/plain": [
       "[12, 34, 56, 90]"
      ]
     },
     "execution_count": 17,
     "metadata": {},
     "output_type": "execute_result"
    }
   ],
   "source": [
    "# AttributeError: 'tuple' object has no attribute 'append'\n",
    "# data1.append(90)\n",
    "data2.append(90)\n",
    "data2"
   ]
  },
  {
   "cell_type": "markdown",
   "id": "c99dd805-1ffd-4ae4-b40a-396c5bf70fb9",
   "metadata": {},
   "source": [
    "### Exercise\n",
    "- Define a list of cities represented by a tuple (name, population, code postal)\n",
    "- Display cities line by line: name = Toulouse, population = 477000, code postal = 31000\n",
    "- Compute total population of all cities\n",
    "- Compute min population\n",
    "- Compute max population\n",
    "- list of population only (sorted with ascending order: numeric)\n",
    "- list of name only (sorted with ascending order: alphabetic)"
   ]
  },
  {
   "cell_type": "code",
   "execution_count": 18,
   "id": "ee05bf0f-2720-4716-ba20-81754b7b31ea",
   "metadata": {},
   "outputs": [
    {
     "data": {
      "text/plain": [
       "[('Toulouse', 500000, '31000'),\n",
       " ('Agen', 200000, '47000'),\n",
       " ('Montauban', 100000, '82000'),\n",
       " ('Lyon', 700000, '69000'),\n",
       " ('Saint Etienne', 300000, '42000')]"
      ]
     },
     "execution_count": 18,
     "metadata": {},
     "output_type": "execute_result"
    }
   ],
   "source": [
    "# type: list[tuple[str,int,str]]\n",
    "liste_villes = [\n",
    "    ('Toulouse', 500_000, '31000'), \n",
    "    ('Agen', 200_000, '47000'), \n",
    "    ('Montauban', 100_000, '82000'), \n",
    "    ('Lyon', 700_000, '69000'), \n",
    "    ('Saint Etienne', 300_000, '42000'),\n",
    "]\n",
    "liste_villes"
   ]
  },
  {
   "cell_type": "code",
   "execution_count": 19,
   "id": "14158423-e4ed-490b-b2fa-2dd187200b88",
   "metadata": {},
   "outputs": [
    {
     "data": {
      "text/plain": [
       "('Toulouse', 500000, '31000')"
      ]
     },
     "execution_count": 19,
     "metadata": {},
     "output_type": "execute_result"
    }
   ],
   "source": [
    "liste_villes[0]"
   ]
  },
  {
   "cell_type": "code",
   "execution_count": 20,
   "id": "338522d6-71fb-46d7-972d-3f99924148fb",
   "metadata": {},
   "outputs": [
    {
     "data": {
      "text/plain": [
       "'Toulouse'"
      ]
     },
     "execution_count": 20,
     "metadata": {},
     "output_type": "execute_result"
    }
   ],
   "source": [
    "liste_villes[0][0]"
   ]
  },
  {
   "cell_type": "code",
   "execution_count": 21,
   "id": "4426a509-3f11-48f5-91cc-3a82ea43a626",
   "metadata": {},
   "outputs": [
    {
     "name": "stdout",
     "output_type": "stream",
     "text": [
      "Nom : Toulouse ; Habitants : 500000 ; Code Postal : 31000\n",
      "Nom : Agen ; Habitants : 200000 ; Code Postal : 47000\n",
      "Nom : Montauban ; Habitants : 100000 ; Code Postal : 82000\n",
      "Nom : Lyon ; Habitants : 700000 ; Code Postal : 69000\n",
      "Nom : Saint Etienne ; Habitants : 300000 ; Code Postal : 42000\n"
     ]
    }
   ],
   "source": [
    "for i in range(len(liste_villes)):\n",
    "    print(\n",
    "        'Nom : ',\n",
    "        liste_villes[i][0], \n",
    "        ' ; Habitants : ', \n",
    "        liste_villes[i][1],\n",
    "        ' ; Code Postal : ',\n",
    "        liste_villes[i][2],\n",
    "        sep=''\n",
    "    )"
   ]
  },
  {
   "cell_type": "code",
   "execution_count": 22,
   "id": "43fe9922-d5ce-4760-9b8a-894f504378b1",
   "metadata": {},
   "outputs": [
    {
     "name": "stdout",
     "output_type": "stream",
     "text": [
      "Nom : Toulouse ; Habitants : 500000 ; Code Postal : 31000\n",
      "Nom : Agen ; Habitants : 200000 ; Code Postal : 47000\n",
      "Nom : Montauban ; Habitants : 100000 ; Code Postal : 82000\n",
      "Nom : Lyon ; Habitants : 700000 ; Code Postal : 69000\n",
      "Nom : Saint Etienne ; Habitants : 300000 ; Code Postal : 42000\n"
     ]
    }
   ],
   "source": [
    "for ville in liste_villes:\n",
    "     print(\n",
    "        'Nom : ',\n",
    "        ville[0], \n",
    "        ' ; Habitants : ', \n",
    "        ville[1],\n",
    "        ' ; Code Postal : ',\n",
    "        ville[2],\n",
    "        sep=''\n",
    "    )"
   ]
  },
  {
   "cell_type": "code",
   "execution_count": 23,
   "id": "ec6bd28d-e4e1-4310-9237-1c96f10cdbea",
   "metadata": {},
   "outputs": [
    {
     "name": "stdout",
     "output_type": "stream",
     "text": [
      "Nom : Toulouse ; Habitants : 500000 ; Code Postal : 31000\n",
      "Nom : Agen ; Habitants : 200000 ; Code Postal : 47000\n",
      "Nom : Montauban ; Habitants : 100000 ; Code Postal : 82000\n",
      "Nom : Lyon ; Habitants : 700000 ; Code Postal : 69000\n",
      "Nom : Saint Etienne ; Habitants : 300000 ; Code Postal : 42000\n"
     ]
    }
   ],
   "source": [
    "# foreach with unpack current element into n varaiables\n",
    "for nom, population, cp in liste_villes:\n",
    "     print(\n",
    "        'Nom : ',\n",
    "        nom, \n",
    "        ' ; Habitants : ', \n",
    "        population,\n",
    "        ' ; Code Postal : ',\n",
    "        cp,\n",
    "        sep=''\n",
    "    )"
   ]
  },
  {
   "cell_type": "code",
   "execution_count": 24,
   "id": "9b4525cf-f566-4b21-b3a5-95727dca932b",
   "metadata": {
    "editable": true,
    "slideshow": {
     "slide_type": ""
    },
    "tags": []
   },
   "outputs": [
    {
     "name": "stdout",
     "output_type": "stream",
     "text": [
      "Nom : Toulouse ; Habitants : 500000 ; Code Postal : 31000\n",
      "Nom : Agen ; Habitants : 200000 ; Code Postal : 47000\n",
      "Nom : Montauban ; Habitants : 100000 ; Code Postal : 82000\n",
      "Nom : Lyon ; Habitants : 700000 ; Code Postal : 69000\n",
      "Nom : Saint Etienne ; Habitants : 300000 ; Code Postal : 42000\n"
     ]
    }
   ],
   "source": [
    "# with f-string (formatted string)\n",
    "for nom, population, cp in liste_villes:\n",
    "     print(f'Nom : {nom} ; Habitants : {population} ; Code Postal : {cp}')"
   ]
  },
  {
   "cell_type": "code",
   "execution_count": 25,
   "id": "74c17bf5-47d7-4356-ac17-316d3d686ee4",
   "metadata": {},
   "outputs": [
    {
     "name": "stdout",
     "output_type": "stream",
     "text": [
      "1800000\n"
     ]
    }
   ],
   "source": [
    "sommePopulation = 0\n",
    "for ville in liste_villes: \n",
    "    sommePopulation = sommePopulation + ville[1]\n",
    "print(sommePopulation)"
   ]
  },
  {
   "cell_type": "code",
   "execution_count": 26,
   "id": "cc233a3f-e67f-4e22-a759-ba0deffc5402",
   "metadata": {},
   "outputs": [
    {
     "name": "stdout",
     "output_type": "stream",
     "text": [
      "1800000\n"
     ]
    }
   ],
   "source": [
    "sommePopulation = 0\n",
    "for _, population, _ in liste_villes: \n",
    "    sommePopulation = sommePopulation +population\n",
    "print(sommePopulation)"
   ]
  },
  {
   "cell_type": "code",
   "execution_count": 27,
   "id": "543c0f0c-2a0c-4ff6-8c1c-53480778316e",
   "metadata": {},
   "outputs": [
    {
     "data": {
      "text/plain": [
       "1800000"
      ]
     },
     "execution_count": 27,
     "metadata": {},
     "output_type": "execute_result"
    }
   ],
   "source": [
    "# expression for = generator\n",
    "total_population = sum(population for _, population, _ in liste_villes)\n",
    "total_population"
   ]
  },
  {
   "cell_type": "code",
   "execution_count": 28,
   "id": "49666aa2-e1e4-44d4-9d07-57f757763dc8",
   "metadata": {},
   "outputs": [
    {
     "data": {
      "text/plain": [
       "100000"
      ]
     },
     "execution_count": 28,
     "metadata": {},
     "output_type": "execute_result"
    }
   ],
   "source": [
    "population_min = min(population for _,population,_ in liste_villes)\n",
    "population_min"
   ]
  },
  {
   "cell_type": "code",
   "execution_count": 29,
   "id": "c50a2643-2983-45ca-8dcb-2e08a5502dd9",
   "metadata": {},
   "outputs": [
    {
     "data": {
      "text/plain": [
       "700000"
      ]
     },
     "execution_count": 29,
     "metadata": {},
     "output_type": "execute_result"
    }
   ],
   "source": [
    "population_max = max(population for _,population,_ in liste_villes)\n",
    "population_max"
   ]
  },
  {
   "cell_type": "code",
   "execution_count": 30,
   "id": "b1b5f1ba-05a9-4b47-b4af-fb5284210700",
   "metadata": {},
   "outputs": [
    {
     "data": {
      "text/plain": [
       "['Agen', 'Lyon', 'Montauban', 'Saint Etienne', 'Toulouse']"
      ]
     },
     "execution_count": 30,
     "metadata": {},
     "output_type": "execute_result"
    }
   ],
   "source": [
    "sorted(nom for nom,_,_ in liste_villes)"
   ]
  },
  {
   "cell_type": "code",
   "execution_count": 31,
   "id": "84ff97a9-9580-47f9-a8cc-a33aa493155b",
   "metadata": {},
   "outputs": [
    {
     "data": {
      "text/plain": [
       "True"
      ]
     },
     "execution_count": 31,
     "metadata": {},
     "output_type": "execute_result"
    }
   ],
   "source": [
    "# NB: sorted uses operator < on str objects\n",
    "'Agen' < 'Lyon'"
   ]
  },
  {
   "cell_type": "code",
   "execution_count": 32,
   "id": "042be528-7e18-4bd4-91b5-86aa8d95b115",
   "metadata": {},
   "outputs": [
    {
     "data": {
      "text/plain": [
       "[100000, 200000, 300000, 500000, 700000]"
      ]
     },
     "execution_count": 32,
     "metadata": {},
     "output_type": "execute_result"
    }
   ],
   "source": [
    "population_sort = sorted(population for _,population,_ in liste_villes)\n",
    "population_sort"
   ]
  },
  {
   "cell_type": "code",
   "execution_count": 33,
   "id": "5af9b44c-17fd-4016-b2f7-c293f556cf16",
   "metadata": {},
   "outputs": [
    {
     "data": {
      "text/plain": [
       "[('Agen', 200000, '47000'),\n",
       " ('Lyon', 700000, '69000'),\n",
       " ('Montauban', 100000, '82000'),\n",
       " ('Saint Etienne', 300000, '42000'),\n",
       " ('Toulouse', 500000, '31000')]"
      ]
     },
     "execution_count": 33,
     "metadata": {},
     "output_type": "execute_result"
    }
   ],
   "source": [
    "sorted(liste_villes)"
   ]
  },
  {
   "cell_type": "code",
   "execution_count": 34,
   "id": "08f3c349-6d41-42ae-8768-5c0e33b61d98",
   "metadata": {},
   "outputs": [
    {
     "data": {
      "text/plain": [
       "True"
      ]
     },
     "execution_count": 34,
     "metadata": {},
     "output_type": "execute_result"
    }
   ],
   "source": [
    "# NB: sorted uses operator < on tuple object (first component, then second, then third\n",
    "# Here: decision on first component name (str)\n",
    "('Agen', 200000, '47000') < ('Lyon', 700000, '69000')"
   ]
  },
  {
   "cell_type": "code",
   "execution_count": 35,
   "id": "28f024d0-b450-4293-bf54-5efb6a77ccbd",
   "metadata": {},
   "outputs": [
    {
     "data": {
      "text/plain": [
       "True"
      ]
     },
     "execution_count": 35,
     "metadata": {},
     "output_type": "execute_result"
    }
   ],
   "source": [
    "# Here: decision on second component population (int)\n",
    "('Saint Sauveur', 505, '05200') < ('Saint Sauveur', 1321, '33250')"
   ]
  },
  {
   "cell_type": "code",
   "execution_count": 36,
   "id": "0519a626-32ef-4597-b20f-570cad5dec62",
   "metadata": {},
   "outputs": [
    {
     "data": {
      "text/plain": [
       "[('Agen', 200000, '47000'),\n",
       " ('Lyon', 700000, '69000'),\n",
       " ('Montauban', 100000, '82000'),\n",
       " ('Saint Etienne', 300000, '42000'),\n",
       " ('Saint Sauveur', 505, '05200'),\n",
       " ('Saint Sauveur', 1321, '33250'),\n",
       " ('Toulouse', 500000, '31000')]"
      ]
     },
     "execution_count": 36,
     "metadata": {},
     "output_type": "execute_result"
    }
   ],
   "source": [
    "liste_villes.append(('Saint Sauveur', 505, '05200'))\n",
    "liste_villes.append(('Saint Sauveur',1321, '33250'))\n",
    "liste_villes.sort() # NB: in place sort\n",
    "liste_villes"
   ]
  },
  {
   "cell_type": "code",
   "execution_count": 37,
   "id": "ff971212-95d8-4422-8466-57c136b37359",
   "metadata": {},
   "outputs": [
    {
     "data": {
      "text/plain": [
       "[('Toulouse', 500000, '31000'),\n",
       " ('Saint Sauveur', 1321, '33250'),\n",
       " ('Saint Sauveur', 505, '05200'),\n",
       " ('Saint Etienne', 300000, '42000'),\n",
       " ('Montauban', 100000, '82000'),\n",
       " ('Lyon', 700000, '69000'),\n",
       " ('Agen', 200000, '47000')]"
      ]
     },
     "execution_count": 37,
     "metadata": {},
     "output_type": "execute_result"
    }
   ],
   "source": [
    "liste_villes.sort(reverse=True)\n",
    "liste_villes"
   ]
  },
  {
   "cell_type": "code",
   "execution_count": 38,
   "id": "fbb6b943-b514-41e9-bfc3-9ea51515a5b8",
   "metadata": {},
   "outputs": [],
   "source": [
    "def population_from_city(city):\n",
    "    \"\"\"get population from a city represented as a tuple\n",
    "    \n",
    "    population must be at index 1\n",
    "\n",
    "    Example:\n",
    "        city = ('Saint Sauveur', 505, '05200')\n",
    "        population_from_city(city) -> 505\n",
    "    \"\"\"\n",
    "    return city[1]"
   ]
  },
  {
   "cell_type": "code",
   "execution_count": 39,
   "id": "7dcfc6a7-7db7-4599-ae69-67038a51c02d",
   "metadata": {},
   "outputs": [
    {
     "data": {
      "text/plain": [
       "505"
      ]
     },
     "execution_count": 39,
     "metadata": {},
     "output_type": "execute_result"
    }
   ],
   "source": [
    "city = ('Saint Sauveur', 505, '05200')\n",
    "pop = population_from_city(city)\n",
    "pop"
   ]
  },
  {
   "cell_type": "code",
   "execution_count": 40,
   "id": "36469e48-f467-46ae-bc50-74d793778c5d",
   "metadata": {},
   "outputs": [
    {
     "data": {
      "text/plain": [
       "\u001b[1;31mSignature:\u001b[0m \u001b[0mpopulation_from_city\u001b[0m\u001b[1;33m(\u001b[0m\u001b[0mcity\u001b[0m\u001b[1;33m)\u001b[0m\u001b[1;33m\u001b[0m\u001b[1;33m\u001b[0m\u001b[0m\n",
       "\u001b[1;31mDocstring:\u001b[0m\n",
       "get population from a city represented as a tuple\n",
       "\n",
       "population must be at index 1\n",
       "\n",
       "Example:\n",
       "    city = ('Saint Sauveur', 505, '05200')\n",
       "    population_from_city(city) -> 505\n",
       "\u001b[1;31mFile:\u001b[0m      c:\\users\\aelion\\appdata\\local\\temp\\ipykernel_2484\\1608077148.py\n",
       "\u001b[1;31mType:\u001b[0m      function"
      ]
     },
     "metadata": {},
     "output_type": "display_data"
    }
   ],
   "source": [
    "# access doctring of my function population_from_city\n",
    "population_from_city?"
   ]
  },
  {
   "cell_type": "code",
   "execution_count": 41,
   "id": "55bb110e-f179-48a4-a550-978625a3cd2b",
   "metadata": {},
   "outputs": [
    {
     "data": {
      "text/plain": [
       "[('Saint Sauveur', 505, '05200'),\n",
       " ('Saint Sauveur', 1321, '33250'),\n",
       " ('Montauban', 100000, '82000'),\n",
       " ('Agen', 200000, '47000'),\n",
       " ('Saint Etienne', 300000, '42000'),\n",
       " ('Toulouse', 500000, '31000'),\n",
       " ('Lyon', 700000, '69000')]"
      ]
     },
     "execution_count": 41,
     "metadata": {},
     "output_type": "execute_result"
    }
   ],
   "source": [
    "liste_villes.sort(key=population_from_city)\n",
    "liste_villes"
   ]
  },
  {
   "cell_type": "code",
   "execution_count": 42,
   "id": "7fa372c4-e566-4ca0-8e18-c5a766a19643",
   "metadata": {},
   "outputs": [],
   "source": [
    "# TypeError: 'int' object is not subscriptable\n",
    "# 12 is not a duck \"city\"\n",
    "#population_from_city(12)"
   ]
  },
  {
   "cell_type": "markdown",
   "id": "edd114cd-a7d0-470e-9fb5-4a061035906e",
   "metadata": {},
   "source": [
    "## Generator, for expression"
   ]
  },
  {
   "cell_type": "code",
   "execution_count": 43,
   "id": "aac117c1-e85e-4a11-9ee2-6b4c9e61c668",
   "metadata": {},
   "outputs": [
    {
     "data": {
      "text/plain": [
       "[1, 2, 5, 10, 17, 26, 37, 50, 65, 82]"
      ]
     },
     "execution_count": 43,
     "metadata": {},
     "output_type": "execute_result"
    }
   ],
   "source": [
    "[x**2 + 1 for x in range(10)]"
   ]
  },
  {
   "cell_type": "code",
   "execution_count": 44,
   "id": "99329c68-564c-49f1-be1c-c1630df3ea16",
   "metadata": {},
   "outputs": [
    {
     "data": {
      "text/plain": [
       "<generator object <genexpr> at 0x000002DD3E3458A0>"
      ]
     },
     "execution_count": 44,
     "metadata": {},
     "output_type": "execute_result"
    }
   ],
   "source": [
    "g = (x**2 + 1 for x in range(10))\n",
    "g"
   ]
  },
  {
   "cell_type": "code",
   "execution_count": 45,
   "id": "46d8ed51-2b19-458e-9a09-628b0a138083",
   "metadata": {},
   "outputs": [
    {
     "data": {
      "text/plain": [
       "1"
      ]
     },
     "execution_count": 45,
     "metadata": {},
     "output_type": "execute_result"
    }
   ],
   "source": [
    "# evaluate this cell until exception StopIteration\n",
    "next(g)"
   ]
  },
  {
   "cell_type": "code",
   "execution_count": 46,
   "id": "de73b6fa-013d-428f-958b-cedd4d54a934",
   "metadata": {},
   "outputs": [
    {
     "data": {
      "text/plain": [
       "295"
      ]
     },
     "execution_count": 46,
     "metadata": {},
     "output_type": "execute_result"
    }
   ],
   "source": [
    "sum(x**2 + 1 for x in range(10))"
   ]
  },
  {
   "cell_type": "markdown",
   "id": "dba4bcac-7d62-4b45-8ae2-cf191000019c",
   "metadata": {},
   "source": [
    "## Dictionaries"
   ]
  },
  {
   "cell_type": "markdown",
   "id": "988a705f-be10-43c3-a003-ea0be0cc1e6c",
   "metadata": {},
   "source": [
    "### A city as dictionary"
   ]
  },
  {
   "cell_type": "code",
   "execution_count": 47,
   "id": "4315ff0d-c539-40d9-8dff-dfa868369e69",
   "metadata": {},
   "outputs": [
    {
     "data": {
      "text/plain": [
       "{'name': 'Toulouse', 'population': 477000, 'code_postal': '31000'}"
      ]
     },
     "execution_count": 47,
     "metadata": {},
     "output_type": "execute_result"
    }
   ],
   "source": [
    "# dict[str, str | int] \n",
    "city = {\n",
    "    \"name\": \"Toulouse\",\n",
    "    \"population\": 477_000,\n",
    "    \"code_postal\": \"31000\",\n",
    "}\n",
    "city"
   ]
  },
  {
   "cell_type": "code",
   "execution_count": 48,
   "id": "5dbeed78-cc68-46b7-b16f-8b79e208006c",
   "metadata": {},
   "outputs": [
    {
     "data": {
      "text/plain": [
       "dict"
      ]
     },
     "execution_count": 48,
     "metadata": {},
     "output_type": "execute_result"
    }
   ],
   "source": [
    "type(city)"
   ]
  },
  {
   "cell_type": "code",
   "execution_count": 49,
   "id": "e6dcbf3a-4c73-46b1-9888-1708d3fafb6f",
   "metadata": {},
   "outputs": [
    {
     "data": {
      "text/plain": [
       "'Toulouse'"
      ]
     },
     "execution_count": 49,
     "metadata": {},
     "output_type": "execute_result"
    }
   ],
   "source": [
    "# get value associated to a key\n",
    "city[\"name\"]"
   ]
  },
  {
   "cell_type": "code",
   "execution_count": 50,
   "id": "be251215-b45f-47ab-8961-bcfe8dbe7f84",
   "metadata": {},
   "outputs": [],
   "source": [
    "# KeyError: 'mayor'\n",
    "# city[\"mayor\"]"
   ]
  },
  {
   "cell_type": "code",
   "execution_count": 51,
   "id": "f09178cf-6dc9-40b3-93ae-018eb1c74350",
   "metadata": {},
   "outputs": [
    {
     "data": {
      "text/plain": [
       "{'name': 'Toulouse', 'population': 487000, 'code_postal': '31000'}"
      ]
     },
     "execution_count": 51,
     "metadata": {},
     "output_type": "execute_result"
    }
   ],
   "source": [
    "city[\"population\"] += 10_000\n",
    "city"
   ]
  },
  {
   "cell_type": "code",
   "execution_count": 52,
   "id": "9909e8a4-0564-4b6f-aa8b-eefcc98cfa40",
   "metadata": {},
   "outputs": [
    {
     "data": {
      "text/plain": [
       "{'name': 'Toulouse',\n",
       " 'population': 487000,\n",
       " 'code_postal': '31000',\n",
       " 'area': 118.3}"
      ]
     },
     "execution_count": 52,
     "metadata": {},
     "output_type": "execute_result"
    }
   ],
   "source": [
    "city[\"area\"] = 118.3\n",
    "city"
   ]
  },
  {
   "cell_type": "code",
   "execution_count": 53,
   "id": "d682934a-36f9-4178-b27a-f61d2c7cc7c5",
   "metadata": {},
   "outputs": [
    {
     "data": {
      "text/plain": [
       "{'name': 'Toulouse', 'population': 487000, 'code_postal': '31000'}"
      ]
     },
     "execution_count": 53,
     "metadata": {},
     "output_type": "execute_result"
    }
   ],
   "source": [
    "del city[\"area\"]\n",
    "city"
   ]
  },
  {
   "cell_type": "code",
   "execution_count": 54,
   "id": "7a62dfb2-0449-4e9f-a87f-c371cd4b49f3",
   "metadata": {},
   "outputs": [],
   "source": [
    "# KeyError: 'area'\n",
    "# del city[\"area\"]"
   ]
  },
  {
   "cell_type": "code",
   "execution_count": 55,
   "id": "918a0736-ba49-4542-8e32-5f89fb7fafe0",
   "metadata": {},
   "outputs": [
    {
     "data": {
      "text/plain": [
       "3"
      ]
     },
     "execution_count": 55,
     "metadata": {},
     "output_type": "execute_result"
    }
   ],
   "source": [
    "len(city)"
   ]
  },
  {
   "cell_type": "code",
   "execution_count": 56,
   "id": "20cf4492-0ec7-434f-af26-9c2fb1eeb7d7",
   "metadata": {},
   "outputs": [],
   "source": [
    "# TypeError: object of type 'int' has no len()\n",
    "# len(123)"
   ]
  },
  {
   "cell_type": "code",
   "execution_count": 57,
   "id": "43d4dbcb-6d6b-4507-b0f1-279951c57fe7",
   "metadata": {},
   "outputs": [
    {
     "name": "stdout",
     "output_type": "stream",
     "text": [
      "name\n",
      "population\n",
      "code_postal\n"
     ]
    }
   ],
   "source": [
    "# default iteration: keys\n",
    "for info_name in city:\n",
    "    print(info_name)"
   ]
  },
  {
   "cell_type": "code",
   "execution_count": 58,
   "id": "d813ea0d-e686-4d31-89a3-9fcc94c70bba",
   "metadata": {},
   "outputs": [
    {
     "name": "stdout",
     "output_type": "stream",
     "text": [
      "name\n",
      "population\n",
      "code_postal\n"
     ]
    }
   ],
   "source": [
    "for info_name in city.keys():\n",
    "    print(info_name)"
   ]
  },
  {
   "cell_type": "code",
   "execution_count": 59,
   "id": "90e17dbc-2d51-4800-a7ce-4bb2f6d361f6",
   "metadata": {},
   "outputs": [
    {
     "name": "stdout",
     "output_type": "stream",
     "text": [
      "Toulouse\n",
      "487000\n",
      "31000\n"
     ]
    }
   ],
   "source": [
    "for info_value in city.values():\n",
    "    print(info_value)"
   ]
  },
  {
   "cell_type": "code",
   "execution_count": 60,
   "id": "f15daed5-1268-44b7-9cd9-302b08c7c25d",
   "metadata": {},
   "outputs": [
    {
     "name": "stdout",
     "output_type": "stream",
     "text": [
      "name = Toulouse\n",
      "population = 487000\n",
      "code_postal = 31000\n"
     ]
    }
   ],
   "source": [
    "for info_name, info_value in city.items():\n",
    "    print(info_name, info_value, sep=\" = \")"
   ]
  },
  {
   "cell_type": "markdown",
   "id": "a21767a6-5554-438f-b804-cb2a261c70ac",
   "metadata": {},
   "source": [
    "### List of dictionaries"
   ]
  },
  {
   "cell_type": "code",
   "execution_count": 61,
   "id": "ef960c14-e713-44e9-a655-7974289a085b",
   "metadata": {},
   "outputs": [
    {
     "data": {
      "text/plain": [
       "[{'name': 'Toulouse', 'population': 500000, 'code_postal': '31000'},\n",
       " {'name': 'Agen', 'population': 200000, 'code_postal': '47000'},\n",
       " {'name': 'Montauban', 'population': 100000, 'code_postal': '82000'},\n",
       " {'name': 'Lyon', 'population': 700000, 'code_postal': '69000'},\n",
       " {'name': 'Saint Etienne', 'population': 300000, 'code_postal': '42000'}]"
      ]
     },
     "execution_count": 61,
     "metadata": {},
     "output_type": "execute_result"
    }
   ],
   "source": [
    "list_cities = [\n",
    "    {'name': 'Toulouse', 'population': 500_000, 'code_postal': '31000'}, \n",
    "    {'name': 'Agen', 'population': 200_000, 'code_postal': '47000'}, \n",
    "    {'name': 'Montauban', 'population': 100_000, 'code_postal': '82000'}, \n",
    "    {'name': 'Lyon', 'population': 700_000, 'code_postal': '69000'}, \n",
    "    {'name': 'Saint Etienne', 'population': 300_000, 'code_postal': '42000'},\n",
    "]\n",
    "list_cities"
   ]
  },
  {
   "cell_type": "markdown",
   "id": "c82e6dde-343f-48bb-ae43-4945a50231d5",
   "metadata": {
    "editable": true,
    "slideshow": {
     "slide_type": ""
    },
    "tags": []
   },
   "source": [
    "#### Pretty print"
   ]
  },
  {
   "cell_type": "code",
   "execution_count": 62,
   "id": "8527125f-503f-4c93-a8ea-695bd97b3ff0",
   "metadata": {
    "editable": true,
    "slideshow": {
     "slide_type": ""
    },
    "tags": []
   },
   "outputs": [
    {
     "name": "stdout",
     "output_type": "stream",
     "text": [
      "Nom : Toulouse ; Habitants : 500000 ; Code Postal : 31000\n",
      "Nom : Agen ; Habitants : 200000 ; Code Postal : 47000\n",
      "Nom : Montauban ; Habitants : 100000 ; Code Postal : 82000\n",
      "Nom : Lyon ; Habitants : 700000 ; Code Postal : 69000\n",
      "Nom : Saint Etienne ; Habitants : 300000 ; Code Postal : 42000\n"
     ]
    }
   ],
   "source": [
    "for city in list_cities:\n",
    "    #print('Nom :', city[\"name\"])\n",
    "    print(f\"Nom : {city['name']} ; Habitants : {city['population']} ; Code Postal : {city['code_postal']}\")"
   ]
  },
  {
   "cell_type": "code",
   "execution_count": 63,
   "id": "a28cd719-29bc-4aac-b44d-e0e5c71e031a",
   "metadata": {},
   "outputs": [
    {
     "name": "stdout",
     "output_type": "stream",
     "text": [
      "name : Toulouse ; population : 500000 ; code_postal : 31000 ; \n",
      "name : Agen ; population : 200000 ; code_postal : 47000 ; \n",
      "name : Montauban ; population : 100000 ; code_postal : 82000 ; \n",
      "name : Lyon ; population : 700000 ; code_postal : 69000 ; \n",
      "name : Saint Etienne ; population : 300000 ; code_postal : 42000 ; \n"
     ]
    }
   ],
   "source": [
    "# Handle any type of dictionary\n",
    "for data in list_cities:\n",
    "    for key, value in data.items():\n",
    "        print(f\"{key} : {value} ; \", end='')\n",
    "    print()"
   ]
  },
  {
   "cell_type": "markdown",
   "id": "b03a1a54-1be9-4562-a45e-8e4038c1869d",
   "metadata": {},
   "source": [
    "#### Statistics\n",
    "Compute: total, min, max population"
   ]
  },
  {
   "cell_type": "code",
   "execution_count": 64,
   "id": "78788f5f-fbd8-4b98-9818-f4a81ac8fac9",
   "metadata": {},
   "outputs": [
    {
     "name": "stdout",
     "output_type": "stream",
     "text": [
      "500000\n",
      "200000\n",
      "100000\n",
      "700000\n",
      "300000\n"
     ]
    }
   ],
   "source": [
    "for city in list_cities:\n",
    "    print(city['population'])"
   ]
  },
  {
   "cell_type": "code",
   "execution_count": 65,
   "id": "16386abc-3a92-4313-9e16-80ad6516408c",
   "metadata": {},
   "outputs": [
    {
     "data": {
      "text/plain": [
       "[500000, 200000, 100000, 700000, 300000]"
      ]
     },
     "execution_count": 65,
     "metadata": {},
     "output_type": "execute_result"
    }
   ],
   "source": [
    "# list of populations\n",
    "[ city['population'] for city in list_cities ]"
   ]
  },
  {
   "cell_type": "code",
   "execution_count": 66,
   "id": "db5e53c9-aa39-4d8f-9dff-7a86459ef866",
   "metadata": {},
   "outputs": [
    {
     "data": {
      "text/plain": [
       "1800000"
      ]
     },
     "execution_count": 66,
     "metadata": {},
     "output_type": "execute_result"
    }
   ],
   "source": [
    "sum(city['population'] for city in list_cities)"
   ]
  },
  {
   "cell_type": "code",
   "execution_count": 67,
   "id": "998bbf93-baea-48fc-8c7b-3470f9c56700",
   "metadata": {},
   "outputs": [
    {
     "data": {
      "text/plain": [
       "100000"
      ]
     },
     "execution_count": 67,
     "metadata": {},
     "output_type": "execute_result"
    }
   ],
   "source": [
    "min(city['population'] for city in list_cities)"
   ]
  },
  {
   "cell_type": "code",
   "execution_count": 68,
   "id": "b08a1849-4457-4dbe-991b-f4098d84acec",
   "metadata": {},
   "outputs": [
    {
     "data": {
      "text/plain": [
       "700000"
      ]
     },
     "execution_count": 68,
     "metadata": {},
     "output_type": "execute_result"
    }
   ],
   "source": [
    "max(city['population'] for city in list_cities)"
   ]
  },
  {
   "cell_type": "markdown",
   "id": "c37432eb-4eb2-45e8-84b0-bf07d5de6b43",
   "metadata": {},
   "source": [
    "#### Sort \n",
    "sort list_cities by population DESC"
   ]
  },
  {
   "cell_type": "code",
   "execution_count": 69,
   "id": "8e1effdf-bf7a-40ca-ae66-c17ff7d39abd",
   "metadata": {},
   "outputs": [
    {
     "data": {
      "text/plain": [
       "[{'name': 'Lyon', 'population': 700000, 'code_postal': '69000'},\n",
       " {'name': 'Toulouse', 'population': 500000, 'code_postal': '31000'},\n",
       " {'name': 'Saint Etienne', 'population': 300000, 'code_postal': '42000'},\n",
       " {'name': 'Agen', 'population': 200000, 'code_postal': '47000'},\n",
       " {'name': 'Montauban', 'population': 100000, 'code_postal': '82000'}]"
      ]
     },
     "execution_count": 69,
     "metadata": {},
     "output_type": "execute_result"
    }
   ],
   "source": [
    "list_cities.sort(key=lambda city: city['population'], reverse=True)\n",
    "list_cities"
   ]
  },
  {
   "cell_type": "markdown",
   "id": "ee6a2528-6975-4cc9-ac3b-38308ed8f7bf",
   "metadata": {},
   "source": [
    "## Set\n",
    "unique value"
   ]
  },
  {
   "cell_type": "code",
   "execution_count": 70,
   "id": "b77b9689-956d-461e-854c-8e42007edc33",
   "metadata": {},
   "outputs": [
    {
     "data": {
      "text/plain": [
       "{1, 4, 12, 33, 65}"
      ]
     },
     "execution_count": 70,
     "metadata": {},
     "output_type": "execute_result"
    }
   ],
   "source": [
    "numbers = { 12, 4, 65, 4, 12, 33, 1 }\n",
    "numbers"
   ]
  },
  {
   "cell_type": "code",
   "execution_count": 71,
   "id": "e91b81b3-d24e-4fd1-8f64-ef76ed9105d7",
   "metadata": {},
   "outputs": [
    {
     "data": {
      "text/plain": [
       "{1, 4, 5, 12, 33, 65}"
      ]
     },
     "execution_count": 71,
     "metadata": {},
     "output_type": "execute_result"
    }
   ],
   "source": [
    "numbers.add(5)\n",
    "numbers.add(65)\n",
    "numbers"
   ]
  },
  {
   "cell_type": "code",
   "execution_count": 72,
   "id": "ea3ac510-525a-493f-a753-9bade5272eee",
   "metadata": {},
   "outputs": [
    {
     "name": "stdout",
     "output_type": "stream",
     "text": [
      "65\n",
      "1\n",
      "33\n",
      "4\n",
      "5\n",
      "12\n"
     ]
    }
   ],
   "source": [
    "for n in numbers:\n",
    "    print(n)"
   ]
  },
  {
   "cell_type": "code",
   "execution_count": 73,
   "id": "36311c71-3e18-4fca-beb2-04f725c5811d",
   "metadata": {},
   "outputs": [
    {
     "data": {
      "text/plain": [
       "6"
      ]
     },
     "execution_count": 73,
     "metadata": {},
     "output_type": "execute_result"
    }
   ],
   "source": [
    "len(numbers)"
   ]
  },
  {
   "cell_type": "code",
   "execution_count": 74,
   "id": "1f2ee505-10c0-4444-86cd-1bfec277b6be",
   "metadata": {},
   "outputs": [
    {
     "data": {
      "text/plain": [
       "{1, 4, 5, 12, 33}"
      ]
     },
     "execution_count": 74,
     "metadata": {},
     "output_type": "execute_result"
    }
   ],
   "source": [
    "numbers.remove(65)\n",
    "numbers"
   ]
  },
  {
   "cell_type": "markdown",
   "id": "1e10d505-888b-4725-a012-9c6dcdb9d159",
   "metadata": {},
   "source": [
    "## Contains"
   ]
  },
  {
   "cell_type": "code",
   "execution_count": 76,
   "id": "a979e821-9798-4d23-bf9a-3bce383cd71d",
   "metadata": {},
   "outputs": [],
   "source": [
    "list_numbers = [1, 4, 5, 12, 33]\n",
    "tuple_numbers = 1, 4, 5, 12, 33\n",
    "dict_numbers = {1: \"A\", 4: \"A\", 5: \"B\", 12: \"C\", 33: \"D\"}\n",
    "set_numbers = {1, 4, 5, 12, 33}"
   ]
  },
  {
   "cell_type": "code",
   "execution_count": 78,
   "id": "09e82aa1-1d09-41cd-bcc5-5bf212e2e021",
   "metadata": {},
   "outputs": [
    {
     "name": "stdout",
     "output_type": "stream",
     "text": [
      "True\n",
      "False\n"
     ]
    }
   ],
   "source": [
    "print(5 in list_numbers)\n",
    "print(7 in list_numbers)"
   ]
  },
  {
   "cell_type": "code",
   "execution_count": 79,
   "id": "dd6a25b3-2e20-4824-b60d-c8c99a9e9f42",
   "metadata": {},
   "outputs": [
    {
     "name": "stdout",
     "output_type": "stream",
     "text": [
      "True\n",
      "False\n"
     ]
    }
   ],
   "source": [
    "print(5 in tuple_numbers)\n",
    "print(7 in tuple_numbers)"
   ]
  },
  {
   "cell_type": "code",
   "execution_count": 80,
   "id": "4e3ff339-f575-4749-9e36-10e99f0a163c",
   "metadata": {},
   "outputs": [
    {
     "name": "stdout",
     "output_type": "stream",
     "text": [
      "True\n",
      "False\n"
     ]
    }
   ],
   "source": [
    "print(5 in set_numbers)\n",
    "print(7 in set_numbers)"
   ]
  },
  {
   "cell_type": "code",
   "execution_count": 81,
   "id": "a0a63427-6c0f-49a8-aa87-156047142b62",
   "metadata": {},
   "outputs": [
    {
     "name": "stdout",
     "output_type": "stream",
     "text": [
      "True\n",
      "False\n"
     ]
    }
   ],
   "source": [
    "# operator 'in' works on dict keys (by default)\n",
    "print(5 in dict_numbers)\n",
    "print(7 in dict_numbers)"
   ]
  },
  {
   "cell_type": "code",
   "execution_count": 82,
   "id": "d149b6e0-06f8-44a2-8438-326a4a61577e",
   "metadata": {},
   "outputs": [
    {
     "name": "stdout",
     "output_type": "stream",
     "text": [
      "True\n",
      "False\n"
     ]
    }
   ],
   "source": [
    "# operator 'in' on keys\n",
    "print(5 in dict_numbers.keys())\n",
    "print(7 in dict_numbers.keys())"
   ]
  },
  {
   "cell_type": "code",
   "execution_count": 85,
   "id": "31b1908d-c85d-4ff2-9309-42f1366707bb",
   "metadata": {},
   "outputs": [
    {
     "name": "stdout",
     "output_type": "stream",
     "text": [
      "False\n",
      "False\n",
      "True\n",
      "False\n"
     ]
    }
   ],
   "source": [
    "# operator 'in' on values\n",
    "print(5 in dict_numbers.values()) # always False\n",
    "print(7 in dict_numbers.values()) # always False\n",
    "print(\"A\" in dict_numbers.values())\n",
    "print(\"Z\" in dict_numbers.values())"
   ]
  },
  {
   "cell_type": "code",
   "execution_count": 87,
   "id": "303ad05d-c33a-40d9-ba1b-9b1ed874771c",
   "metadata": {},
   "outputs": [
    {
     "data": {
      "text/plain": [
       "True"
      ]
     },
     "execution_count": 87,
     "metadata": {},
     "output_type": "execute_result"
    }
   ],
   "source": [
    "\"coffee\" in \"time to coffee break\""
   ]
  }
 ],
 "metadata": {
  "kernelspec": {
   "display_name": "Python 3 (ipykernel)",
   "language": "python",
   "name": "python3"
  },
  "language_info": {
   "codemirror_mode": {
    "name": "ipython",
    "version": 3
   },
   "file_extension": ".py",
   "mimetype": "text/x-python",
   "name": "python",
   "nbconvert_exporter": "python",
   "pygments_lexer": "ipython3",
   "version": "3.11.7"
  }
 },
 "nbformat": 4,
 "nbformat_minor": 5
}
