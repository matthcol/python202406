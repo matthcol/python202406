{
 "cells": [
  {
   "cell_type": "markdown",
   "id": "021e7e00-64f8-4d7f-892c-93401e0aceb3",
   "metadata": {},
   "source": [
    "# Scientific Python"
   ]
  },
  {
   "cell_type": "code",
   "execution_count": 1,
   "id": "70a9d1fd-3558-45fe-93f2-b61131d8b1c0",
   "metadata": {},
   "outputs": [],
   "source": [
    "import numpy as np\n",
    "import matplotlib.pyplot as plt"
   ]
  },
  {
   "cell_type": "code",
   "execution_count": 2,
   "id": "f67e4674-3070-4008-a32d-577bdc82aa80",
   "metadata": {
    "scrolled": true
   },
   "outputs": [
    {
     "name": "stdout",
     "output_type": "stream",
     "text": [
      "[ 9.93221838 10.84868935 10.9115253  ...  7.3192943   6.77561005\n",
      " 11.86843526]\n"
     ]
    },
    {
     "data": {
      "image/png": "[encoded data removed]",
      "text/plain": [
       "<Figure size 640x480 with 1 Axes>"
      ]
     },
     "metadata": {},
     "output_type": "display_data"
    }
   ],
   "source": [
    "data = np.random.normal(10.0, 3.5, 1_000_000)\n",
    "print(data)\n",
    "_ = plt.hist(data, bins=100)"
   ]
  },
  {
   "cell_type": "code",
   "execution_count": 3,
   "id": "3bd149b3-be65-4360-ae33-4fefd7efcb56",
   "metadata": {},
   "outputs": [
    {
     "data": {
      "text/plain": [
       "numpy.ndarray"
      ]
     },
     "execution_count": 3,
     "metadata": {},
     "output_type": "execute_result"
    }
   ],
   "source": [
    "# n dimensional array\n",
    "type(data)"
   ]
  },
  {
   "cell_type": "code",
   "execution_count": 4,
   "id": "a4509c12-b695-4ff9-b2d4-8cc67eb4ca0c",
   "metadata": {},
   "outputs": [
    {
     "data": {
      "text/plain": [
       "array([ 9.93221838, 10.84868935, 10.9115253 , ...,  7.3192943 ,\n",
       "        6.77561005, 11.86843526])"
      ]
     },
     "execution_count": 4,
     "metadata": {},
     "output_type": "execute_result"
    }
   ],
   "source": [
    "data"
   ]
  },
  {
   "cell_type": "code",
   "execution_count": 5,
   "id": "93f2668a-4ae2-4987-9656-5156bfb04223",
   "metadata": {},
   "outputs": [
    {
     "data": {
      "text/plain": [
       "9.932218376999135"
      ]
     },
     "execution_count": 5,
     "metadata": {},
     "output_type": "execute_result"
    }
   ],
   "source": [
    "data[0]"
   ]
  },
  {
   "cell_type": "code",
   "execution_count": 6,
   "id": "199058ed-4448-4b6f-8527-518c3eaaeddd",
   "metadata": {},
   "outputs": [
    {
     "data": {
      "text/plain": [
       "array([ 9.93221838, 10.84868935, 10.9115253 , 14.33566511,  8.62205396,\n",
       "       12.59061829, 12.9721034 , 10.36154873, 10.3418482 , 12.17386599])"
      ]
     },
     "execution_count": 6,
     "metadata": {},
     "output_type": "execute_result"
    }
   ],
   "source": [
    "data[:10]"
   ]
  },
  {
   "cell_type": "code",
   "execution_count": 7,
   "id": "8596ad87-02f3-4d30-9728-a5ac198dd085",
   "metadata": {},
   "outputs": [
    {
     "data": {
      "text/plain": [
       "array([ 9.93221838,  8.99000954,  9.86687836,  3.31705586, 14.30179338,\n",
       "        5.37239753, 14.39819194, 21.01160062,  8.78416301, 10.73863937])"
      ]
     },
     "execution_count": 7,
     "metadata": {},
     "output_type": "execute_result"
    }
   ],
   "source": [
    "data[::100_000]"
   ]
  },
  {
   "cell_type": "code",
   "execution_count": 8,
   "id": "6ba6bfe1-463b-461f-87f1-56d50579e653",
   "metadata": {},
   "outputs": [
    {
     "data": {
      "text/plain": [
       "(1000000,)"
      ]
     },
     "execution_count": 8,
     "metadata": {},
     "output_type": "execute_result"
    }
   ],
   "source": [
    "data.shape"
   ]
  },
  {
   "cell_type": "code",
   "execution_count": 9,
   "id": "d857b8d6-c855-4b30-ba55-2796ad276ba8",
   "metadata": {},
   "outputs": [
    {
     "data": {
      "text/plain": [
       "array([[ 9.93221838, 10.84868935, 10.9115253 , ...,  9.00598704,\n",
       "         4.54616816, 13.95852767],\n",
       "       [ 6.91500273,  9.98238206, 12.02825053, ..., 15.36228474,\n",
       "        11.75108569, 11.60750837],\n",
       "       [ 9.93361705, 10.15049239,  3.91019581, ...,  4.22237953,\n",
       "         2.75300352,  5.89249049],\n",
       "       ...,\n",
       "       [ 7.45825284,  7.19709516,  8.87649366, ..., 11.80426077,\n",
       "         6.11514943,  9.19436071],\n",
       "       [13.54170273, 15.24388516, 10.99437055, ...,  6.09161154,\n",
       "         6.70579708, 16.05166306],\n",
       "       [ 7.90686237,  6.61903581, 10.16038666, ...,  7.3192943 ,\n",
       "         6.77561005, 11.86843526]])"
      ]
     },
     "execution_count": 9,
     "metadata": {},
     "output_type": "execute_result"
    }
   ],
   "source": [
    "data.shape = 1000, 1000\n",
    "data"
   ]
  },
  {
   "cell_type": "code",
   "execution_count": 10,
   "id": "235df2c5-83a2-4ecb-92ab-0629c686d257",
   "metadata": {},
   "outputs": [
    {
     "data": {
      "text/plain": [
       "(1000, 1000)"
      ]
     },
     "execution_count": 10,
     "metadata": {},
     "output_type": "execute_result"
    }
   ],
   "source": [
    "data.shape"
   ]
  },
  {
   "cell_type": "code",
   "execution_count": 11,
   "id": "03f5c331-23ed-4952-8089-9575bac7712d",
   "metadata": {},
   "outputs": [
    {
     "data": {
      "text/plain": [
       "9.932218376999135"
      ]
     },
     "execution_count": 11,
     "metadata": {},
     "output_type": "execute_result"
    }
   ],
   "source": [
    "data[0,0]"
   ]
  },
  {
   "cell_type": "code",
   "execution_count": 14,
   "id": "82f9b28b-515e-477e-97cf-9ade9dce074f",
   "metadata": {},
   "outputs": [
    {
     "data": {
      "text/plain": [
       "10.789835517174076"
      ]
     },
     "execution_count": 14,
     "metadata": {},
     "output_type": "execute_result"
    }
   ],
   "source": [
    "data[50, 856]"
   ]
  },
  {
   "cell_type": "code",
   "execution_count": 12,
   "id": "08ebddec-90e7-492c-969a-edcf8f987ca1",
   "metadata": {},
   "outputs": [
    {
     "data": {
      "text/plain": [
       "array([[ 9.93221838, 10.84868935, 10.9115253 , 14.33566511,  8.62205396],\n",
       "       [ 6.91500273,  9.98238206, 12.02825053, 14.68963749, 13.39825497],\n",
       "       [ 9.93361705, 10.15049239,  3.91019581,  2.37228801,  8.54523127],\n",
       "       [12.95785976,  9.66501159, 15.57193151, 10.32887342,  9.65271337],\n",
       "       [ 4.90592656,  9.22553142, 10.87626026,  5.50534472,  8.12437852]])"
      ]
     },
     "execution_count": 12,
     "metadata": {},
     "output_type": "execute_result"
    }
   ],
   "source": [
    "data[:5, :5]"
   ]
  },
  {
   "cell_type": "code",
   "execution_count": null,
   "id": "6d45acec-f26d-4e1e-9302-4abccda02489",
   "metadata": {},
   "outputs": [],
   "source": []
  }
 ],
 "metadata": {
  "kernelspec": {
   "display_name": "Python 3 (ipykernel)",
   "language": "python",
   "name": "python3"
  },
  "language_info": {
   "codemirror_mode": {
    "name": "ipython",
    "version": 3
   },
   "file_extension": ".py",
   "mimetype": "text/x-python",
   "name": "python",
   "nbconvert_exporter": "python",
   "pygments_lexer": "ipython3",
   "version": "3.11.7"
  }
 },
 "nbformat": 4,
 "nbformat_minor": 5
}
