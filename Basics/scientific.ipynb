{
 "cells": [
  {
   "cell_type": "markdown",
   "id": "021e7e00-64f8-4d7f-892c-93401e0aceb3",
   "metadata": {},
   "source": [
    "# Scientific Python"
   ]
  },
  {
   "cell_type": "code",
   "execution_count": 1,
   "id": "70a9d1fd-3558-45fe-93f2-b61131d8b1c0",
   "metadata": {},
   "outputs": [],
   "source": [
    "import numpy as np\n",
    "import matplotlib.pyplot as plt"
   ]
  },
  {
   "cell_type": "code",
   "execution_count": 2,
   "id": "f67e4674-3070-4008-a32d-577bdc82aa80",
   "metadata": {
    "scrolled": true
   },
   "outputs": [
    {
     "name": "stdout",
     "output_type": "stream",
     "text": [
      "[20.0402982  10.81669646  7.80513253 ... 13.7211101  12.35815331\n",
      " 11.52166275]\n"
     ]
    },
    {
     "data": {
      "image/png": "[encoded data removed]",
      "text/plain": [
       "<Figure size 640x480 with 1 Axes>"
      ]
     },
     "metadata": {},
     "output_type": "display_data"
    }
   ],
   "source": [
    "data = np.random.normal(10.0, 3.5, 1_000_000)\n",
    "print(data)\n",
    "_ = plt.hist(data, bins=100)"
   ]
  },
  {
   "cell_type": "code",
   "execution_count": 3,
   "id": "3bd149b3-be65-4360-ae33-4fefd7efcb56",
   "metadata": {},
   "outputs": [
    {
     "data": {
      "text/plain": [
       "numpy.ndarray"
      ]
     },
     "execution_count": 3,
     "metadata": {},
     "output_type": "execute_result"
    }
   ],
   "source": [
    "# n dimensional array\n",
    "type(data)"
   ]
  },
  {
   "cell_type": "code",
   "execution_count": 54,
   "id": "70f2614f-8e87-4900-886a-9ca6d023c2d3",
   "metadata": {},
   "outputs": [
    {
     "data": {
      "text/plain": [
       "numpy.ndarray"
      ]
     },
     "execution_count": 54,
     "metadata": {},
     "output_type": "execute_result"
    }
   ],
   "source": [
    "data.__class__"
   ]
  },
  {
   "cell_type": "markdown",
   "id": "0401b9de-cc8d-49e0-9da6-4c8e47e7e9d9",
   "metadata": {},
   "source": [
    "## Slices\n",
    "operator [] implemented by methods `__getitem__` and `__setitem__`"
   ]
  },
  {
   "cell_type": "code",
   "execution_count": 4,
   "id": "a4509c12-b695-4ff9-b2d4-8cc67eb4ca0c",
   "metadata": {},
   "outputs": [
    {
     "data": {
      "text/plain": [
       "array([20.0402982 , 10.81669646,  7.80513253, ..., 13.7211101 ,\n",
       "       12.35815331, 11.52166275])"
      ]
     },
     "execution_count": 4,
     "metadata": {},
     "output_type": "execute_result"
    }
   ],
   "source": [
    "data"
   ]
  },
  {
   "cell_type": "code",
   "execution_count": 5,
   "id": "93f2668a-4ae2-4987-9656-5156bfb04223",
   "metadata": {},
   "outputs": [
    {
     "data": {
      "text/plain": [
       "20.04029819660391"
      ]
     },
     "execution_count": 5,
     "metadata": {},
     "output_type": "execute_result"
    }
   ],
   "source": [
    "data[0]"
   ]
  },
  {
   "cell_type": "code",
   "execution_count": 6,
   "id": "199058ed-4448-4b6f-8527-518c3eaaeddd",
   "metadata": {},
   "outputs": [
    {
     "data": {
      "text/plain": [
       "array([20.0402982 , 10.81669646,  7.80513253, 10.23178843, 19.72774205,\n",
       "       10.22981113,  8.85041802,  5.86526347, 10.92990118,  5.20261199])"
      ]
     },
     "execution_count": 6,
     "metadata": {},
     "output_type": "execute_result"
    }
   ],
   "source": [
    "data[:10]"
   ]
  },
  {
   "cell_type": "code",
   "execution_count": 7,
   "id": "8596ad87-02f3-4d30-9728-a5ac198dd085",
   "metadata": {},
   "outputs": [
    {
     "data": {
      "text/plain": [
       "array([20.0402982 , 13.98645777, 12.22025714, 11.97106358, 11.9139397 ,\n",
       "        9.24101504, 16.40887385, 11.89953547,  5.22495729, 12.74245509])"
      ]
     },
     "execution_count": 7,
     "metadata": {},
     "output_type": "execute_result"
    }
   ],
   "source": [
    "data[::100_000]"
   ]
  },
  {
   "cell_type": "markdown",
   "id": "08b9b0a3-60cc-449e-bc08-235d1112e6c7",
   "metadata": {},
   "source": [
    "## Attributes"
   ]
  },
  {
   "cell_type": "code",
   "execution_count": 8,
   "id": "6ba6bfe1-463b-461f-87f1-56d50579e653",
   "metadata": {},
   "outputs": [
    {
     "data": {
      "text/plain": [
       "(1000000,)"
      ]
     },
     "execution_count": 8,
     "metadata": {},
     "output_type": "execute_result"
    }
   ],
   "source": [
    "data.shape"
   ]
  },
  {
   "cell_type": "code",
   "execution_count": 9,
   "id": "d857b8d6-c855-4b30-ba55-2796ad276ba8",
   "metadata": {},
   "outputs": [
    {
     "data": {
      "text/plain": [
       "array([[20.0402982 , 10.81669646,  7.80513253, ...,  8.30970128,\n",
       "        12.61272934, 14.81478157],\n",
       "       [11.93932631, 11.31788397,  4.25790284, ...,  4.48739369,\n",
       "         8.80107678,  2.91232491],\n",
       "       [ 9.78033655, 16.40430628,  5.0096523 , ..., 12.8774662 ,\n",
       "         9.82693591, 11.69429863],\n",
       "       ...,\n",
       "       [ 3.67628574, 10.85633818,  7.21044303, ...,  6.28270693,\n",
       "         4.5719805 ,  9.28118735],\n",
       "       [ 4.39114104, 12.28289264, 11.33492633, ...,  7.3164824 ,\n",
       "         6.27458912,  8.54131767],\n",
       "       [ 6.44567383, 10.34835882, 16.7304362 , ..., 13.7211101 ,\n",
       "        12.35815331, 11.52166275]])"
      ]
     },
     "execution_count": 9,
     "metadata": {},
     "output_type": "execute_result"
    }
   ],
   "source": [
    "data.shape = 1000, 1000\n",
    "data"
   ]
  },
  {
   "cell_type": "code",
   "execution_count": 10,
   "id": "235df2c5-83a2-4ecb-92ab-0629c686d257",
   "metadata": {},
   "outputs": [
    {
     "data": {
      "text/plain": [
       "(1000, 1000)"
      ]
     },
     "execution_count": 10,
     "metadata": {},
     "output_type": "execute_result"
    }
   ],
   "source": [
    "data.shape"
   ]
  },
  {
   "cell_type": "code",
   "execution_count": 11,
   "id": "03f5c331-23ed-4952-8089-9575bac7712d",
   "metadata": {},
   "outputs": [
    {
     "data": {
      "text/plain": [
       "20.04029819660391"
      ]
     },
     "execution_count": 11,
     "metadata": {},
     "output_type": "execute_result"
    }
   ],
   "source": [
    "data[0,0]"
   ]
  },
  {
   "cell_type": "code",
   "execution_count": 12,
   "id": "82f9b28b-515e-477e-97cf-9ade9dce074f",
   "metadata": {},
   "outputs": [
    {
     "data": {
      "text/plain": [
       "5.333800217575944"
      ]
     },
     "execution_count": 12,
     "metadata": {},
     "output_type": "execute_result"
    }
   ],
   "source": [
    "data[50, 856]"
   ]
  },
  {
   "cell_type": "code",
   "execution_count": 13,
   "id": "08ebddec-90e7-492c-969a-edcf8f987ca1",
   "metadata": {},
   "outputs": [
    {
     "data": {
      "text/plain": [
       "array([[20.0402982 , 10.81669646,  7.80513253, 10.23178843, 19.72774205],\n",
       "       [11.93932631, 11.31788397,  4.25790284, 10.13534001,  6.49768504],\n",
       "       [ 9.78033655, 16.40430628,  5.0096523 ,  9.32462277,  6.75845379],\n",
       "       [ 6.89769194, 11.68094503, 14.59365063, 13.40000507, 11.59265562],\n",
       "       [ 7.72031083, 10.66126135, 15.35224518,  5.91464095,  9.12074728]])"
      ]
     },
     "execution_count": 13,
     "metadata": {},
     "output_type": "execute_result"
    }
   ],
   "source": [
    "data[:5, :5]"
   ]
  },
  {
   "cell_type": "code",
   "execution_count": 14,
   "id": "270ff002-f175-4917-9ad2-2320f4754ecc",
   "metadata": {},
   "outputs": [
    {
     "data": {
      "text/plain": [
       "array([[[20.0402982 , 10.81669646,  7.80513253],\n",
       "        [ 6.0820685 ,  5.35153392,  7.4296643 ],\n",
       "        [10.58143496, 21.21108068,  5.38079445]],\n",
       "\n",
       "       [[ 2.72461707, 15.78423151,  6.83871691],\n",
       "        [ 5.13288611, 13.18187454,  7.08648456],\n",
       "        [13.1149494 ,  9.84427475,  8.66021075]],\n",
       "\n",
       "       [[14.16817119,  7.52023854,  2.94850754],\n",
       "        [ 5.9453987 ,  6.6421962 ,  8.61173938],\n",
       "        [ 9.51155561, 11.31770368, 15.08177197]]])"
      ]
     },
     "execution_count": 14,
     "metadata": {},
     "output_type": "execute_result"
    }
   ],
   "source": [
    "data.shape = 100, 100, 100\n",
    "data[:3, :3, :3]"
   ]
  },
  {
   "cell_type": "code",
   "execution_count": 15,
   "id": "6abc1177-629d-4b5a-86a3-1c6c3f12f79f",
   "metadata": {},
   "outputs": [
    {
     "data": {
      "text/plain": [
       "dtype('float64')"
      ]
     },
     "execution_count": 15,
     "metadata": {},
     "output_type": "execute_result"
    }
   ],
   "source": [
    "# int8, int16, int32, int64, uint8, \n",
    "# uint16, uint32, uint64\n",
    "# float32, float64\n",
    "# bool\n",
    "# datetime64\n",
    "data.dtype"
   ]
  },
  {
   "cell_type": "code",
   "execution_count": 17,
   "id": "2b200f1f-b5e5-43af-8f4b-53ea482714e2",
   "metadata": {},
   "outputs": [
    {
     "data": {
      "text/plain": [
       "array([[0, 0, 0, 0, 0],\n",
       "       [0, 0, 0, 0, 0],\n",
       "       [0, 0, 0, 0, 0],\n",
       "       [0, 0, 0, 0, 0],\n",
       "       [0, 0, 0, 0, 0]], dtype=uint8)"
      ]
     },
     "execution_count": 17,
     "metadata": {},
     "output_type": "execute_result"
    }
   ],
   "source": [
    "m = np.zeros((5, 5), dtype='uint8')\n",
    "m"
   ]
  },
  {
   "cell_type": "code",
   "execution_count": 21,
   "id": "31908a00-0661-4341-b55d-8a40f2f4a31b",
   "metadata": {},
   "outputs": [
    {
     "data": {
      "text/plain": [
       "(dtype('uint8'), (5, 5))"
      ]
     },
     "execution_count": 21,
     "metadata": {},
     "output_type": "execute_result"
    }
   ],
   "source": [
    "m.dtype, m.shape"
   ]
  },
  {
   "cell_type": "code",
   "execution_count": 19,
   "id": "b13a8584-306b-4f58-ae0d-8151aeba218c",
   "metadata": {},
   "outputs": [],
   "source": [
    "m[2,3] = 255"
   ]
  },
  {
   "cell_type": "code",
   "execution_count": 20,
   "id": "5dcc99c9-2549-4d2e-bc2d-27b6ffd9d5e5",
   "metadata": {},
   "outputs": [
    {
     "name": "stdout",
     "output_type": "stream",
     "text": [
      "[[  0   0   0   0   0]\n",
      " [  0   0   0   0   0]\n",
      " [  0   0   0 255   0]\n",
      " [  0   0   0   0   0]\n",
      " [  0   0   0   0   0]]\n"
     ]
    }
   ],
   "source": [
    "print(m)"
   ]
  },
  {
   "cell_type": "code",
   "execution_count": 22,
   "id": "8db675a2-e291-4afb-b276-f4b77f24872c",
   "metadata": {},
   "outputs": [
    {
     "data": {
      "text/plain": [
       "array([[  0,   0,   0,   0,   0],\n",
       "       [  0,   0,   0,   0,   0],\n",
       "       [  0,   0,   0,   0,   0],\n",
       "       [  0,   0, 255,   0,   0],\n",
       "       [  0,   0,   0,   0,   0]], dtype=uint8)"
      ]
     },
     "execution_count": 22,
     "metadata": {},
     "output_type": "execute_result"
    }
   ],
   "source": [
    "m.T"
   ]
  },
  {
   "cell_type": "markdown",
   "id": "7d54a5e4-6065-4cf7-862d-19320a6aed32",
   "metadata": {},
   "source": [
    "## Methods"
   ]
  },
  {
   "cell_type": "code",
   "execution_count": 23,
   "id": "289738ab-eacf-48fa-ac60-9d4a3ae28ca8",
   "metadata": {},
   "outputs": [
    {
     "data": {
      "text/plain": [
       "0"
      ]
     },
     "execution_count": 23,
     "metadata": {},
     "output_type": "execute_result"
    }
   ],
   "source": [
    "m.min()"
   ]
  },
  {
   "cell_type": "code",
   "execution_count": 24,
   "id": "6c185f8b-9a5f-45df-8933-a827b0b2d755",
   "metadata": {},
   "outputs": [
    {
     "data": {
      "text/plain": [
       "255"
      ]
     },
     "execution_count": 24,
     "metadata": {},
     "output_type": "execute_result"
    }
   ],
   "source": [
    "m.max()"
   ]
  },
  {
   "cell_type": "code",
   "execution_count": 31,
   "id": "b9af4b44-429c-4104-9ef9-e76b30edf0ac",
   "metadata": {},
   "outputs": [
    {
     "data": {
      "text/plain": [
       "array([  0,   0, 255,   0,   0], dtype=uint8)"
      ]
     },
     "execution_count": 31,
     "metadata": {},
     "output_type": "execute_result"
    }
   ],
   "source": [
    "# stat by row\n",
    "m.max(axis=1)"
   ]
  },
  {
   "cell_type": "code",
   "execution_count": 32,
   "id": "e9708d04-6ce9-4ee2-82ac-9d075e8ed183",
   "metadata": {},
   "outputs": [
    {
     "data": {
      "text/plain": [
       "array([  0,   0,   0, 255,   0], dtype=uint8)"
      ]
     },
     "execution_count": 32,
     "metadata": {},
     "output_type": "execute_result"
    }
   ],
   "source": [
    "# stat by column\n",
    "m.max(axis=0)"
   ]
  },
  {
   "cell_type": "code",
   "execution_count": 27,
   "id": "e6cb27e3-289f-4f92-8d87-1cc9c283efce",
   "metadata": {},
   "outputs": [
    {
     "data": {
      "text/plain": [
       "255"
      ]
     },
     "execution_count": 27,
     "metadata": {},
     "output_type": "execute_result"
    }
   ],
   "source": [
    "m.sum()"
   ]
  },
  {
   "cell_type": "code",
   "execution_count": 42,
   "id": "7731a1ab-d91a-4d79-9c86-5805f3a5ef08",
   "metadata": {},
   "outputs": [
    {
     "data": {
      "text/plain": [
       "(9.998326977787148, 3.4970965666066895, -6.461292861713652, 27.18654053457203)"
      ]
     },
     "execution_count": 42,
     "metadata": {},
     "output_type": "execute_result"
    }
   ],
   "source": [
    "data.mean(), data.std(), data.min(), data.max()"
   ]
  },
  {
   "cell_type": "code",
   "execution_count": 28,
   "id": "ce6efade-69c2-4328-81a7-bde1f0700e8f",
   "metadata": {},
   "outputs": [
    {
     "data": {
      "text/plain": [
       "array([  0,   0,   0, 255,   0], dtype=uint8)"
      ]
     },
     "execution_count": 28,
     "metadata": {},
     "output_type": "execute_result"
    }
   ],
   "source": [
    "# builtin function from python\n",
    "sum(m)"
   ]
  },
  {
   "cell_type": "code",
   "execution_count": 33,
   "id": "06e9d137-be82-40b0-a015-175a2efcb255",
   "metadata": {},
   "outputs": [
    {
     "data": {
      "text/plain": [
       "array([0, 0, 0, 0, 0], dtype=uint8)"
      ]
     },
     "execution_count": 33,
     "metadata": {},
     "output_type": "execute_result"
    }
   ],
   "source": [
    "m.diagonal()"
   ]
  },
  {
   "cell_type": "code",
   "execution_count": 35,
   "id": "49d50e10-f160-4d55-955e-5ccc127e7b98",
   "metadata": {},
   "outputs": [
    {
     "data": {
      "text/plain": [
       "array([  0,   0, 255,   0], dtype=uint8)"
      ]
     },
     "execution_count": 35,
     "metadata": {},
     "output_type": "execute_result"
    }
   ],
   "source": [
    "m.diagonal(offset=1)"
   ]
  },
  {
   "cell_type": "markdown",
   "id": "6684aa82-8d73-4afd-9bb3-6081c077b5d7",
   "metadata": {},
   "source": [
    "## Operators"
   ]
  },
  {
   "cell_type": "code",
   "execution_count": 36,
   "id": "69e81013-b61a-4ea0-aff0-4c300009515f",
   "metadata": {},
   "outputs": [
    {
     "data": {
      "text/plain": [
       "array([[ True,  True,  True,  True,  True],\n",
       "       [ True,  True,  True,  True,  True],\n",
       "       [ True,  True,  True, False,  True],\n",
       "       [ True,  True, False,  True,  True],\n",
       "       [ True,  True,  True,  True,  True]])"
      ]
     },
     "execution_count": 36,
     "metadata": {},
     "output_type": "execute_result"
    }
   ],
   "source": [
    "m == m.T"
   ]
  },
  {
   "cell_type": "code",
   "execution_count": 37,
   "id": "037d02c2-930d-45b0-b2b0-439651d7376e",
   "metadata": {},
   "outputs": [
    {
     "data": {
      "text/plain": [
       "array([[False, False, False, False, False],\n",
       "       [False, False, False, False, False],\n",
       "       [False, False, False,  True, False],\n",
       "       [False, False, False, False, False],\n",
       "       [False, False, False, False, False]])"
      ]
     },
     "execution_count": 37,
     "metadata": {},
     "output_type": "execute_result"
    }
   ],
   "source": [
    "m == 255"
   ]
  },
  {
   "cell_type": "code",
   "execution_count": 38,
   "id": "6d0683b3-188d-41ec-9e55-479c7bede6c1",
   "metadata": {},
   "outputs": [
    {
     "data": {
      "text/plain": [
       "array([[[ True, False, False, ..., False, False, False],\n",
       "        [False, False, False, ..., False, False, False],\n",
       "        [False,  True, False, ..., False, False, False],\n",
       "        ...,\n",
       "        [False, False, False, ..., False, False, False],\n",
       "        [False, False, False, ..., False, False, False],\n",
       "        [False, False, False, ..., False, False, False]],\n",
       "\n",
       "       [[False, False, False, ..., False, False, False],\n",
       "        [False, False, False, ..., False, False, False],\n",
       "        [False, False, False, ..., False, False, False],\n",
       "        ...,\n",
       "        [False, False, False, ..., False, False, False],\n",
       "        [False, False, False, ..., False, False, False],\n",
       "        [False, False, False, ..., False, False, False]],\n",
       "\n",
       "       [[False, False, False, ..., False, False, False],\n",
       "        [False, False, False, ..., False, False, False],\n",
       "        [False, False, False, ..., False, False, False],\n",
       "        ...,\n",
       "        [False, False, False, ..., False, False, False],\n",
       "        [False, False, False, ..., False, False, False],\n",
       "        [False, False, False, ..., False, False, False]],\n",
       "\n",
       "       ...,\n",
       "\n",
       "       [[False, False, False, ..., False, False, False],\n",
       "        [False, False, False, ..., False, False, False],\n",
       "        [False, False, False, ..., False, False, False],\n",
       "        ...,\n",
       "        [False, False, False, ..., False, False, False],\n",
       "        [False, False, False, ..., False, False, False],\n",
       "        [False, False, False, ..., False, False, False]],\n",
       "\n",
       "       [[False, False, False, ..., False, False, False],\n",
       "        [False, False, False, ..., False, False, False],\n",
       "        [False, False, False, ..., False, False, False],\n",
       "        ...,\n",
       "        [False, False, False, ..., False, False, False],\n",
       "        [False, False, False, ..., False, False, False],\n",
       "        [False, False, False, ..., False, False, False]],\n",
       "\n",
       "       [[False, False, False, ..., False, False, False],\n",
       "        [False, False, False, ..., False, False, False],\n",
       "        [False, False, False, ..., False, False, False],\n",
       "        ...,\n",
       "        [False, False, False, ..., False, False, False],\n",
       "        [False, False, False, ..., False, False, False],\n",
       "        [False, False, False, ..., False, False, False]]])"
      ]
     },
     "execution_count": 38,
     "metadata": {},
     "output_type": "execute_result"
    }
   ],
   "source": [
    "data > 20"
   ]
  },
  {
   "cell_type": "code",
   "execution_count": 40,
   "id": "3fb4958d-bd2b-4c10-9141-1f34cb6ed943",
   "metadata": {},
   "outputs": [
    {
     "data": {
      "text/plain": [
       "array([20.0402982 , 21.21108068, 20.70908934, ..., 20.95750817,\n",
       "       20.0054065 , 22.53306447])"
      ]
     },
     "execution_count": 40,
     "metadata": {},
     "output_type": "execute_result"
    }
   ],
   "source": [
    "data_gt20 = data[data > 20]\n",
    "data_gt20"
   ]
  },
  {
   "cell_type": "code",
   "execution_count": 41,
   "id": "d035247f-34fb-42ca-8c45-febfbcdd54be",
   "metadata": {},
   "outputs": [
    {
     "data": {
      "text/plain": [
       "2168"
      ]
     },
     "execution_count": 41,
     "metadata": {},
     "output_type": "execute_result"
    }
   ],
   "source": [
    "len(data_gt20)"
   ]
  },
  {
   "cell_type": "code",
   "execution_count": 46,
   "id": "d7018f24-b5de-4423-a716-f55c541f67cc",
   "metadata": {},
   "outputs": [
    {
     "data": {
      "text/plain": [
       "array([[ 0,  0,  0,  0,  0],\n",
       "       [ 0,  0,  0,  0,  0],\n",
       "       [ 0,  0,  0, 63,  0],\n",
       "       [ 0,  0,  0,  0,  0],\n",
       "       [ 0,  0,  0,  0,  0]], dtype=uint8)"
      ]
     },
     "execution_count": 46,
     "metadata": {},
     "output_type": "execute_result"
    }
   ],
   "source": [
    "m // 4"
   ]
  },
  {
   "cell_type": "code",
   "execution_count": 53,
   "id": "d43a4de1-c795-4a01-aac9-3ba066ff7918",
   "metadata": {},
   "outputs": [
    {
     "data": {
      "text/plain": [
       "array([[[30.0402982 , 20.81669646, 17.80513253],\n",
       "        [16.0820685 , 15.35153392, 17.4296643 ],\n",
       "        [20.58143496, 31.21108068, 15.38079445]],\n",
       "\n",
       "       [[12.72461707, 25.78423151, 16.83871691],\n",
       "        [15.13288611, 23.18187454, 17.08648456],\n",
       "        [23.1149494 , 19.84427475, 18.66021075]],\n",
       "\n",
       "       [[24.16817119, 17.52023854, 12.94850754],\n",
       "        [15.9453987 , 16.6421962 , 18.61173938],\n",
       "        [19.51155561, 21.31770368, 25.08177197]]])"
      ]
     },
     "execution_count": 53,
     "metadata": {},
     "output_type": "execute_result"
    }
   ],
   "source": [
    "# add => new ndarray: __add__\n",
    "data10 = data + 10\n",
    "data10[:3, :3, :3]"
   ]
  },
  {
   "cell_type": "code",
   "execution_count": 49,
   "id": "fcf20ef0-5c26-449e-b520-72d748f40166",
   "metadata": {},
   "outputs": [
    {
     "data": {
      "text/plain": [
       "(19.998326977787148, 3.4970965666066895, 3.538707138286348, 37.18654053457203)"
      ]
     },
     "execution_count": 49,
     "metadata": {},
     "output_type": "execute_result"
    }
   ],
   "source": [
    "data10.mean(), data10.std(), data10.min(), data10.max()"
   ]
  },
  {
   "cell_type": "code",
   "execution_count": 50,
   "id": "374a0fab-62e3-4fd3-8050-63e2fafeccfd",
   "metadata": {},
   "outputs": [
    {
     "data": {
      "text/plain": [
       "array([[0, 0, 0, 0, 0],\n",
       "       [0, 0, 0, 0, 0],\n",
       "       [0, 0, 0, 0, 0],\n",
       "       [0, 0, 0, 0, 0],\n",
       "       [0, 0, 0, 0, 0]], dtype=uint8)"
      ]
     },
     "execution_count": 50,
     "metadata": {},
     "output_type": "execute_result"
    }
   ],
   "source": [
    "m * m.T"
   ]
  },
  {
   "cell_type": "code",
   "execution_count": 51,
   "id": "67a4d247-58d4-482f-bbca-a2133778728a",
   "metadata": {},
   "outputs": [
    {
     "data": {
      "text/plain": [
       "array([[0, 0, 0, 0, 0],\n",
       "       [0, 0, 0, 0, 0],\n",
       "       [0, 0, 1, 0, 0],\n",
       "       [0, 0, 0, 0, 0],\n",
       "       [0, 0, 0, 0, 0]], dtype=uint8)"
      ]
     },
     "execution_count": 51,
     "metadata": {},
     "output_type": "execute_result"
    }
   ],
   "source": [
    "m @ m.T"
   ]
  },
  {
   "cell_type": "code",
   "execution_count": 52,
   "id": "a9041eaf-153b-4457-b4c3-5a65070a3d31",
   "metadata": {},
   "outputs": [
    {
     "data": {
      "text/plain": [
       "array([[[40.0402982 , 30.81669646, 27.80513253],\n",
       "        [26.0820685 , 25.35153392, 27.4296643 ],\n",
       "        [30.58143496, 41.21108068, 25.38079445]],\n",
       "\n",
       "       [[22.72461707, 35.78423151, 26.83871691],\n",
       "        [25.13288611, 33.18187454, 27.08648456],\n",
       "        [33.1149494 , 29.84427475, 28.66021075]],\n",
       "\n",
       "       [[34.16817119, 27.52023854, 22.94850754],\n",
       "        [25.9453987 , 26.6421962 , 28.61173938],\n",
       "        [29.51155561, 31.31770368, 35.08177197]]])"
      ]
     },
     "execution_count": 52,
     "metadata": {},
     "output_type": "execute_result"
    }
   ],
   "source": [
    "# inplace add: __iadd__\n",
    "data10 += 10\n",
    "data10[:3, :3, :3]"
   ]
  }
 ],
 "metadata": {
  "kernelspec": {
   "display_name": "Python 3 (ipykernel)",
   "language": "python",
   "name": "python3"
  },
  "language_info": {
   "codemirror_mode": {
    "name": "ipython",
    "version": 3
   },
   "file_extension": ".py",
   "mimetype": "text/x-python",
   "name": "python",
   "nbconvert_exporter": "python",
   "pygments_lexer": "ipython3",
   "version": "3.11.7"
  }
 },
 "nbformat": 4,
 "nbformat_minor": 5
}
