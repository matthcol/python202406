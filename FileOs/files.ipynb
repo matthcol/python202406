{
 "cells": [
  {
   "cell_type": "markdown",
   "id": "9cd78a88-ce5b-4ee3-88db-5045e1e273c6",
   "metadata": {},
   "source": [
    "# File system and operating system"
   ]
  },
  {
   "cell_type": "code",
   "execution_count": 110,
   "id": "1c22281a-1425-42ed-9aad-6ec689f1880f",
   "metadata": {},
   "outputs": [],
   "source": [
    "from pathlib import Path\n",
    "import os.path\n",
    "from datetime import datetime, timedelta\n",
    "from zipfile import ZipFile\n",
    "from PIL import Image\n",
    "import pandas as pd\n",
    "import csv\n",
    "import json"
   ]
  },
  {
   "cell_type": "markdown",
   "id": "9e0f4a87-40a7-4b50-8b6b-59599c3f41e3",
   "metadata": {},
   "source": [
    "## File system"
   ]
  },
  {
   "cell_type": "code",
   "execution_count": 3,
   "id": "dbb3298b-de64-44ac-a693-31d16a934575",
   "metadata": {},
   "outputs": [
    {
     "data": {
      "text/plain": [
       "WindowsPath('.')"
      ]
     },
     "execution_count": 3,
     "metadata": {},
     "output_type": "execute_result"
    }
   ],
   "source": [
    "current_dir = Path('.')\n",
    "current_dir"
   ]
  },
  {
   "cell_type": "code",
   "execution_count": 5,
   "id": "ed2e507f-972b-4c51-b259-95c40a5c4dd4",
   "metadata": {},
   "outputs": [
    {
     "data": {
      "text/plain": [
       "WindowsPath('C:/Users/Aelion/Documents/PythonPoo/FileOs')"
      ]
     },
     "execution_count": 5,
     "metadata": {},
     "output_type": "execute_result"
    }
   ],
   "source": [
    "absolute_path = current_dir.absolute()\n",
    "absolute_path"
   ]
  },
  {
   "cell_type": "code",
   "execution_count": 6,
   "id": "6d547d73-e776-446f-acb6-dcc3cc33223b",
   "metadata": {},
   "outputs": [
    {
     "name": "stdout",
     "output_type": "stream",
     "text": [
      "C:\\Users\\Aelion\\Documents\\PythonPoo\\FileOs\n"
     ]
    }
   ],
   "source": [
    "print(absolute_path)"
   ]
  },
  {
   "cell_type": "code",
   "execution_count": 8,
   "id": "d4188cbb-f8b7-493e-8023-ea775f6c6ed2",
   "metadata": {},
   "outputs": [
    {
     "data": {
      "text/plain": [
       "WindowsPath('C:/Users/Aelion/Documents/PythonPoo')"
      ]
     },
     "execution_count": 8,
     "metadata": {},
     "output_type": "execute_result"
    }
   ],
   "source": [
    "training_dir = Path('C:\\\\Users\\\\Aelion\\\\Documents\\\\PythonPoo')\n",
    "training_dir"
   ]
  },
  {
   "cell_type": "code",
   "execution_count": 9,
   "id": "93b4500c-9c50-41dc-8ec6-27b49400ad87",
   "metadata": {},
   "outputs": [
    {
     "data": {
      "text/plain": [
       "WindowsPath('C:/Users/Aelion/Documents/PythonPoo')"
      ]
     },
     "execution_count": 9,
     "metadata": {},
     "output_type": "execute_result"
    }
   ],
   "source": [
    "training_dir = Path('C:/Users/Aelion/Documents/PythonPoo')\n",
    "training_dir"
   ]
  },
  {
   "cell_type": "code",
   "execution_count": 11,
   "id": "d292d498-124c-4805-be33-3fb748907f16",
   "metadata": {},
   "outputs": [
    {
     "data": {
      "text/plain": [
       "[WindowsPath('.ipynb_checkpoints'),\n",
       " WindowsPath('files.ipynb'),\n",
       " WindowsPath('Photos.7z'),\n",
       " WindowsPath('Photos.zip')]"
      ]
     },
     "execution_count": 11,
     "metadata": {},
     "output_type": "execute_result"
    }
   ],
   "source": [
    "# iterdir returns a generator (lazy object)\n",
    "list(current_dir.iterdir())"
   ]
  },
  {
   "cell_type": "code",
   "execution_count": 26,
   "id": "b9c42b44-4f23-49d1-8615-63ca77bfae8d",
   "metadata": {},
   "outputs": [
    {
     "name": "stdout",
     "output_type": "stream",
     "text": [
      ".ipynb_checkpoints\n",
      "C:\\Users\\Aelion\\Documents\\PythonPoo\\FileOs\\.ipynb_checkpoints\n",
      ".ipynb_checkpoints\n",
      "directory: True ; file: False\n",
      "\n",
      "files.ipynb\n",
      "C:\\Users\\Aelion\\Documents\\PythonPoo\\FileOs\\files.ipynb\n",
      "files.ipynb\n",
      "directory: False ; file: True\n",
      "last modified: 2024-06-14 10:16:46.898154\n",
      "size: 6383\n",
      "1718353006.8981535 1718353006.8981535\n",
      "\n",
      "Photos.7z\n",
      "C:\\Users\\Aelion\\Documents\\PythonPoo\\FileOs\\Photos.7z\n",
      "Photos.7z\n",
      "directory: False ; file: True\n",
      "last modified: 2024-06-14 09:17:11.814491\n",
      "size: 1423278\n",
      "1718349431.8144908 1718349431.8144908\n",
      "\n",
      "Photos.zip\n",
      "C:\\Users\\Aelion\\Documents\\PythonPoo\\FileOs\\Photos.zip\n",
      "Photos.zip\n",
      "directory: False ; file: True\n",
      "last modified: 2024-06-14 09:18:46.651875\n",
      "size: 1734885\n",
      "1718349526.6518745 1718349526.6518745\n",
      "\n"
     ]
    }
   ],
   "source": [
    "for file in current_dir.iterdir():\n",
    "    print(file)\n",
    "    print(file.absolute())\n",
    "    print(file.name)\n",
    "    print(\n",
    "        'directory:', file.is_dir(),\n",
    "        '; file:', file.is_file()\n",
    "    )\n",
    "    if file.is_file():\n",
    "        metadata = file.stat()\n",
    "        modified_date = datetime.fromtimestamp(metadata.st_mtime)\n",
    "        print(\"last modified:\", modified_date)\n",
    "        print(\"size:\", metadata.st_size)\n",
    "        # alt. using os.path\n",
    "        modified_date2 = os.path.getmtime(file) # accept path object\n",
    "        modified_date3 = os.path.getmtime(str(file)) # accept text path \n",
    "        print(modified_date2, modified_date3)\n",
    "    print()"
   ]
  },
  {
   "cell_type": "code",
   "execution_count": 19,
   "id": "d1d4b23f-33d7-4f85-addd-e2d41c230e70",
   "metadata": {},
   "outputs": [
    {
     "data": {
      "text/plain": [
       "54.488575152207005"
      ]
     },
     "execution_count": 19,
     "metadata": {},
     "output_type": "execute_result"
    }
   ],
   "source": [
    "1718351706 / 3600 / 24 / 365"
   ]
  },
  {
   "cell_type": "code",
   "execution_count": 22,
   "id": "9893f420-39b9-4157-bbed-7fd9b781e263",
   "metadata": {},
   "outputs": [
    {
     "data": {
      "text/plain": [
       "datetime.datetime(1970, 1, 1, 2, 9, 0, 576529)"
      ]
     },
     "execution_count": 22,
     "metadata": {},
     "output_type": "execute_result"
    }
   ],
   "source": [
    "datetime.now() - timedelta(seconds=1718351706)"
   ]
  },
  {
   "cell_type": "markdown",
   "id": "6cc821ba-761c-470a-8a39-2b1e4de5b82b",
   "metadata": {},
   "source": [
    "## extract archive"
   ]
  },
  {
   "cell_type": "code",
   "execution_count": 28,
   "id": "bc08e7dc-fe0f-46e2-bd2d-2ec9f1f554d4",
   "metadata": {},
   "outputs": [
    {
     "data": {
      "text/plain": [
       "True"
      ]
     },
     "execution_count": 28,
     "metadata": {},
     "output_type": "execute_result"
    }
   ],
   "source": [
    "archive_path = Path('Photos.zip')\n",
    "archive_path.exists() and archive_path.is_file()"
   ]
  },
  {
   "cell_type": "markdown",
   "id": "cc004581-20e5-4f79-aae2-a2f374a1a604",
   "metadata": {},
   "source": [
    "NB: logical operator: or and not"
   ]
  },
  {
   "cell_type": "code",
   "execution_count": 32,
   "id": "a7d3ccf0-1c37-4cc7-a82a-1510d5d2790d",
   "metadata": {},
   "outputs": [],
   "source": [
    "with ZipFile(archive_path) as archive:\n",
    "    archive.extractall()\n",
    "# auto: archive.close()"
   ]
  },
  {
   "cell_type": "markdown",
   "id": "1e02ce35-7c3c-491b-915c-6887b01f1706",
   "metadata": {},
   "source": [
    "## Explore tree + filter"
   ]
  },
  {
   "cell_type": "code",
   "execution_count": 88,
   "id": "4b75f97f-86fe-4079-b048-77e238a45d7a",
   "metadata": {},
   "outputs": [
    {
     "data": {
      "text/plain": [
       "True"
      ]
     },
     "execution_count": 88,
     "metadata": {},
     "output_type": "execute_result"
    }
   ],
   "source": [
    "photo_dir = Path('Photos/')\n",
    "photo_dir.exists and photo_dir.is_dir()"
   ]
  },
  {
   "cell_type": "code",
   "execution_count": 89,
   "id": "9f5ce9a5-3d41-445e-8f7d-ecb129c9fd61",
   "metadata": {},
   "outputs": [
    {
     "name": "stdout",
     "output_type": "stream",
     "text": [
      "Photos\\IMG_20201024_155325.jpg\n",
      "Photos\\Set1\\IMG_20200711_110837.jpg\n",
      "Photos\\Set1\\IMG_20200711_120450.jpg\n",
      "Photos\\Set1\\IMG_20200731_112734.jpg\n",
      "Photos\\Set1\\IMG_20200731_124909.jpg\n",
      "Photos\\Set1\\IMG_20200731_124939.jpg\n",
      "Photos\\Set1\\IMG_20200731_134742.jpg\n",
      "Photos\\Set1\\IMG_20200809_101205.jpg\n",
      "Photos\\Set1\\IMG_20200809_111130.jpg\n",
      "Photos\\Set1\\IMG_20200809_124231.jpg\n",
      "Photos\\Set1\\IMG_20200809_125816.jpg\n",
      "Photos\\Set1\\IMG_20200821_104500.jpg\n",
      "Photos\\Set1\\IMG_20200905_113751.jpg\n",
      "Photos\\Set1\\IMG_20200913_192604.jpg\n",
      "Photos\\Set1\\IMG_20200927_122751.jpg\n",
      "Photos\\Set1\\IMG_20200927_131116.jpg\n",
      "Photos\\Set1\\IMG_20200927_152228.jpg\n",
      "Photos\\Set1\\IMG_20201024_155325.jpg\n",
      "Photos\\Set1\\other\\IMG_20200711_090914.jpg\n",
      "Photos\\Set2\\IMG_20200821_104500.jpg\n",
      "Photos\\Set2\\IMG_20200821_112947.jpg\n",
      "Photos\\Set2\\IMG_20200823_120734.jpg\n",
      "Photos\\Set2\\IMG_20200823_123302.jpg\n",
      "Photos\\Set2\\IMG_20200823_125206.jpg\n",
      "Photos\\Set2\\IMG_20200905_113751.jpg\n",
      "Photos\\Set2\\IMG_20200905_114619.jpg\n",
      "Photos\\Set2\\IMG_20200905_124848.jpg\n",
      "Photos\\Set2\\IMG_20200905_125209.jpg\n",
      "Photos\\Set2\\IMG_20200913_192604.jpg\n",
      "Photos\\Set2\\IMG_20200913_200240.jpg\n",
      "Photos\\Set2\\IMG_20200913_201318.jpg\n",
      "Photos\\Set2\\IMG_20200927_122751.jpg\n",
      "Photos\\Set2\\IMG_20200927_131116.jpg\n",
      "Photos\\Set2\\IMG_20200927_132629.jpg\n",
      "Photos\\Set2\\IMG_20200927_140349.jpg\n",
      "Photos\\Set2\\IMG_20200927_142109.jpg\n",
      "Photos\\Set2\\IMG_20200927_145738.jpg\n",
      "Photos\\Set2\\IMG_20200927_150306.jpg\n",
      "Photos\\Set2\\IMG_20200927_152228.jpg\n",
      "Photos\\Set2\\IMG_20201018_123159.jpg\n",
      "Photos\\Set2\\IMG_20201024_151252.jpg\n"
     ]
    }
   ],
   "source": [
    "for photo_path in photo_dir.glob('**/*.jpg'):\n",
    "    print(photo_path)"
   ]
  },
  {
   "cell_type": "code",
   "execution_count": 90,
   "id": "86f44d86-0f53-4831-b5c2-1fc870b53c89",
   "metadata": {},
   "outputs": [
    {
     "data": {
      "image/jpeg": "[encoded data removed]",
      "image/png": "[encoded data removed]",
      "text/plain": [
       "<PIL.JpegImagePlugin.JpegImageFile image mode=RGB size=400x300>"
      ]
     },
     "execution_count": 90,
     "metadata": {},
     "output_type": "execute_result"
    }
   ],
   "source": [
    "# work on last image\n",
    "img = Image.open(photo_path)\n",
    "img"
   ]
  },
  {
   "cell_type": "code",
   "execution_count": 91,
   "id": "b8e25637-dacc-4fdd-8621-d2dd02660c86",
   "metadata": {},
   "outputs": [
    {
     "name": "stdout",
     "output_type": "stream",
     "text": [
      "(400, 300) {34853: 847, 296: 2, 34665: 264, 271: 'Xiaomi', 272: 'Redmi Note 8T', 305: 'willow-user 9 PKQ1.190616.001 V11.0.7.0.PCXEUXM release-keys', 274: 1, 306: '2020:10:24 15:12:54', 531: 1, 282: 72.0, 283: 72.0}\n"
     ]
    }
   ],
   "source": [
    "print(img.size, img.getexif())"
   ]
  },
  {
   "cell_type": "code",
   "execution_count": 92,
   "id": "5f27f7f2-6f13-4c60-ab6a-4d8d9ef47a9a",
   "metadata": {},
   "outputs": [],
   "source": [
    "img.close()"
   ]
  },
  {
   "cell_type": "code",
   "execution_count": 93,
   "id": "dd6ddfcb-c186-4484-9486-6c8a90e5f79d",
   "metadata": {},
   "outputs": [
    {
     "name": "stdout",
     "output_type": "stream",
     "text": [
      "IMG_20201024_151252.jpg\n"
     ]
    },
    {
     "data": {
      "text/plain": [
       "('2020', '10', '24')"
      ]
     },
     "execution_count": 93,
     "metadata": {},
     "output_type": "execute_result"
    }
   ],
   "source": [
    "print(photo_path.name)\n",
    "tag_date =photo_path.name[4:12]\n",
    "year = tag_date[:4]\n",
    "month = tag_date[4:6]\n",
    "day = tag_date[6:]\n",
    "year, month, day"
   ]
  },
  {
   "cell_type": "code",
   "execution_count": 94,
   "id": "0d6a5d65-fa11-45b9-bd5f-c13098c6e703",
   "metadata": {},
   "outputs": [
    {
     "data": {
      "text/plain": [
       "True"
      ]
     },
     "execution_count": 94,
     "metadata": {},
     "output_type": "execute_result"
    }
   ],
   "source": [
    "photo_dest_dir = Path('Photos_Archives') / year / month / day\n",
    "photo_dest_dir.exists()"
   ]
  },
  {
   "cell_type": "code",
   "execution_count": 95,
   "id": "bfd59d15-cf7b-4fcf-9ca5-531d8026e5cb",
   "metadata": {},
   "outputs": [],
   "source": [
    "photo_dest_dir.mkdir(exist_ok=True, parents=True)"
   ]
  },
  {
   "cell_type": "code",
   "execution_count": 96,
   "id": "6d084cd5-8edf-48b6-adee-4bd8172ef1a5",
   "metadata": {},
   "outputs": [
    {
     "data": {
      "text/plain": [
       "WindowsPath('Photos_Archives/2020/10/24/IMG_20201024_151252.jpg')"
      ]
     },
     "execution_count": 96,
     "metadata": {},
     "output_type": "execute_result"
    }
   ],
   "source": [
    "photo_dest = photo_dest_dir / photo_path.name\n",
    "photo_dest"
   ]
  },
  {
   "cell_type": "code",
   "execution_count": 97,
   "id": "30ff967e-8761-4798-9263-d0d2e8aa01f2",
   "metadata": {},
   "outputs": [
    {
     "data": {
      "text/plain": [
       "WindowsPath('Photos_Archives/2020/10/24/IMG_20201024_151252.jpg')"
      ]
     },
     "execution_count": 97,
     "metadata": {},
     "output_type": "execute_result"
    }
   ],
   "source": [
    "# move\n",
    "photo_path.rename(photo_dest)"
   ]
  },
  {
   "cell_type": "markdown",
   "id": "71a92149-ab05-487e-866d-213dc6e76462",
   "metadata": {},
   "source": [
    "NB: see also: os.path, shutil\n",
    "move, delete, copy, ..."
   ]
  },
  {
   "cell_type": "markdown",
   "id": "b66a5d9e-5bbc-41ca-a02f-519c571c5c52",
   "metadata": {},
   "source": [
    "## CSV Files"
   ]
  },
  {
   "cell_type": "markdown",
   "id": "24e86542-54eb-4f86-b36e-cbe3aa941daa",
   "metadata": {},
   "source": [
    "### Encoding\n",
    "- 1 character = 1 byte (fr: octet)\n",
    "    - ASCII: 128 caractères A-Z a-z 0-0 + special characters\n",
    "    - latin 1 = ISO-8859-1 (256)\n",
    "    - ISO-8859-15 (256) + €, œ, Œ, Ÿ\n",
    "    - cp1252/ANSI (256) + €, œ, Œ, Ÿ\n",
    "- 1 character = 1+ byte(s)\n",
    "    - UNICODE: ~150000\n",
    "        - UTF-8\n",
    "        - UTF-16\n",
    "        - UTF-32"
   ]
  },
  {
   "cell_type": "code",
   "execution_count": 100,
   "id": "3369d1c9-32d5-4f47-ac08-8106465763c1",
   "metadata": {},
   "outputs": [
    {
     "data": {
      "text/plain": [
       "(128, 256)"
      ]
     },
     "execution_count": 100,
     "metadata": {},
     "output_type": "execute_result"
    }
   ],
   "source": [
    "2**7, 2**8"
   ]
  },
  {
   "cell_type": "code",
   "execution_count": 103,
   "id": "7acb84a0-69dc-4318-bc4a-057551ca4e49",
   "metadata": {},
   "outputs": [
    {
     "data": {
      "text/plain": [
       "('CŒUR', 'Ÿ')"
      ]
     },
     "execution_count": 103,
     "metadata": {},
     "output_type": "execute_result"
    }
   ],
   "source": [
    "\"cœur\".upper(), \"ÿ\".upper()"
   ]
  },
  {
   "cell_type": "code",
   "execution_count": 104,
   "id": "6b92344a-dee5-4ece-83c1-f259d07a7d08",
   "metadata": {},
   "outputs": [
    {
     "data": {
      "text/plain": [
       "\"L'HAŸ-LES-ROSES\""
      ]
     },
     "execution_count": 104,
     "metadata": {},
     "output_type": "execute_result"
    }
   ],
   "source": [
    "city = \"L'Haÿ-les-Roses\"\n",
    "city.upper()"
   ]
  },
  {
   "cell_type": "markdown",
   "id": "fe5cffa7-54cf-4900-9484-06a8241b918a",
   "metadata": {},
   "source": [
    "### Basic Reading"
   ]
  },
  {
   "cell_type": "code",
   "execution_count": 107,
   "id": "ce8dec42-1304-4f56-b27f-7e3189f4f36f",
   "metadata": {},
   "outputs": [
    {
     "data": {
      "text/plain": [
       "<_io.TextIOWrapper name='data/cities.csv' mode='r' encoding='UTF-8'>"
      ]
     },
     "execution_count": 107,
     "metadata": {},
     "output_type": "execute_result"
    }
   ],
   "source": [
    "# open in mode r=read and t=text\n",
    "f = open('data/cities.csv', encoding='UTF-8')\n",
    "f"
   ]
  },
  {
   "cell_type": "code",
   "execution_count": 108,
   "id": "2c5551d7-46d6-4e98-861d-970ca1a5d269",
   "metadata": {},
   "outputs": [],
   "source": [
    "lines = list(f)\n",
    "f.close()"
   ]
  },
  {
   "cell_type": "code",
   "execution_count": 109,
   "id": "d5dc6808-4e04-4595-be77-7b31a38292e5",
   "metadata": {},
   "outputs": [
    {
     "data": {
      "text/plain": [
       "['insee_code,city_code,zip_code,label,latitude,longitude,department_name,department_number,region_name,region_geojson_name\\n',\n",
       " '25620,ville du pont,25650,ville du pont,46.999873398,6.498147193,doubs,25,bourgogne-franche-comté,Bourgogne-Franche-Comté\\n',\n",
       " '25624,villers grelot,25640,villers grelot,47.361512085,6.235167025,doubs,25,bourgogne-franche-comté,Bourgogne-Franche-Comté\\n']"
      ]
     },
     "execution_count": 109,
     "metadata": {},
     "output_type": "execute_result"
    }
   ],
   "source": [
    "lines[:3]"
   ]
  },
  {
   "cell_type": "markdown",
   "id": "72f714e1-1504-4a21-82f5-07af47b0f02b",
   "metadata": {},
   "source": [
    "### CSV Reader\n",
    "module csv\n",
    "- reader/writer: list of list\n",
    "- DictReader/DictWriter: list pf dict"
   ]
  },
  {
   "cell_type": "code",
   "execution_count": 118,
   "id": "dce0eb42-385a-4e68-99a5-9b717537a03f",
   "metadata": {},
   "outputs": [
    {
     "name": "stdout",
     "output_type": "stream",
     "text": [
      "['insee_code', 'city_code', 'zip_code', 'label', 'latitude', 'longitude', 'department_name', 'department_number', 'region_name', 'region_geojson_name']\n"
     ]
    },
    {
     "data": {
      "text/plain": [
       "[['25620',\n",
       "  'ville du pont',\n",
       "  '25650',\n",
       "  'ville du pont',\n",
       "  '46.999873398',\n",
       "  '6.498147193',\n",
       "  'doubs',\n",
       "  '25',\n",
       "  'bourgogne-franche-comté',\n",
       "  'Bourgogne-Franche-Comté'],\n",
       " ['25624',\n",
       "  'villers grelot',\n",
       "  '25640',\n",
       "  'villers grelot',\n",
       "  '47.361512085',\n",
       "  '6.235167025',\n",
       "  'doubs',\n",
       "  '25',\n",
       "  'bourgogne-franche-comté',\n",
       "  'Bourgogne-Franche-Comté'],\n",
       " ['25615',\n",
       "  'villars les blamont',\n",
       "  '25310',\n",
       "  'villars les blamont',\n",
       "  '47.368383721',\n",
       "  '6.871414913',\n",
       "  'doubs',\n",
       "  '25',\n",
       "  'bourgogne-franche-comté',\n",
       "  'Bourgogne-Franche-Comté'],\n",
       " ['25619',\n",
       "  'les villedieu',\n",
       "  '25240',\n",
       "  'les villedieu',\n",
       "  '46.713906258',\n",
       "  '6.26583065',\n",
       "  'doubs',\n",
       "  '25',\n",
       "  'bourgogne-franche-comté',\n",
       "  'Bourgogne-Franche-Comté']]"
      ]
     },
     "execution_count": 118,
     "metadata": {},
     "output_type": "execute_result"
    }
   ],
   "source": [
    "with open('data/cities.csv', encoding=\"UTF-8\", newline='') as f:\n",
    "    reader = csv.reader(f, delimiter=',')\n",
    "    headers = next(reader)\n",
    "    data = list(reader)\n",
    "print(headers)\n",
    "data[:4]"
   ]
  },
  {
   "cell_type": "code",
   "execution_count": 119,
   "id": "541514b4-6393-4a68-bb1c-8a76ab49a6e0",
   "metadata": {},
   "outputs": [
    {
     "data": {
      "text/plain": [
       "39145"
      ]
     },
     "execution_count": 119,
     "metadata": {},
     "output_type": "execute_result"
    }
   ],
   "source": [
    "len(data)"
   ]
  },
  {
   "cell_type": "markdown",
   "id": "c1f80b37-9479-46e0-b942-323c44867713",
   "metadata": {},
   "source": [
    "### Pandas"
   ]
  },
  {
   "cell_type": "code",
   "execution_count": 121,
   "id": "41d8f3ba-b2fe-4a88-b9a4-69bbf517ed89",
   "metadata": {
    "collapsed": true,
    "jupyter": {
     "outputs_hidden": true
    },
    "scrolled": true
   },
   "outputs": [
    {
     "data": {
      "text/html": [
       "<div>\n",
       "<style scoped>\n",
       "    .dataframe tbody tr th:only-of-type {\n",
       "        vertical-align: middle;\n",
       "    }\n",
       "\n",
       "    .dataframe tbody tr th {\n",
       "        vertical-align: top;\n",
       "    }\n",
       "\n",
       "    .dataframe thead th {\n",
       "        text-align: right;\n",
       "    }\n",
       "</style>\n",
       "<table border=\"1\" class=\"dataframe\">\n",
       "  <thead>\n",
       "    <tr style=\"text-align: right;\">\n",
       "      <th></th>\n",
       "      <th>insee_code</th>\n",
       "      <th>city_code</th>\n",
       "      <th>zip_code</th>\n",
       "      <th>label</th>\n",
       "      <th>latitude</th>\n",
       "      <th>longitude</th>\n",
       "      <th>department_name</th>\n",
       "      <th>department_number</th>\n",
       "      <th>region_name</th>\n",
       "      <th>region_geojson_name</th>\n",
       "    </tr>\n",
       "  </thead>\n",
       "  <tbody>\n",
       "    <tr>\n",
       "      <th>0</th>\n",
       "      <td>25620</td>\n",
       "      <td>ville du pont</td>\n",
       "      <td>25650</td>\n",
       "      <td>ville du pont</td>\n",
       "      <td>46.999873398</td>\n",
       "      <td>6.498147193</td>\n",
       "      <td>doubs</td>\n",
       "      <td>25</td>\n",
       "      <td>bourgogne-franche-comté</td>\n",
       "      <td>Bourgogne-Franche-Comté</td>\n",
       "    </tr>\n",
       "    <tr>\n",
       "      <th>1</th>\n",
       "      <td>25624</td>\n",
       "      <td>villers grelot</td>\n",
       "      <td>25640</td>\n",
       "      <td>villers grelot</td>\n",
       "      <td>47.361512085</td>\n",
       "      <td>6.235167025</td>\n",
       "      <td>doubs</td>\n",
       "      <td>25</td>\n",
       "      <td>bourgogne-franche-comté</td>\n",
       "      <td>Bourgogne-Franche-Comté</td>\n",
       "    </tr>\n",
       "    <tr>\n",
       "      <th>2</th>\n",
       "      <td>25615</td>\n",
       "      <td>villars les blamont</td>\n",
       "      <td>25310</td>\n",
       "      <td>villars les blamont</td>\n",
       "      <td>47.368383721</td>\n",
       "      <td>6.871414913</td>\n",
       "      <td>doubs</td>\n",
       "      <td>25</td>\n",
       "      <td>bourgogne-franche-comté</td>\n",
       "      <td>Bourgogne-Franche-Comté</td>\n",
       "    </tr>\n",
       "    <tr>\n",
       "      <th>3</th>\n",
       "      <td>25619</td>\n",
       "      <td>les villedieu</td>\n",
       "      <td>25240</td>\n",
       "      <td>les villedieu</td>\n",
       "      <td>46.713906258</td>\n",
       "      <td>6.26583065</td>\n",
       "      <td>doubs</td>\n",
       "      <td>25</td>\n",
       "      <td>bourgogne-franche-comté</td>\n",
       "      <td>Bourgogne-Franche-Comté</td>\n",
       "    </tr>\n",
       "    <tr>\n",
       "      <th>4</th>\n",
       "      <td>25622</td>\n",
       "      <td>villers buzon</td>\n",
       "      <td>25170</td>\n",
       "      <td>villers buzon</td>\n",
       "      <td>47.228558434</td>\n",
       "      <td>5.852186748</td>\n",
       "      <td>doubs</td>\n",
       "      <td>25</td>\n",
       "      <td>bourgogne-franche-comté</td>\n",
       "      <td>Bourgogne-Franche-Comté</td>\n",
       "    </tr>\n",
       "    <tr>\n",
       "      <th>...</th>\n",
       "      <td>...</td>\n",
       "      <td>...</td>\n",
       "      <td>...</td>\n",
       "      <td>...</td>\n",
       "      <td>...</td>\n",
       "      <td>...</td>\n",
       "      <td>...</td>\n",
       "      <td>...</td>\n",
       "      <td>...</td>\n",
       "      <td>...</td>\n",
       "    </tr>\n",
       "    <tr>\n",
       "      <th>39140</th>\n",
       "      <td>98829</td>\n",
       "      <td>thio</td>\n",
       "      <td>98829</td>\n",
       "      <td>thio</td>\n",
       "      <td></td>\n",
       "      <td></td>\n",
       "      <td>nouvelle-calédonie</td>\n",
       "      <td>988</td>\n",
       "      <td>nouvelle-calédonie</td>\n",
       "      <td>Nouvelle Calédonie</td>\n",
       "    </tr>\n",
       "    <tr>\n",
       "      <th>39141</th>\n",
       "      <td>98831</td>\n",
       "      <td>voh</td>\n",
       "      <td>98833</td>\n",
       "      <td>voh</td>\n",
       "      <td></td>\n",
       "      <td></td>\n",
       "      <td>nouvelle-calédonie</td>\n",
       "      <td>988</td>\n",
       "      <td>nouvelle-calédonie</td>\n",
       "      <td>Nouvelle Calédonie</td>\n",
       "    </tr>\n",
       "    <tr>\n",
       "      <th>39142</th>\n",
       "      <td>98832</td>\n",
       "      <td>yate</td>\n",
       "      <td>98834</td>\n",
       "      <td>yate</td>\n",
       "      <td></td>\n",
       "      <td></td>\n",
       "      <td>nouvelle-calédonie</td>\n",
       "      <td>988</td>\n",
       "      <td>nouvelle-calédonie</td>\n",
       "      <td>Nouvelle Calédonie</td>\n",
       "    </tr>\n",
       "    <tr>\n",
       "      <th>39143</th>\n",
       "      <td>98612</td>\n",
       "      <td>sigave</td>\n",
       "      <td>98620</td>\n",
       "      <td>sigave</td>\n",
       "      <td>-14.270411199</td>\n",
       "      <td>-178.155263035</td>\n",
       "      <td>wallis-et-futuna</td>\n",
       "      <td>986</td>\n",
       "      <td>wallis-et-futuna</td>\n",
       "      <td>Wallis-et-Futuna</td>\n",
       "    </tr>\n",
       "    <tr>\n",
       "      <th>39144</th>\n",
       "      <td>98613</td>\n",
       "      <td>uvea</td>\n",
       "      <td>98600</td>\n",
       "      <td>uvea</td>\n",
       "      <td>-13.281862538</td>\n",
       "      <td>-176.161927918</td>\n",
       "      <td>wallis-et-futuna</td>\n",
       "      <td>986</td>\n",
       "      <td>wallis-et-futuna</td>\n",
       "      <td>Wallis-et-Futuna</td>\n",
       "    </tr>\n",
       "  </tbody>\n",
       "</table>\n",
       "<p>39145 rows × 10 columns</p>\n",
       "</div>"
      ],
      "text/plain": [
       "      insee_code            city_code zip_code                label  \\\n",
       "0          25620        ville du pont    25650        ville du pont   \n",
       "1          25624       villers grelot    25640       villers grelot   \n",
       "2          25615  villars les blamont    25310  villars les blamont   \n",
       "3          25619        les villedieu    25240        les villedieu   \n",
       "4          25622        villers buzon    25170        villers buzon   \n",
       "...          ...                  ...      ...                  ...   \n",
       "39140      98829                 thio    98829                 thio   \n",
       "39141      98831                  voh    98833                  voh   \n",
       "39142      98832                 yate    98834                 yate   \n",
       "39143      98612               sigave    98620               sigave   \n",
       "39144      98613                 uvea    98600                 uvea   \n",
       "\n",
       "            latitude       longitude     department_name department_number  \\\n",
       "0       46.999873398     6.498147193               doubs                25   \n",
       "1       47.361512085     6.235167025               doubs                25   \n",
       "2       47.368383721     6.871414913               doubs                25   \n",
       "3       46.713906258      6.26583065               doubs                25   \n",
       "4       47.228558434     5.852186748               doubs                25   \n",
       "...              ...             ...                 ...               ...   \n",
       "39140                                 nouvelle-calédonie               988   \n",
       "39141                                 nouvelle-calédonie               988   \n",
       "39142                                 nouvelle-calédonie               988   \n",
       "39143  -14.270411199  -178.155263035    wallis-et-futuna               986   \n",
       "39144  -13.281862538  -176.161927918    wallis-et-futuna               986   \n",
       "\n",
       "                   region_name      region_geojson_name  \n",
       "0      bourgogne-franche-comté  Bourgogne-Franche-Comté  \n",
       "1      bourgogne-franche-comté  Bourgogne-Franche-Comté  \n",
       "2      bourgogne-franche-comté  Bourgogne-Franche-Comté  \n",
       "3      bourgogne-franche-comté  Bourgogne-Franche-Comté  \n",
       "4      bourgogne-franche-comté  Bourgogne-Franche-Comté  \n",
       "...                        ...                      ...  \n",
       "39140       nouvelle-calédonie       Nouvelle Calédonie  \n",
       "39141       nouvelle-calédonie       Nouvelle Calédonie  \n",
       "39142       nouvelle-calédonie       Nouvelle Calédonie  \n",
       "39143         wallis-et-futuna         Wallis-et-Futuna  \n",
       "39144         wallis-et-futuna         Wallis-et-Futuna  \n",
       "\n",
       "[39145 rows x 10 columns]"
      ]
     },
     "execution_count": 121,
     "metadata": {},
     "output_type": "execute_result"
    }
   ],
   "source": [
    "df1 = pd.DataFrame(data, columns=headers)\n",
    "df1"
   ]
  },
  {
   "cell_type": "code",
   "execution_count": 134,
   "id": "c842d8fa-2b67-4b5a-ad8f-40c00bff539f",
   "metadata": {},
   "outputs": [
    {
     "data": {
      "text/html": [
       "<div>\n",
       "<style scoped>\n",
       "    .dataframe tbody tr th:only-of-type {\n",
       "        vertical-align: middle;\n",
       "    }\n",
       "\n",
       "    .dataframe tbody tr th {\n",
       "        vertical-align: top;\n",
       "    }\n",
       "\n",
       "    .dataframe thead th {\n",
       "        text-align: right;\n",
       "    }\n",
       "</style>\n",
       "<table border=\"1\" class=\"dataframe\">\n",
       "  <thead>\n",
       "    <tr style=\"text-align: right;\">\n",
       "      <th></th>\n",
       "      <th>insee_code</th>\n",
       "      <th>city_code</th>\n",
       "      <th>zip_code</th>\n",
       "      <th>label</th>\n",
       "      <th>latitude</th>\n",
       "      <th>longitude</th>\n",
       "      <th>department_name</th>\n",
       "      <th>department_number</th>\n",
       "      <th>region_name</th>\n",
       "      <th>region_geojson_name</th>\n",
       "    </tr>\n",
       "  </thead>\n",
       "  <tbody>\n",
       "    <tr>\n",
       "      <th>0</th>\n",
       "      <td>25620</td>\n",
       "      <td>ville du pont</td>\n",
       "      <td>25650</td>\n",
       "      <td>ville du pont</td>\n",
       "      <td>46.999873</td>\n",
       "      <td>6.498147</td>\n",
       "      <td>doubs</td>\n",
       "      <td>25</td>\n",
       "      <td>bourgogne-franche-comté</td>\n",
       "      <td>Bourgogne-Franche-Comté</td>\n",
       "    </tr>\n",
       "    <tr>\n",
       "      <th>1</th>\n",
       "      <td>25624</td>\n",
       "      <td>villers grelot</td>\n",
       "      <td>25640</td>\n",
       "      <td>villers grelot</td>\n",
       "      <td>47.361512</td>\n",
       "      <td>6.235167</td>\n",
       "      <td>doubs</td>\n",
       "      <td>25</td>\n",
       "      <td>bourgogne-franche-comté</td>\n",
       "      <td>Bourgogne-Franche-Comté</td>\n",
       "    </tr>\n",
       "    <tr>\n",
       "      <th>2</th>\n",
       "      <td>25615</td>\n",
       "      <td>villars les blamont</td>\n",
       "      <td>25310</td>\n",
       "      <td>villars les blamont</td>\n",
       "      <td>47.368384</td>\n",
       "      <td>6.871415</td>\n",
       "      <td>doubs</td>\n",
       "      <td>25</td>\n",
       "      <td>bourgogne-franche-comté</td>\n",
       "      <td>Bourgogne-Franche-Comté</td>\n",
       "    </tr>\n",
       "  </tbody>\n",
       "</table>\n",
       "</div>"
      ],
      "text/plain": [
       "  insee_code            city_code zip_code                label   latitude  \\\n",
       "0      25620        ville du pont    25650        ville du pont  46.999873   \n",
       "1      25624       villers grelot    25640       villers grelot  47.361512   \n",
       "2      25615  villars les blamont    25310  villars les blamont  47.368384   \n",
       "\n",
       "   longitude department_name department_number              region_name  \\\n",
       "0   6.498147           doubs                25  bourgogne-franche-comté   \n",
       "1   6.235167           doubs                25  bourgogne-franche-comté   \n",
       "2   6.871415           doubs                25  bourgogne-franche-comté   \n",
       "\n",
       "       region_geojson_name  \n",
       "0  Bourgogne-Franche-Comté  \n",
       "1  Bourgogne-Franche-Comté  \n",
       "2  Bourgogne-Franche-Comté  "
      ]
     },
     "execution_count": 134,
     "metadata": {},
     "output_type": "execute_result"
    }
   ],
   "source": [
    "df_cities = pd.read_csv('data/cities.csv', sep=',', encoding='UTF-8', dtype={'zip_code':'str'})\n",
    "df_cities.head(3)"
   ]
  },
  {
   "cell_type": "code",
   "execution_count": 135,
   "id": "cb01cd18-60ea-4b79-896d-d1db2545b1e6",
   "metadata": {},
   "outputs": [
    {
     "data": {
      "text/plain": [
       "pandas.core.frame.DataFrame"
      ]
     },
     "execution_count": 135,
     "metadata": {},
     "output_type": "execute_result"
    }
   ],
   "source": [
    "type(df_cities)"
   ]
  },
  {
   "cell_type": "code",
   "execution_count": 136,
   "id": "a44fda31-0962-403a-abdb-919ddeba7865",
   "metadata": {},
   "outputs": [
    {
     "name": "stdout",
     "output_type": "stream",
     "text": [
      "<class 'pandas.core.frame.DataFrame'>\n",
      "RangeIndex: 39145 entries, 0 to 39144\n",
      "Data columns (total 10 columns):\n",
      " #   Column               Non-Null Count  Dtype  \n",
      "---  ------               --------------  -----  \n",
      " 0   insee_code           39145 non-null  object \n",
      " 1   city_code            39145 non-null  object \n",
      " 2   zip_code             39145 non-null  object \n",
      " 3   label                39145 non-null  object \n",
      " 4   latitude             38934 non-null  float64\n",
      " 5   longitude            38934 non-null  float64\n",
      " 6   department_name      39145 non-null  object \n",
      " 7   department_number    39145 non-null  object \n",
      " 8   region_name          39145 non-null  object \n",
      " 9   region_geojson_name  39145 non-null  object \n",
      "dtypes: float64(2), object(8)\n",
      "memory usage: 3.0+ MB\n"
     ]
    }
   ],
   "source": [
    "df_cities.info()"
   ]
  },
  {
   "cell_type": "code",
   "execution_count": 138,
   "id": "4d4c09c8-bead-4198-964f-1a862e1f1de5",
   "metadata": {},
   "outputs": [],
   "source": [
    "# print(sorted(df_cities.zip_code.unique()))"
   ]
  },
  {
   "cell_type": "code",
   "execution_count": 140,
   "id": "7009df54-6b4b-4c02-8fcd-041aee04b04b",
   "metadata": {},
   "outputs": [
    {
     "data": {
      "text/plain": [
       "0              ville du pont\n",
       "1             villers grelot\n",
       "2        villars les blamont\n",
       "3              les villedieu\n",
       "4              villers buzon\n",
       "                ...         \n",
       "39140                   thio\n",
       "39141                    voh\n",
       "39142                   yate\n",
       "39143                 sigave\n",
       "39144                   uvea\n",
       "Name: label, Length: 39145, dtype: object"
      ]
     },
     "execution_count": 140,
     "metadata": {},
     "output_type": "execute_result"
    }
   ],
   "source": [
    "# type Series: column or row\n",
    "df_cities.label"
   ]
  },
  {
   "cell_type": "code",
   "execution_count": 141,
   "id": "64e8514b-ad89-400f-adff-4dc82a84276e",
   "metadata": {},
   "outputs": [
    {
     "data": {
      "text/plain": [
       "0              ville du pont\n",
       "1             villers grelot\n",
       "2        villars les blamont\n",
       "3              les villedieu\n",
       "4              villers buzon\n",
       "                ...         \n",
       "39140                   thio\n",
       "39141                    voh\n",
       "39142                   yate\n",
       "39143                 sigave\n",
       "39144                   uvea\n",
       "Name: label, Length: 39145, dtype: object"
      ]
     },
     "execution_count": 141,
     "metadata": {},
     "output_type": "execute_result"
    }
   ],
   "source": [
    "df_cities['label']"
   ]
  },
  {
   "cell_type": "code",
   "execution_count": 143,
   "id": "c4fb031e-59e5-4273-919f-c3f933a10399",
   "metadata": {},
   "outputs": [
    {
     "data": {
      "text/html": [
       "<div>\n",
       "<style scoped>\n",
       "    .dataframe tbody tr th:only-of-type {\n",
       "        vertical-align: middle;\n",
       "    }\n",
       "\n",
       "    .dataframe tbody tr th {\n",
       "        vertical-align: top;\n",
       "    }\n",
       "\n",
       "    .dataframe thead th {\n",
       "        text-align: right;\n",
       "    }\n",
       "</style>\n",
       "<table border=\"1\" class=\"dataframe\">\n",
       "  <thead>\n",
       "    <tr style=\"text-align: right;\">\n",
       "      <th></th>\n",
       "      <th>label</th>\n",
       "      <th>zip_code</th>\n",
       "    </tr>\n",
       "  </thead>\n",
       "  <tbody>\n",
       "    <tr>\n",
       "      <th>0</th>\n",
       "      <td>ville du pont</td>\n",
       "      <td>25650</td>\n",
       "    </tr>\n",
       "    <tr>\n",
       "      <th>1</th>\n",
       "      <td>villers grelot</td>\n",
       "      <td>25640</td>\n",
       "    </tr>\n",
       "    <tr>\n",
       "      <th>2</th>\n",
       "      <td>villars les blamont</td>\n",
       "      <td>25310</td>\n",
       "    </tr>\n",
       "    <tr>\n",
       "      <th>3</th>\n",
       "      <td>les villedieu</td>\n",
       "      <td>25240</td>\n",
       "    </tr>\n",
       "    <tr>\n",
       "      <th>4</th>\n",
       "      <td>villers buzon</td>\n",
       "      <td>25170</td>\n",
       "    </tr>\n",
       "    <tr>\n",
       "      <th>...</th>\n",
       "      <td>...</td>\n",
       "      <td>...</td>\n",
       "    </tr>\n",
       "    <tr>\n",
       "      <th>39140</th>\n",
       "      <td>thio</td>\n",
       "      <td>98829</td>\n",
       "    </tr>\n",
       "    <tr>\n",
       "      <th>39141</th>\n",
       "      <td>voh</td>\n",
       "      <td>98833</td>\n",
       "    </tr>\n",
       "    <tr>\n",
       "      <th>39142</th>\n",
       "      <td>yate</td>\n",
       "      <td>98834</td>\n",
       "    </tr>\n",
       "    <tr>\n",
       "      <th>39143</th>\n",
       "      <td>sigave</td>\n",
       "      <td>98620</td>\n",
       "    </tr>\n",
       "    <tr>\n",
       "      <th>39144</th>\n",
       "      <td>uvea</td>\n",
       "      <td>98600</td>\n",
       "    </tr>\n",
       "  </tbody>\n",
       "</table>\n",
       "<p>39145 rows × 2 columns</p>\n",
       "</div>"
      ],
      "text/plain": [
       "                     label zip_code\n",
       "0            ville du pont    25650\n",
       "1           villers grelot    25640\n",
       "2      villars les blamont    25310\n",
       "3            les villedieu    25240\n",
       "4            villers buzon    25170\n",
       "...                    ...      ...\n",
       "39140                 thio    98829\n",
       "39141                  voh    98833\n",
       "39142                 yate    98834\n",
       "39143               sigave    98620\n",
       "39144                 uvea    98600\n",
       "\n",
       "[39145 rows x 2 columns]"
      ]
     },
     "execution_count": 143,
     "metadata": {},
     "output_type": "execute_result"
    }
   ],
   "source": [
    "# 2+ columns\n",
    "df_cities[['label','zip_code']]"
   ]
  },
  {
   "cell_type": "code",
   "execution_count": 147,
   "id": "ca9feefc-f6f6-473f-932c-9a69393da5cd",
   "metadata": {},
   "outputs": [
    {
     "data": {
      "text/html": [
       "<div>\n",
       "<style scoped>\n",
       "    .dataframe tbody tr th:only-of-type {\n",
       "        vertical-align: middle;\n",
       "    }\n",
       "\n",
       "    .dataframe tbody tr th {\n",
       "        vertical-align: top;\n",
       "    }\n",
       "\n",
       "    .dataframe thead th {\n",
       "        text-align: right;\n",
       "    }\n",
       "</style>\n",
       "<table border=\"1\" class=\"dataframe\">\n",
       "  <thead>\n",
       "    <tr style=\"text-align: right;\">\n",
       "      <th></th>\n",
       "      <th>insee_code</th>\n",
       "      <th>city_code</th>\n",
       "      <th>zip_code</th>\n",
       "      <th>label</th>\n",
       "      <th>latitude</th>\n",
       "      <th>longitude</th>\n",
       "      <th>department_name</th>\n",
       "      <th>department_number</th>\n",
       "      <th>region_name</th>\n",
       "      <th>region_geojson_name</th>\n",
       "    </tr>\n",
       "  </thead>\n",
       "  <tbody>\n",
       "    <tr>\n",
       "      <th>5528</th>\n",
       "      <td>01004</td>\n",
       "      <td>amberieu en bugey</td>\n",
       "      <td>01500</td>\n",
       "      <td>amberieu en bugey</td>\n",
       "      <td>45.961049</td>\n",
       "      <td>5.372275</td>\n",
       "      <td>ain</td>\n",
       "      <td>01</td>\n",
       "      <td>auvergne-rhône-alpes</td>\n",
       "      <td>Auvergne-Rhône-Alpes</td>\n",
       "    </tr>\n",
       "    <tr>\n",
       "      <th>20381</th>\n",
       "      <td>01005</td>\n",
       "      <td>amberieux en dombes</td>\n",
       "      <td>01330</td>\n",
       "      <td>amberieux en dombes</td>\n",
       "      <td>45.996164</td>\n",
       "      <td>4.911967</td>\n",
       "      <td>ain</td>\n",
       "      <td>01</td>\n",
       "      <td>auvergne-rhône-alpes</td>\n",
       "      <td>Auvergne-Rhône-Alpes</td>\n",
       "    </tr>\n",
       "    <tr>\n",
       "      <th>20382</th>\n",
       "      <td>01006</td>\n",
       "      <td>ambleon</td>\n",
       "      <td>01300</td>\n",
       "      <td>ambleon</td>\n",
       "      <td>45.749886</td>\n",
       "      <td>5.594585</td>\n",
       "      <td>ain</td>\n",
       "      <td>01</td>\n",
       "      <td>auvergne-rhône-alpes</td>\n",
       "      <td>Auvergne-Rhône-Alpes</td>\n",
       "    </tr>\n",
       "    <tr>\n",
       "      <th>4640</th>\n",
       "      <td>01007</td>\n",
       "      <td>ambronay</td>\n",
       "      <td>01500</td>\n",
       "      <td>ambronay</td>\n",
       "      <td>46.005691</td>\n",
       "      <td>5.357749</td>\n",
       "      <td>ain</td>\n",
       "      <td>01</td>\n",
       "      <td>auvergne-rhône-alpes</td>\n",
       "      <td>Auvergne-Rhône-Alpes</td>\n",
       "    </tr>\n",
       "    <tr>\n",
       "      <th>4605</th>\n",
       "      <td>01008</td>\n",
       "      <td>ambutrix</td>\n",
       "      <td>01500</td>\n",
       "      <td>ambutrix</td>\n",
       "      <td>45.936683</td>\n",
       "      <td>5.332447</td>\n",
       "      <td>ain</td>\n",
       "      <td>01</td>\n",
       "      <td>auvergne-rhône-alpes</td>\n",
       "      <td>Auvergne-Rhône-Alpes</td>\n",
       "    </tr>\n",
       "    <tr>\n",
       "      <th>...</th>\n",
       "      <td>...</td>\n",
       "      <td>...</td>\n",
       "      <td>...</td>\n",
       "      <td>...</td>\n",
       "      <td>...</td>\n",
       "      <td>...</td>\n",
       "      <td>...</td>\n",
       "      <td>...</td>\n",
       "      <td>...</td>\n",
       "      <td>...</td>\n",
       "    </tr>\n",
       "    <tr>\n",
       "      <th>39123</th>\n",
       "      <td>98830</td>\n",
       "      <td>touho</td>\n",
       "      <td>98831</td>\n",
       "      <td>touho</td>\n",
       "      <td>NaN</td>\n",
       "      <td>NaN</td>\n",
       "      <td>nouvelle-calédonie</td>\n",
       "      <td>988</td>\n",
       "      <td>nouvelle-calédonie</td>\n",
       "      <td>Nouvelle Calédonie</td>\n",
       "    </tr>\n",
       "    <tr>\n",
       "      <th>39118</th>\n",
       "      <td>98809</td>\n",
       "      <td>l ile des pins</td>\n",
       "      <td>98832</td>\n",
       "      <td>vao</td>\n",
       "      <td>NaN</td>\n",
       "      <td>NaN</td>\n",
       "      <td>nouvelle-calédonie</td>\n",
       "      <td>988</td>\n",
       "      <td>nouvelle-calédonie</td>\n",
       "      <td>Nouvelle Calédonie</td>\n",
       "    </tr>\n",
       "    <tr>\n",
       "      <th>39141</th>\n",
       "      <td>98831</td>\n",
       "      <td>voh</td>\n",
       "      <td>98833</td>\n",
       "      <td>voh</td>\n",
       "      <td>NaN</td>\n",
       "      <td>NaN</td>\n",
       "      <td>nouvelle-calédonie</td>\n",
       "      <td>988</td>\n",
       "      <td>nouvelle-calédonie</td>\n",
       "      <td>Nouvelle Calédonie</td>\n",
       "    </tr>\n",
       "    <tr>\n",
       "      <th>39107</th>\n",
       "      <td>98814</td>\n",
       "      <td>lifou</td>\n",
       "      <td>98820</td>\n",
       "      <td>we</td>\n",
       "      <td>NaN</td>\n",
       "      <td>NaN</td>\n",
       "      <td>nouvelle-calédonie</td>\n",
       "      <td>988</td>\n",
       "      <td>nouvelle-calédonie</td>\n",
       "      <td>Nouvelle Calédonie</td>\n",
       "    </tr>\n",
       "    <tr>\n",
       "      <th>39142</th>\n",
       "      <td>98832</td>\n",
       "      <td>yate</td>\n",
       "      <td>98834</td>\n",
       "      <td>yate</td>\n",
       "      <td>NaN</td>\n",
       "      <td>NaN</td>\n",
       "      <td>nouvelle-calédonie</td>\n",
       "      <td>988</td>\n",
       "      <td>nouvelle-calédonie</td>\n",
       "      <td>Nouvelle Calédonie</td>\n",
       "    </tr>\n",
       "  </tbody>\n",
       "</table>\n",
       "<p>39145 rows × 10 columns</p>\n",
       "</div>"
      ],
      "text/plain": [
       "      insee_code            city_code zip_code                label  \\\n",
       "5528       01004    amberieu en bugey    01500    amberieu en bugey   \n",
       "20381      01005  amberieux en dombes    01330  amberieux en dombes   \n",
       "20382      01006              ambleon    01300              ambleon   \n",
       "4640       01007             ambronay    01500             ambronay   \n",
       "4605       01008             ambutrix    01500             ambutrix   \n",
       "...          ...                  ...      ...                  ...   \n",
       "39123      98830                touho    98831                touho   \n",
       "39118      98809       l ile des pins    98832                  vao   \n",
       "39141      98831                  voh    98833                  voh   \n",
       "39107      98814                lifou    98820                   we   \n",
       "39142      98832                 yate    98834                 yate   \n",
       "\n",
       "        latitude  longitude     department_name department_number  \\\n",
       "5528   45.961049   5.372275                 ain                01   \n",
       "20381  45.996164   4.911967                 ain                01   \n",
       "20382  45.749886   5.594585                 ain                01   \n",
       "4640   46.005691   5.357749                 ain                01   \n",
       "4605   45.936683   5.332447                 ain                01   \n",
       "...          ...        ...                 ...               ...   \n",
       "39123        NaN        NaN  nouvelle-calédonie               988   \n",
       "39118        NaN        NaN  nouvelle-calédonie               988   \n",
       "39141        NaN        NaN  nouvelle-calédonie               988   \n",
       "39107        NaN        NaN  nouvelle-calédonie               988   \n",
       "39142        NaN        NaN  nouvelle-calédonie               988   \n",
       "\n",
       "                region_name   region_geojson_name  \n",
       "5528   auvergne-rhône-alpes  Auvergne-Rhône-Alpes  \n",
       "20381  auvergne-rhône-alpes  Auvergne-Rhône-Alpes  \n",
       "20382  auvergne-rhône-alpes  Auvergne-Rhône-Alpes  \n",
       "4640   auvergne-rhône-alpes  Auvergne-Rhône-Alpes  \n",
       "4605   auvergne-rhône-alpes  Auvergne-Rhône-Alpes  \n",
       "...                     ...                   ...  \n",
       "39123    nouvelle-calédonie    Nouvelle Calédonie  \n",
       "39118    nouvelle-calédonie    Nouvelle Calédonie  \n",
       "39141    nouvelle-calédonie    Nouvelle Calédonie  \n",
       "39107    nouvelle-calédonie    Nouvelle Calédonie  \n",
       "39142    nouvelle-calédonie    Nouvelle Calédonie  \n",
       "\n",
       "[39145 rows x 10 columns]"
      ]
     },
     "execution_count": 147,
     "metadata": {},
     "output_type": "execute_result"
    }
   ],
   "source": [
    "df_cities.sort_values(['department_number','label'], inplace=True)\n",
    "df_cities"
   ]
  },
  {
   "cell_type": "code",
   "execution_count": null,
   "id": "c258aa5a-4508-4f04-8d8e-8599395efe16",
   "metadata": {},
   "outputs": [],
   "source": []
  }
 ],
 "metadata": {
  "kernelspec": {
   "display_name": "Python 3 (ipykernel)",
   "language": "python",
   "name": "python3"
  },
  "language_info": {
   "codemirror_mode": {
    "name": "ipython",
    "version": 3
   },
   "file_extension": ".py",
   "mimetype": "text/x-python",
   "name": "python",
   "nbconvert_exporter": "python",
   "pygments_lexer": "ipython3",
   "version": "3.11.7"
  }
 },
 "nbformat": 4,
 "nbformat_minor": 5
}
